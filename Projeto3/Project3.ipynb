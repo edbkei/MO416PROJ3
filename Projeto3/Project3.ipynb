{
 "cells": [
  {
   "cell_type": "markdown",
   "metadata": {},
   "source": [
    "# Projeto 3: Verificação da eficiência da campanha sobre vendas de depósito bancário a prazo por meio de telemarketing\n",
    "\n",
    "Um banco português solicitou uma pesquisa sobre a eficiência da campanha sobre vendas de depósito bancário a longo prazo por meio de telemarketing, i.e. por algum meio de contato telefônico. O potencial cliente é submetido à uma série de questionamentos onde as respostas são registradas como mostram os campos abaixo, que como podem ser percebidos há alguns com valores categóricos e numéricos, que são as variáveis independentes. O resultado da abordagem pode induzir o potencial cliente a adquirir um plano de depósito bancário a longo prazo, ou não. Isto é representado por uma variável dependente \"y\", que contém um valor categórico yes (sim) ou não (no). O nosso problema é tentar encontrar um modelo de predição que meça a eficiência da campanha, baseado no dataset [2], que é um repositório de dados de machine learning disponibilizado ao público, depois de uma pesquisa realizada por um banco português [1]. Para tentar resolver esse problema, vamos utilizar um classificador Supervised Learning, como já é dado uma variável dependente. Logistic Regression é a primeira opção.\n",
    "\n",
    "Regressão Logística, ou Logistic Regression, em Machine Learning é uma técnica de aprendizado supervisionado que consiste na regressão de um modelo matemático que relaciona variáveis de entrada $X{_i} (i=1,2,...,n)$ a diferentes grupos de classificação. Para isso, é usada a função \\textit{Sigmoid} para determinar a probabilidade de um determinado conjunto de variáveis a pertencerem a determinado grupo:\n",
    "\n",
    "$$h_{\\theta}(x) = \\frac{1}{1+e^{-\\theta^{T}x}}$$\n",
    "\n",
    "Assim como em Regressões Lineares, na Regressão Logística o melhor modelo de classificação é encontrado através da utilização do algoritmo de Gradiente Descendente, atualizando os valores de $\\theta{_j}$ até encontrar o minímo da função custo $J$:\n",
    "\n",
    "$$J(\\theta) = -\\frac{1}{m}\\displaystyle\\sum_{i=1}^{m}y^{(i)}log(h_{\\theta}(x^{(i)})) + (1-y^{(i)})log(1-h_{\\theta}(x^{(i)}))$$\n",
    "\n",
    "Quando o melhor modelo de classificação é encontrado, tal classificação está relacionado apenas a uma classe, sendo considerado um modelo de classificação binária por apenas determinar se um dado pode ser considerado da classe em questão ou não.\n",
    "\n",
    "### Dados do cliente do banco:\n",
    "<ol>\n",
    "<li>age (numeric)</li>\n",
    "<li>job : type of job (categorical: 'admin.','blue-collar','entrepreneur','housemaid','management','retired','self-employed','services','student','technician','unemployed','unknown')</li>\n",
    "<li>marital : marital status (categorical: 'divorced','married','single','unknown'; note: 'divorced' means divorced or widowed)</li>\n",
    "<li>education (categorical: 'basic.4y','basic.6y','basic.9y','high.school','illiterate','professional.course','university.degree','unknown')</li>\n",
    "<li>default: has credit in default? (categorical: 'no','yes','unknown')</li>\n",
    "<li>housing: has housing loan? (categorical: 'no','yes','unknown')</li>\n",
    "<li>loan: has personal loan? (categorical: 'no','yes','unknown')</li>\n",
    "</ol>\n",
    "\n",
    "### Dados relativos ao último contato dentro da campanha corrente\n",
    "<ol>\n",
    "<li value=\"8\">contact: contact communication type (categorical: 'cellular','telephone')</li>\n",
    "<li>month: last contact month of year (categorical: 'jan', 'feb', 'mar', ..., 'nov', 'dec')</li>\n",
    "<li>day_of_week: last contact day of the week (categorical: 'mon','tue','wed','thu','fri'</li>\n",
    "<li>duration: last contact duration, in seconds (numeric). Important note: this attribute highly affects the output target (e.g., if duration=0 then y='no'). Yet, the duration is not known before a call is performed. Also, after the end of the call y is obviously known. Thus, this input should only be included for benchmark purposes and should be discarded if the intention is to have a realistic predictive model.</li>\n",
    "</ol>\n",
    "\n",
    "### Outras atividades:\n",
    "<ol>\n",
    "<li value=\"12\">campaign: number of contacts performed during this campaign and for this client (numeric, includes last contact).</li>\n",
    "<li>pdays: number of days that passed by after the client was last contacted from a previous campaign (numeric; 999 means client was not previously contacted).</li>\n",
    "<li>previous: number of contacts performed before this campaign and for this client (numeric).</li>\n",
    "<li>poutcome: outcome of the previous marketing campaign (categorical: 'failure','nonexistent','success').</li>\n",
    "</ol>\n",
    "\n",
    "### Atributos do contexto social e econômico\n",
    "<ol>\n",
    "<li value='16'>emp.var.rate: employment variation rate - quarterly indicator (numeric)</li>\n",
    "<li>cons.price.idx: consumer price index - monthly indicator (numeric)</li>\n",
    "<li>cons.conf.idx: consumer confidence index - monthly indicator (numeric)</li>\n",
    "<li>euribor3m: euribor 3 month rate - daily indicator (numeric)</li>\n",
    "<li>nr.employed: number of employees - quarterly indicator (numeric)</li>\n",
    "</ol>\n",
    "\n",
    "### Variável Dependente (variável de predição):\n",
    "<ol>\n",
    "<li value='21'>y - has the client subscribed a term deposit? (binary: 'yes','no')</li>\n",
    "</ol>"
   ]
  },
  {
   "cell_type": "markdown",
   "metadata": {},
   "source": [
    "### Referência \n",
    "\n",
    "<p>[1] [Moro et al., 2014] S. Moro, P. Cortez and P. Rita. A Data-Driven Approach to Predict the Success of Bank Telemarketing. Decision Support Systems, Elsevier, 62:22-31, June 2014</p>\n",
    "\n",
    "<p>[2] Bank Marketing Data Set, Machine Learning Repository, http://archive.ics.uci.edu/ml/datasets/Bank+Marketing, accessed: 2020-07-15</p>"
   ]
  },
  {
   "cell_type": "markdown",
   "metadata": {},
   "source": [
    "## 1. Extração e Exploração dos Dados"
   ]
  },
  {
   "cell_type": "code",
   "execution_count": 1,
   "metadata": {},
   "outputs": [
    {
     "name": "stdout",
     "output_type": "stream",
     "text": [
      "dimensões do dataframe:  (41188, 21)\n",
      " \n",
      "colunas:  ['age', 'job', 'marital', 'education', 'default', 'housing', 'loan', 'contact', 'month', 'day_of_week', 'duration', 'campaign', 'pdays', 'previous', 'poutcome', 'emp.var.rate', 'cons.price.idx', 'cons.conf.idx', 'euribor3m', 'nr.employed', 'y']\n",
      " \n",
      "<class 'pandas.core.frame.DataFrame'>\n",
      "Int64Index: 41188 entries, 0 to 41187\n",
      "Data columns (total 21 columns):\n",
      " #   Column          Non-Null Count  Dtype  \n",
      "---  ------          --------------  -----  \n",
      " 0   age             41188 non-null  int64  \n",
      " 1   job             41188 non-null  object \n",
      " 2   marital         41188 non-null  object \n",
      " 3   education       41188 non-null  object \n",
      " 4   default         41188 non-null  object \n",
      " 5   housing         41188 non-null  object \n",
      " 6   loan            41188 non-null  object \n",
      " 7   contact         41188 non-null  object \n",
      " 8   month           41188 non-null  object \n",
      " 9   day_of_week     41188 non-null  object \n",
      " 10  duration        41188 non-null  int64  \n",
      " 11  campaign        41188 non-null  int64  \n",
      " 12  pdays           41188 non-null  int64  \n",
      " 13  previous        41188 non-null  int64  \n",
      " 14  poutcome        41188 non-null  object \n",
      " 15  emp.var.rate    41188 non-null  float64\n",
      " 16  cons.price.idx  41188 non-null  float64\n",
      " 17  cons.conf.idx   41188 non-null  float64\n",
      " 18  euribor3m       41188 non-null  float64\n",
      " 19  nr.employed     41188 non-null  float64\n",
      " 20  y               41188 non-null  object \n",
      "dtypes: float64(5), int64(5), object(11)\n",
      "memory usage: 6.9+ MB\n",
      " \n",
      "               age      duration      campaign         pdays      previous  \\\n",
      "count  41188.00000  41188.000000  41188.000000  41188.000000  41188.000000   \n",
      "mean      40.02406    258.285010      2.567593    962.475454      0.172963   \n",
      "std       10.42125    259.279249      2.770014    186.910907      0.494901   \n",
      "min       17.00000      0.000000      1.000000      0.000000      0.000000   \n",
      "25%       32.00000    102.000000      1.000000    999.000000      0.000000   \n",
      "50%       38.00000    180.000000      2.000000    999.000000      0.000000   \n",
      "75%       47.00000    319.000000      3.000000    999.000000      0.000000   \n",
      "max       98.00000   4918.000000     56.000000    999.000000      7.000000   \n",
      "\n",
      "       emp.var.rate  cons.price.idx  cons.conf.idx     euribor3m   nr.employed  \n",
      "count  41188.000000    41188.000000   41188.000000  41188.000000  41188.000000  \n",
      "mean       0.081886       93.575664     -40.502600      3.621291   5167.035911  \n",
      "std        1.570960        0.578840       4.628198      1.734447     72.251528  \n",
      "min       -3.400000       92.201000     -50.800000      0.634000   4963.600000  \n",
      "25%       -1.800000       93.075000     -42.700000      1.344000   5099.100000  \n",
      "50%        1.100000       93.749000     -41.800000      4.857000   5191.000000  \n",
      "75%        1.400000       93.994000     -36.400000      4.961000   5228.100000  \n",
      "max        1.400000       94.767000     -26.900000      5.045000   5228.100000  \n"
     ]
    }
   ],
   "source": [
    "import pandas as pd\n",
    "import numpy as np\n",
    "from sklearn import preprocessing\n",
    "import matplotlib.pyplot as plt \n",
    "plt.rc(\"font\", size=14)\n",
    "from sklearn.linear_model import LogisticRegression\n",
    "from sklearn.model_selection import train_test_split\n",
    "import seaborn as sns\n",
    "sns.set(style=\"white\")\n",
    "sns.set(style=\"whitegrid\", color_codes=True)\n",
    "data=pd.read_csv('bank-additional-full.csv',header=0,sep=';')\n",
    "data=data.dropna()\n",
    "import warnings\n",
    "warnings.filterwarnings('ignore')\n",
    "print('dimensões do dataframe: ',data.shape)\n",
    "print(' ')\n",
    "print(\"colunas: \",list(data.columns))\n",
    "print(\" \")\n",
    "data.info()\n",
    "print(\" \")\n",
    "print(data.describe())"
   ]
  },
  {
   "cell_type": "markdown",
   "metadata": {},
   "source": [
    "Nota: Observa-se que 25%, 50%, 75% e o max da amostra da variável pdays está em 999, que significa que o cliente não foi previamente contatado em nenhuma campanha prévia. Algum tratamento deverá ser realizado.\n",
    "\n",
    "Em relação ao age (idade), a mediana (50o. percentil) e a média de idade dos clientes é cerca de 40 anos. A duração média da chamada é de 259 segundos (4.3 min), se bem que a mediana é mais baixa 102s (1.7min). Na média, os clientes foram contactados (campaign) 2.5 vezes e uma mediana de 2. Na maior parte das vezes, os clientes nunca foram antes contactados (pdays), o valor 999 está presente no 1o quartil, mediana e no 3o quartil. O que é corroborado pelo contato prévio (previous) com uma média menor que 1 contato, antes desta campanha. Possivelmente, não houve uma campanha de marketing agressiva anteriormente. A taxa de emprego (emp.var.rate) não varia substancialmente, nem o índice de preço ao consumidor (cons.price.idx), nem o número de emprego (nr.employed) e nem o índice de confiança ao consumidor (cons.conf.idx). O euribor3m mostra alguma evolução com o passar do tempo. \n",
    "\n",
    "Abaixo observa-se a distribuição do pdays"
   ]
  },
  {
   "cell_type": "code",
   "execution_count": 2,
   "metadata": {},
   "outputs": [
    {
     "data": {
      "text/plain": [
       "999    39673\n",
       "3        439\n",
       "6        412\n",
       "4        118\n",
       "9         64\n",
       "2         61\n",
       "7         60\n",
       "12        58\n",
       "10        52\n",
       "5         46\n",
       "13        36\n",
       "11        28\n",
       "1         26\n",
       "15        24\n",
       "14        20\n",
       "8         18\n",
       "0         15\n",
       "16        11\n",
       "17         8\n",
       "18         7\n",
       "19         3\n",
       "22         3\n",
       "21         2\n",
       "26         1\n",
       "20         1\n",
       "25         1\n",
       "27         1\n",
       "Name: pdays, dtype: int64"
      ]
     },
     "execution_count": 2,
     "metadata": {},
     "output_type": "execute_result"
    }
   ],
   "source": [
    "data['pdays'].value_counts()"
   ]
  },
  {
   "cell_type": "markdown",
   "metadata": {},
   "source": [
    "Nota: o valor 999 pode corromper a estatística do pdays. O grande número de 999 indica que a maioria não foi contactado anteriormente."
   ]
  },
  {
   "cell_type": "markdown",
   "metadata": {},
   "source": [
    "### Verificação dos dados categóricos"
   ]
  },
  {
   "cell_type": "code",
   "execution_count": 3,
   "metadata": {},
   "outputs": [
    {
     "data": {
      "text/html": [
       "<div>\n",
       "<style scoped>\n",
       "    .dataframe tbody tr th:only-of-type {\n",
       "        vertical-align: middle;\n",
       "    }\n",
       "\n",
       "    .dataframe tbody tr th {\n",
       "        vertical-align: top;\n",
       "    }\n",
       "\n",
       "    .dataframe thead th {\n",
       "        text-align: right;\n",
       "    }\n",
       "</style>\n",
       "<table border=\"1\" class=\"dataframe\">\n",
       "  <thead>\n",
       "    <tr style=\"text-align: right;\">\n",
       "      <th></th>\n",
       "      <th>age</th>\n",
       "      <th>job</th>\n",
       "      <th>marital</th>\n",
       "      <th>education</th>\n",
       "      <th>default</th>\n",
       "      <th>housing</th>\n",
       "      <th>loan</th>\n",
       "      <th>contact</th>\n",
       "      <th>month</th>\n",
       "      <th>day_of_week</th>\n",
       "      <th>...</th>\n",
       "      <th>campaign</th>\n",
       "      <th>pdays</th>\n",
       "      <th>previous</th>\n",
       "      <th>poutcome</th>\n",
       "      <th>emp.var.rate</th>\n",
       "      <th>cons.price.idx</th>\n",
       "      <th>cons.conf.idx</th>\n",
       "      <th>euribor3m</th>\n",
       "      <th>nr.employed</th>\n",
       "      <th>y</th>\n",
       "    </tr>\n",
       "  </thead>\n",
       "  <tbody>\n",
       "    <tr>\n",
       "      <th>0</th>\n",
       "      <td>56</td>\n",
       "      <td>housemaid</td>\n",
       "      <td>married</td>\n",
       "      <td>basic.4y</td>\n",
       "      <td>no</td>\n",
       "      <td>no</td>\n",
       "      <td>no</td>\n",
       "      <td>telephone</td>\n",
       "      <td>may</td>\n",
       "      <td>mon</td>\n",
       "      <td>...</td>\n",
       "      <td>1</td>\n",
       "      <td>999</td>\n",
       "      <td>0</td>\n",
       "      <td>nonexistent</td>\n",
       "      <td>1.1</td>\n",
       "      <td>93.994</td>\n",
       "      <td>-36.4</td>\n",
       "      <td>4.857</td>\n",
       "      <td>5191.0</td>\n",
       "      <td>no</td>\n",
       "    </tr>\n",
       "    <tr>\n",
       "      <th>1</th>\n",
       "      <td>57</td>\n",
       "      <td>services</td>\n",
       "      <td>married</td>\n",
       "      <td>high.school</td>\n",
       "      <td>unknown</td>\n",
       "      <td>no</td>\n",
       "      <td>no</td>\n",
       "      <td>telephone</td>\n",
       "      <td>may</td>\n",
       "      <td>mon</td>\n",
       "      <td>...</td>\n",
       "      <td>1</td>\n",
       "      <td>999</td>\n",
       "      <td>0</td>\n",
       "      <td>nonexistent</td>\n",
       "      <td>1.1</td>\n",
       "      <td>93.994</td>\n",
       "      <td>-36.4</td>\n",
       "      <td>4.857</td>\n",
       "      <td>5191.0</td>\n",
       "      <td>no</td>\n",
       "    </tr>\n",
       "    <tr>\n",
       "      <th>2</th>\n",
       "      <td>37</td>\n",
       "      <td>services</td>\n",
       "      <td>married</td>\n",
       "      <td>high.school</td>\n",
       "      <td>no</td>\n",
       "      <td>yes</td>\n",
       "      <td>no</td>\n",
       "      <td>telephone</td>\n",
       "      <td>may</td>\n",
       "      <td>mon</td>\n",
       "      <td>...</td>\n",
       "      <td>1</td>\n",
       "      <td>999</td>\n",
       "      <td>0</td>\n",
       "      <td>nonexistent</td>\n",
       "      <td>1.1</td>\n",
       "      <td>93.994</td>\n",
       "      <td>-36.4</td>\n",
       "      <td>4.857</td>\n",
       "      <td>5191.0</td>\n",
       "      <td>no</td>\n",
       "    </tr>\n",
       "    <tr>\n",
       "      <th>3</th>\n",
       "      <td>40</td>\n",
       "      <td>admin.</td>\n",
       "      <td>married</td>\n",
       "      <td>basic.6y</td>\n",
       "      <td>no</td>\n",
       "      <td>no</td>\n",
       "      <td>no</td>\n",
       "      <td>telephone</td>\n",
       "      <td>may</td>\n",
       "      <td>mon</td>\n",
       "      <td>...</td>\n",
       "      <td>1</td>\n",
       "      <td>999</td>\n",
       "      <td>0</td>\n",
       "      <td>nonexistent</td>\n",
       "      <td>1.1</td>\n",
       "      <td>93.994</td>\n",
       "      <td>-36.4</td>\n",
       "      <td>4.857</td>\n",
       "      <td>5191.0</td>\n",
       "      <td>no</td>\n",
       "    </tr>\n",
       "    <tr>\n",
       "      <th>4</th>\n",
       "      <td>56</td>\n",
       "      <td>services</td>\n",
       "      <td>married</td>\n",
       "      <td>high.school</td>\n",
       "      <td>no</td>\n",
       "      <td>no</td>\n",
       "      <td>yes</td>\n",
       "      <td>telephone</td>\n",
       "      <td>may</td>\n",
       "      <td>mon</td>\n",
       "      <td>...</td>\n",
       "      <td>1</td>\n",
       "      <td>999</td>\n",
       "      <td>0</td>\n",
       "      <td>nonexistent</td>\n",
       "      <td>1.1</td>\n",
       "      <td>93.994</td>\n",
       "      <td>-36.4</td>\n",
       "      <td>4.857</td>\n",
       "      <td>5191.0</td>\n",
       "      <td>no</td>\n",
       "    </tr>\n",
       "  </tbody>\n",
       "</table>\n",
       "<p>5 rows × 21 columns</p>\n",
       "</div>"
      ],
      "text/plain": [
       "   age        job  marital    education  default housing loan    contact  \\\n",
       "0   56  housemaid  married     basic.4y       no      no   no  telephone   \n",
       "1   57   services  married  high.school  unknown      no   no  telephone   \n",
       "2   37   services  married  high.school       no     yes   no  telephone   \n",
       "3   40     admin.  married     basic.6y       no      no   no  telephone   \n",
       "4   56   services  married  high.school       no      no  yes  telephone   \n",
       "\n",
       "  month day_of_week  ...  campaign  pdays  previous     poutcome emp.var.rate  \\\n",
       "0   may         mon  ...         1    999         0  nonexistent          1.1   \n",
       "1   may         mon  ...         1    999         0  nonexistent          1.1   \n",
       "2   may         mon  ...         1    999         0  nonexistent          1.1   \n",
       "3   may         mon  ...         1    999         0  nonexistent          1.1   \n",
       "4   may         mon  ...         1    999         0  nonexistent          1.1   \n",
       "\n",
       "   cons.price.idx  cons.conf.idx  euribor3m  nr.employed   y  \n",
       "0          93.994          -36.4      4.857       5191.0  no  \n",
       "1          93.994          -36.4      4.857       5191.0  no  \n",
       "2          93.994          -36.4      4.857       5191.0  no  \n",
       "3          93.994          -36.4      4.857       5191.0  no  \n",
       "4          93.994          -36.4      4.857       5191.0  no  \n",
       "\n",
       "[5 rows x 21 columns]"
      ]
     },
     "execution_count": 3,
     "metadata": {},
     "output_type": "execute_result"
    }
   ],
   "source": [
    "data.head()"
   ]
  },
  {
   "cell_type": "markdown",
   "metadata": {},
   "source": [
    "Nota: Observa-se variáveis numéricas e categoricas"
   ]
  },
  {
   "cell_type": "code",
   "execution_count": 2,
   "metadata": {},
   "outputs": [
    {
     "name": "stdout",
     "output_type": "stream",
     "text": [
      "job **********************  \n",
      "\n",
      "admin.           10422\n",
      "blue-collar       9254\n",
      "technician        6743\n",
      "services          3969\n",
      "management        2924\n",
      "retired           1720\n",
      "entrepreneur      1456\n",
      "self-employed     1421\n",
      "housemaid         1060\n",
      "unemployed        1014\n",
      "student            875\n",
      "unknown            330\n",
      "Name: job, dtype: int64\n",
      "  \n",
      "marital **********************  \n",
      "\n",
      "married     24928\n",
      "single      11568\n",
      "divorced     4612\n",
      "unknown        80\n",
      "Name: marital, dtype: int64\n",
      "  \n",
      "education **********************  \n",
      "\n",
      "university.degree      12168\n",
      "high.school             9515\n",
      "basic.9y                6045\n",
      "professional.course     5243\n",
      "basic.4y                4176\n",
      "basic.6y                2292\n",
      "unknown                 1731\n",
      "illiterate                18\n",
      "Name: education, dtype: int64\n",
      "  \n",
      "default **********************  \n",
      "\n",
      "no         32588\n",
      "unknown     8597\n",
      "yes            3\n",
      "Name: default, dtype: int64\n",
      "  \n",
      "housing **********************  \n",
      "\n",
      "yes        21576\n",
      "no         18622\n",
      "unknown      990\n",
      "Name: housing, dtype: int64\n",
      "  \n",
      "loan **********************  \n",
      "\n",
      "no         33950\n",
      "yes         6248\n",
      "unknown      990\n",
      "Name: loan, dtype: int64\n",
      "  \n",
      "contact **********************  \n",
      "\n",
      "cellular     26144\n",
      "telephone    15044\n",
      "Name: contact, dtype: int64\n",
      "  \n",
      "month **********************  \n",
      "\n",
      "may    13769\n",
      "jul     7174\n",
      "aug     6178\n",
      "jun     5318\n",
      "nov     4101\n",
      "apr     2632\n",
      "oct      718\n",
      "sep      570\n",
      "mar      546\n",
      "dec      182\n",
      "Name: month, dtype: int64\n",
      "  \n",
      "day_of_week **********************  \n",
      "\n",
      "thu    8623\n",
      "mon    8514\n",
      "wed    8134\n",
      "tue    8090\n",
      "fri    7827\n",
      "Name: day_of_week, dtype: int64\n",
      "  \n",
      "poutcome **********************  \n",
      "\n",
      "nonexistent    35563\n",
      "failure         4252\n",
      "success         1373\n",
      "Name: poutcome, dtype: int64\n",
      "  \n",
      "y **********************  \n",
      "\n",
      "no     36548\n",
      "yes     4640\n",
      "Name: y, dtype: int64\n",
      "  \n"
     ]
    }
   ],
   "source": [
    "cat_col = [n for n in data.columns if data[n].dtypes == 'object']\n",
    "for col in cat_col:\n",
    "    print(col, '**********************  \\n')\n",
    "    print(data[col].value_counts())\n",
    "    print(\"  \")"
   ]
  },
  {
   "cell_type": "markdown",
   "metadata": {},
   "source": [
    "Nota: a variável dependente y deverá ser reatribuída com valores (0,1) em vez de (no, yes). A variável contact pode ser binária também, i.e. cellular pode ser 0 e telephone pode ser 1. A grosso modo, foram contactados clientes com perfil bastante conservador. Na maioria, são profissionais administrativos (job-admin), com educação universitária (university.degree), estado civil casado, a maioria admitiu não estar endividado (apenas 3 admitiu), a situação crediária indica que a maior parte tem dívida com a casa própria (housing yes), a maior indica que não tem empréstimos pessoais (loan). Os meses (month) contactados foram em grande monta no período primavera-verão europeu. Os clientes foram contactados em todos os dias da semana, como mostrada pela distribuíção equitativa dos dias. Como percebido anteriormente, a campanha de marketing anterior (poutcome) para a maioria foi inexistente ou falhou. A variável y é o resultado da campanha de marketing atual, com apenas 11% de sucesso (yes 4640)."
   ]
  },
  {
   "cell_type": "markdown",
   "metadata": {},
   "source": [
    "### Verificação de subscrições obtidas depois da campanha"
   ]
  },
  {
   "cell_type": "code",
   "execution_count": 3,
   "metadata": {},
   "outputs": [
    {
     "name": "stdout",
     "output_type": "stream",
     "text": [
      "No_sub= 36548  Sub= 4640\n",
      "Porcentagem de subscrição:  11.265417111780131\n",
      "Porcentagem de sem subscrição:  88.73458288821988\n"
     ]
    },
    {
     "data": {
      "text/plain": [
       "<matplotlib.axes._subplots.AxesSubplot at 0x20ac9e0bcc8>"
      ]
     },
     "execution_count": 3,
     "metadata": {},
     "output_type": "execute_result"
    },
    {
     "data": {
      "image/png": "[encoded data removed]",
      "text/plain": [
       "<Figure size 432x288 with 1 Axes>"
      ]
     },
     "metadata": {},
     "output_type": "display_data"
    }
   ],
   "source": [
    "No_sub = len(data[data['y']=='no'])\n",
    "Sub = len(data[data['y']=='yes'])\n",
    "print('No_sub=',No_sub,' Sub=',Sub)\n",
    "percent_No_sub = (No_sub/len(data['y']))*100\n",
    "percent_sub=(Sub/len(data['y']))*100\n",
    "print('Porcentagem de subscrição: ',percent_sub)\n",
    "print('Porcentagem de sem subscrição: ',percent_No_sub)\n",
    "\n",
    "data['y'].value_counts().plot.bar()"
   ]
  },
  {
   "cell_type": "markdown",
   "metadata": {},
   "source": [
    "Nota: yes e no pode ser transformado em valores binários 1 e 0, respectivamente. Apenas 11.26% se subscreveram ao depósito a termo."
   ]
  },
  {
   "cell_type": "code",
   "execution_count": 6,
   "metadata": {},
   "outputs": [
    {
     "data": {
      "text/plain": [
       "array([[<matplotlib.axes._subplots.AxesSubplot object at 0x00000290BC6DC288>,\n",
       "        <matplotlib.axes._subplots.AxesSubplot object at 0x00000290BC725288>,\n",
       "        <matplotlib.axes._subplots.AxesSubplot object at 0x00000290BC75F408>],\n",
       "       [<matplotlib.axes._subplots.AxesSubplot object at 0x00000290BC7982C8>,\n",
       "        <matplotlib.axes._subplots.AxesSubplot object at 0x00000290BC7CF148>,\n",
       "        <matplotlib.axes._subplots.AxesSubplot object at 0x00000290BC805F88>],\n",
       "       [<matplotlib.axes._subplots.AxesSubplot object at 0x00000290BC83EE08>,\n",
       "        <matplotlib.axes._subplots.AxesSubplot object at 0x00000290BC877C88>,\n",
       "        <matplotlib.axes._subplots.AxesSubplot object at 0x00000290BC8B1B88>],\n",
       "       [<matplotlib.axes._subplots.AxesSubplot object at 0x00000290BC8EDA08>,\n",
       "        <matplotlib.axes._subplots.AxesSubplot object at 0x00000290BC996848>,\n",
       "        <matplotlib.axes._subplots.AxesSubplot object at 0x00000290BC9CF788>]],\n",
       "      dtype=object)"
      ]
     },
     "execution_count": 6,
     "metadata": {},
     "output_type": "execute_result"
    },
    {
     "data": {
      "image/png": "[encoded data removed]",
      "text/plain": [
       "<Figure size 1080x720 with 12 Axes>"
      ]
     },
     "metadata": {},
     "output_type": "display_data"
    }
   ],
   "source": [
    "data.hist(bins=50,figsize=(15,10))"
   ]
  },
  {
   "cell_type": "markdown",
   "metadata": {},
   "source": [
    "Nota: pdays necessita de um ajuste. Não é razoável que pdays contenha valores em dias depois do último contato e 999 significar que não houve um prévio contato."
   ]
  },
  {
   "cell_type": "markdown",
   "metadata": {},
   "source": [
    "## 2. Preparação de Dados"
   ]
  },
  {
   "cell_type": "markdown",
   "metadata": {},
   "source": [
    "### 2.1 Preparação da variável dependente y"
   ]
  },
  {
   "cell_type": "code",
   "execution_count": 4,
   "metadata": {},
   "outputs": [],
   "source": [
    "data['y']=np.where(data['y'] =='yes', 1, data['y'])\n",
    "data['y']=np.where(data['y'] =='no',  0, data['y'])"
   ]
  },
  {
   "cell_type": "markdown",
   "metadata": {},
   "source": [
    "### 2.2 Tratamento da variável pdays e contact"
   ]
  },
  {
   "cell_type": "code",
   "execution_count": 5,
   "metadata": {},
   "outputs": [],
   "source": [
    "data['pdays_no_contact']=(data['pdays']==999)*1\n",
    "contact=({'cellular':0, 'telephone':1})\n",
    "data['contact']=data['contact'].map(contact)"
   ]
  },
  {
   "cell_type": "markdown",
   "metadata": {},
   "source": [
    "### 2.3 Criação de variáveis dummy para variáveis categóricas"
   ]
  },
  {
   "cell_type": "code",
   "execution_count": 9,
   "metadata": {},
   "outputs": [
    {
     "data": {
      "text/html": [
       "<div>\n",
       "<style scoped>\n",
       "    .dataframe tbody tr th:only-of-type {\n",
       "        vertical-align: middle;\n",
       "    }\n",
       "\n",
       "    .dataframe tbody tr th {\n",
       "        vertical-align: top;\n",
       "    }\n",
       "\n",
       "    .dataframe thead th {\n",
       "        text-align: right;\n",
       "    }\n",
       "</style>\n",
       "<table border=\"1\" class=\"dataframe\">\n",
       "  <thead>\n",
       "    <tr style=\"text-align: right;\">\n",
       "      <th></th>\n",
       "      <th>age</th>\n",
       "      <th>job</th>\n",
       "      <th>marital</th>\n",
       "      <th>education</th>\n",
       "      <th>default</th>\n",
       "      <th>housing</th>\n",
       "      <th>loan</th>\n",
       "      <th>contact</th>\n",
       "      <th>month</th>\n",
       "      <th>day_of_week</th>\n",
       "      <th>...</th>\n",
       "      <th>pdays</th>\n",
       "      <th>previous</th>\n",
       "      <th>poutcome</th>\n",
       "      <th>emp.var.rate</th>\n",
       "      <th>cons.price.idx</th>\n",
       "      <th>cons.conf.idx</th>\n",
       "      <th>euribor3m</th>\n",
       "      <th>nr.employed</th>\n",
       "      <th>y</th>\n",
       "      <th>pdays_no_contact</th>\n",
       "    </tr>\n",
       "  </thead>\n",
       "  <tbody>\n",
       "    <tr>\n",
       "      <th>0</th>\n",
       "      <td>56</td>\n",
       "      <td>housemaid</td>\n",
       "      <td>married</td>\n",
       "      <td>basic.4y</td>\n",
       "      <td>no</td>\n",
       "      <td>no</td>\n",
       "      <td>no</td>\n",
       "      <td>1</td>\n",
       "      <td>may</td>\n",
       "      <td>mon</td>\n",
       "      <td>...</td>\n",
       "      <td>999</td>\n",
       "      <td>0</td>\n",
       "      <td>nonexistent</td>\n",
       "      <td>1.1</td>\n",
       "      <td>93.994</td>\n",
       "      <td>-36.4</td>\n",
       "      <td>4.857</td>\n",
       "      <td>5191.0</td>\n",
       "      <td>0</td>\n",
       "      <td>1</td>\n",
       "    </tr>\n",
       "    <tr>\n",
       "      <th>1</th>\n",
       "      <td>57</td>\n",
       "      <td>services</td>\n",
       "      <td>married</td>\n",
       "      <td>high.school</td>\n",
       "      <td>unknown</td>\n",
       "      <td>no</td>\n",
       "      <td>no</td>\n",
       "      <td>1</td>\n",
       "      <td>may</td>\n",
       "      <td>mon</td>\n",
       "      <td>...</td>\n",
       "      <td>999</td>\n",
       "      <td>0</td>\n",
       "      <td>nonexistent</td>\n",
       "      <td>1.1</td>\n",
       "      <td>93.994</td>\n",
       "      <td>-36.4</td>\n",
       "      <td>4.857</td>\n",
       "      <td>5191.0</td>\n",
       "      <td>0</td>\n",
       "      <td>1</td>\n",
       "    </tr>\n",
       "    <tr>\n",
       "      <th>2</th>\n",
       "      <td>37</td>\n",
       "      <td>services</td>\n",
       "      <td>married</td>\n",
       "      <td>high.school</td>\n",
       "      <td>no</td>\n",
       "      <td>yes</td>\n",
       "      <td>no</td>\n",
       "      <td>1</td>\n",
       "      <td>may</td>\n",
       "      <td>mon</td>\n",
       "      <td>...</td>\n",
       "      <td>999</td>\n",
       "      <td>0</td>\n",
       "      <td>nonexistent</td>\n",
       "      <td>1.1</td>\n",
       "      <td>93.994</td>\n",
       "      <td>-36.4</td>\n",
       "      <td>4.857</td>\n",
       "      <td>5191.0</td>\n",
       "      <td>0</td>\n",
       "      <td>1</td>\n",
       "    </tr>\n",
       "    <tr>\n",
       "      <th>3</th>\n",
       "      <td>40</td>\n",
       "      <td>admin.</td>\n",
       "      <td>married</td>\n",
       "      <td>basic.6y</td>\n",
       "      <td>no</td>\n",
       "      <td>no</td>\n",
       "      <td>no</td>\n",
       "      <td>1</td>\n",
       "      <td>may</td>\n",
       "      <td>mon</td>\n",
       "      <td>...</td>\n",
       "      <td>999</td>\n",
       "      <td>0</td>\n",
       "      <td>nonexistent</td>\n",
       "      <td>1.1</td>\n",
       "      <td>93.994</td>\n",
       "      <td>-36.4</td>\n",
       "      <td>4.857</td>\n",
       "      <td>5191.0</td>\n",
       "      <td>0</td>\n",
       "      <td>1</td>\n",
       "    </tr>\n",
       "    <tr>\n",
       "      <th>4</th>\n",
       "      <td>56</td>\n",
       "      <td>services</td>\n",
       "      <td>married</td>\n",
       "      <td>high.school</td>\n",
       "      <td>no</td>\n",
       "      <td>no</td>\n",
       "      <td>yes</td>\n",
       "      <td>1</td>\n",
       "      <td>may</td>\n",
       "      <td>mon</td>\n",
       "      <td>...</td>\n",
       "      <td>999</td>\n",
       "      <td>0</td>\n",
       "      <td>nonexistent</td>\n",
       "      <td>1.1</td>\n",
       "      <td>93.994</td>\n",
       "      <td>-36.4</td>\n",
       "      <td>4.857</td>\n",
       "      <td>5191.0</td>\n",
       "      <td>0</td>\n",
       "      <td>1</td>\n",
       "    </tr>\n",
       "  </tbody>\n",
       "</table>\n",
       "<p>5 rows × 22 columns</p>\n",
       "</div>"
      ],
      "text/plain": [
       "   age        job  marital    education  default housing loan  contact month  \\\n",
       "0   56  housemaid  married     basic.4y       no      no   no        1   may   \n",
       "1   57   services  married  high.school  unknown      no   no        1   may   \n",
       "2   37   services  married  high.school       no     yes   no        1   may   \n",
       "3   40     admin.  married     basic.6y       no      no   no        1   may   \n",
       "4   56   services  married  high.school       no      no  yes        1   may   \n",
       "\n",
       "  day_of_week  ...  pdays  previous     poutcome  emp.var.rate cons.price.idx  \\\n",
       "0         mon  ...    999         0  nonexistent           1.1         93.994   \n",
       "1         mon  ...    999         0  nonexistent           1.1         93.994   \n",
       "2         mon  ...    999         0  nonexistent           1.1         93.994   \n",
       "3         mon  ...    999         0  nonexistent           1.1         93.994   \n",
       "4         mon  ...    999         0  nonexistent           1.1         93.994   \n",
       "\n",
       "   cons.conf.idx  euribor3m  nr.employed  y  pdays_no_contact  \n",
       "0          -36.4      4.857       5191.0  0                 1  \n",
       "1          -36.4      4.857       5191.0  0                 1  \n",
       "2          -36.4      4.857       5191.0  0                 1  \n",
       "3          -36.4      4.857       5191.0  0                 1  \n",
       "4          -36.4      4.857       5191.0  0                 1  \n",
       "\n",
       "[5 rows x 22 columns]"
      ]
     },
     "execution_count": 9,
     "metadata": {},
     "output_type": "execute_result"
    }
   ],
   "source": [
    "data.head()"
   ]
  },
  {
   "cell_type": "markdown",
   "metadata": {},
   "source": [
    "Nota: foi criado uma coluna adicional pdays_no_contact e a coluna contact ficou binária, cellular=0, telephone=1. A variável dependente y ficou binária também 0 (no) e 1 (yes), i.e. não e sim para a subscrição à campanha de venda de depósito a prazo."
   ]
  },
  {
   "cell_type": "code",
   "execution_count": 6,
   "metadata": {},
   "outputs": [
    {
     "data": {
      "text/plain": [
       "(41188, 55)"
      ]
     },
     "execution_count": 6,
     "metadata": {},
     "output_type": "execute_result"
    }
   ],
   "source": [
    "df=pd.get_dummies(data,columns=['job','marital','education','default','housing','loan',\n",
    "                                  'month','day_of_week','poutcome'], drop_first=True)\n",
    "\n",
    "df.shape"
   ]
  },
  {
   "cell_type": "code",
   "execution_count": 7,
   "metadata": {},
   "outputs": [
    {
     "name": "stdout",
     "output_type": "stream",
     "text": [
      "<class 'pandas.core.frame.DataFrame'>\n",
      "Int64Index: 41188 entries, 0 to 41187\n",
      "Data columns (total 55 columns):\n",
      " #   Column                         Non-Null Count  Dtype  \n",
      "---  ------                         --------------  -----  \n",
      " 0   age                            41188 non-null  int64  \n",
      " 1   contact                        41188 non-null  int64  \n",
      " 2   duration                       41188 non-null  int64  \n",
      " 3   campaign                       41188 non-null  int64  \n",
      " 4   pdays                          41188 non-null  int64  \n",
      " 5   previous                       41188 non-null  int64  \n",
      " 6   emp.var.rate                   41188 non-null  float64\n",
      " 7   cons.price.idx                 41188 non-null  float64\n",
      " 8   cons.conf.idx                  41188 non-null  float64\n",
      " 9   euribor3m                      41188 non-null  float64\n",
      " 10  nr.employed                    41188 non-null  float64\n",
      " 11  y                              41188 non-null  object \n",
      " 12  pdays_no_contact               41188 non-null  int32  \n",
      " 13  job_blue-collar                41188 non-null  uint8  \n",
      " 14  job_entrepreneur               41188 non-null  uint8  \n",
      " 15  job_housemaid                  41188 non-null  uint8  \n",
      " 16  job_management                 41188 non-null  uint8  \n",
      " 17  job_retired                    41188 non-null  uint8  \n",
      " 18  job_self-employed              41188 non-null  uint8  \n",
      " 19  job_services                   41188 non-null  uint8  \n",
      " 20  job_student                    41188 non-null  uint8  \n",
      " 21  job_technician                 41188 non-null  uint8  \n",
      " 22  job_unemployed                 41188 non-null  uint8  \n",
      " 23  job_unknown                    41188 non-null  uint8  \n",
      " 24  marital_married                41188 non-null  uint8  \n",
      " 25  marital_single                 41188 non-null  uint8  \n",
      " 26  marital_unknown                41188 non-null  uint8  \n",
      " 27  education_basic.6y             41188 non-null  uint8  \n",
      " 28  education_basic.9y             41188 non-null  uint8  \n",
      " 29  education_high.school          41188 non-null  uint8  \n",
      " 30  education_illiterate           41188 non-null  uint8  \n",
      " 31  education_professional.course  41188 non-null  uint8  \n",
      " 32  education_university.degree    41188 non-null  uint8  \n",
      " 33  education_unknown              41188 non-null  uint8  \n",
      " 34  default_unknown                41188 non-null  uint8  \n",
      " 35  default_yes                    41188 non-null  uint8  \n",
      " 36  housing_unknown                41188 non-null  uint8  \n",
      " 37  housing_yes                    41188 non-null  uint8  \n",
      " 38  loan_unknown                   41188 non-null  uint8  \n",
      " 39  loan_yes                       41188 non-null  uint8  \n",
      " 40  month_aug                      41188 non-null  uint8  \n",
      " 41  month_dec                      41188 non-null  uint8  \n",
      " 42  month_jul                      41188 non-null  uint8  \n",
      " 43  month_jun                      41188 non-null  uint8  \n",
      " 44  month_mar                      41188 non-null  uint8  \n",
      " 45  month_may                      41188 non-null  uint8  \n",
      " 46  month_nov                      41188 non-null  uint8  \n",
      " 47  month_oct                      41188 non-null  uint8  \n",
      " 48  month_sep                      41188 non-null  uint8  \n",
      " 49  day_of_week_mon                41188 non-null  uint8  \n",
      " 50  day_of_week_thu                41188 non-null  uint8  \n",
      " 51  day_of_week_tue                41188 non-null  uint8  \n",
      " 52  day_of_week_wed                41188 non-null  uint8  \n",
      " 53  poutcome_nonexistent           41188 non-null  uint8  \n",
      " 54  poutcome_success               41188 non-null  uint8  \n",
      "dtypes: float64(5), int32(1), int64(6), object(1), uint8(42)\n",
      "memory usage: 5.9+ MB\n"
     ]
    }
   ],
   "source": [
    "df.info()"
   ]
  },
  {
   "cell_type": "code",
   "execution_count": 12,
   "metadata": {},
   "outputs": [
    {
     "data": {
      "text/html": [
       "<div>\n",
       "<style scoped>\n",
       "    .dataframe tbody tr th:only-of-type {\n",
       "        vertical-align: middle;\n",
       "    }\n",
       "\n",
       "    .dataframe tbody tr th {\n",
       "        vertical-align: top;\n",
       "    }\n",
       "\n",
       "    .dataframe thead th {\n",
       "        text-align: right;\n",
       "    }\n",
       "</style>\n",
       "<table border=\"1\" class=\"dataframe\">\n",
       "  <thead>\n",
       "    <tr style=\"text-align: right;\">\n",
       "      <th></th>\n",
       "      <th>age</th>\n",
       "      <th>contact</th>\n",
       "      <th>duration</th>\n",
       "      <th>campaign</th>\n",
       "      <th>pdays</th>\n",
       "      <th>previous</th>\n",
       "      <th>emp.var.rate</th>\n",
       "      <th>cons.price.idx</th>\n",
       "      <th>cons.conf.idx</th>\n",
       "      <th>euribor3m</th>\n",
       "      <th>...</th>\n",
       "      <th>month_may</th>\n",
       "      <th>month_nov</th>\n",
       "      <th>month_oct</th>\n",
       "      <th>month_sep</th>\n",
       "      <th>day_of_week_mon</th>\n",
       "      <th>day_of_week_thu</th>\n",
       "      <th>day_of_week_tue</th>\n",
       "      <th>day_of_week_wed</th>\n",
       "      <th>poutcome_nonexistent</th>\n",
       "      <th>poutcome_success</th>\n",
       "    </tr>\n",
       "  </thead>\n",
       "  <tbody>\n",
       "    <tr>\n",
       "      <th>0</th>\n",
       "      <td>56</td>\n",
       "      <td>1</td>\n",
       "      <td>261</td>\n",
       "      <td>1</td>\n",
       "      <td>999</td>\n",
       "      <td>0</td>\n",
       "      <td>1.1</td>\n",
       "      <td>93.994</td>\n",
       "      <td>-36.4</td>\n",
       "      <td>4.857</td>\n",
       "      <td>...</td>\n",
       "      <td>1</td>\n",
       "      <td>0</td>\n",
       "      <td>0</td>\n",
       "      <td>0</td>\n",
       "      <td>1</td>\n",
       "      <td>0</td>\n",
       "      <td>0</td>\n",
       "      <td>0</td>\n",
       "      <td>1</td>\n",
       "      <td>0</td>\n",
       "    </tr>\n",
       "    <tr>\n",
       "      <th>1</th>\n",
       "      <td>57</td>\n",
       "      <td>1</td>\n",
       "      <td>149</td>\n",
       "      <td>1</td>\n",
       "      <td>999</td>\n",
       "      <td>0</td>\n",
       "      <td>1.1</td>\n",
       "      <td>93.994</td>\n",
       "      <td>-36.4</td>\n",
       "      <td>4.857</td>\n",
       "      <td>...</td>\n",
       "      <td>1</td>\n",
       "      <td>0</td>\n",
       "      <td>0</td>\n",
       "      <td>0</td>\n",
       "      <td>1</td>\n",
       "      <td>0</td>\n",
       "      <td>0</td>\n",
       "      <td>0</td>\n",
       "      <td>1</td>\n",
       "      <td>0</td>\n",
       "    </tr>\n",
       "    <tr>\n",
       "      <th>2</th>\n",
       "      <td>37</td>\n",
       "      <td>1</td>\n",
       "      <td>226</td>\n",
       "      <td>1</td>\n",
       "      <td>999</td>\n",
       "      <td>0</td>\n",
       "      <td>1.1</td>\n",
       "      <td>93.994</td>\n",
       "      <td>-36.4</td>\n",
       "      <td>4.857</td>\n",
       "      <td>...</td>\n",
       "      <td>1</td>\n",
       "      <td>0</td>\n",
       "      <td>0</td>\n",
       "      <td>0</td>\n",
       "      <td>1</td>\n",
       "      <td>0</td>\n",
       "      <td>0</td>\n",
       "      <td>0</td>\n",
       "      <td>1</td>\n",
       "      <td>0</td>\n",
       "    </tr>\n",
       "    <tr>\n",
       "      <th>3</th>\n",
       "      <td>40</td>\n",
       "      <td>1</td>\n",
       "      <td>151</td>\n",
       "      <td>1</td>\n",
       "      <td>999</td>\n",
       "      <td>0</td>\n",
       "      <td>1.1</td>\n",
       "      <td>93.994</td>\n",
       "      <td>-36.4</td>\n",
       "      <td>4.857</td>\n",
       "      <td>...</td>\n",
       "      <td>1</td>\n",
       "      <td>0</td>\n",
       "      <td>0</td>\n",
       "      <td>0</td>\n",
       "      <td>1</td>\n",
       "      <td>0</td>\n",
       "      <td>0</td>\n",
       "      <td>0</td>\n",
       "      <td>1</td>\n",
       "      <td>0</td>\n",
       "    </tr>\n",
       "    <tr>\n",
       "      <th>4</th>\n",
       "      <td>56</td>\n",
       "      <td>1</td>\n",
       "      <td>307</td>\n",
       "      <td>1</td>\n",
       "      <td>999</td>\n",
       "      <td>0</td>\n",
       "      <td>1.1</td>\n",
       "      <td>93.994</td>\n",
       "      <td>-36.4</td>\n",
       "      <td>4.857</td>\n",
       "      <td>...</td>\n",
       "      <td>1</td>\n",
       "      <td>0</td>\n",
       "      <td>0</td>\n",
       "      <td>0</td>\n",
       "      <td>1</td>\n",
       "      <td>0</td>\n",
       "      <td>0</td>\n",
       "      <td>0</td>\n",
       "      <td>1</td>\n",
       "      <td>0</td>\n",
       "    </tr>\n",
       "  </tbody>\n",
       "</table>\n",
       "<p>5 rows × 55 columns</p>\n",
       "</div>"
      ],
      "text/plain": [
       "   age  contact  duration  campaign  pdays  previous  emp.var.rate  \\\n",
       "0   56        1       261         1    999         0           1.1   \n",
       "1   57        1       149         1    999         0           1.1   \n",
       "2   37        1       226         1    999         0           1.1   \n",
       "3   40        1       151         1    999         0           1.1   \n",
       "4   56        1       307         1    999         0           1.1   \n",
       "\n",
       "   cons.price.idx  cons.conf.idx  euribor3m  ...  month_may month_nov  \\\n",
       "0          93.994          -36.4      4.857  ...          1         0   \n",
       "1          93.994          -36.4      4.857  ...          1         0   \n",
       "2          93.994          -36.4      4.857  ...          1         0   \n",
       "3          93.994          -36.4      4.857  ...          1         0   \n",
       "4          93.994          -36.4      4.857  ...          1         0   \n",
       "\n",
       "   month_oct  month_sep  day_of_week_mon  day_of_week_thu  day_of_week_tue  \\\n",
       "0          0          0                1                0                0   \n",
       "1          0          0                1                0                0   \n",
       "2          0          0                1                0                0   \n",
       "3          0          0                1                0                0   \n",
       "4          0          0                1                0                0   \n",
       "\n",
       "   day_of_week_wed  poutcome_nonexistent  poutcome_success  \n",
       "0                0                     1                 0  \n",
       "1                0                     1                 0  \n",
       "2                0                     1                 0  \n",
       "3                0                     1                 0  \n",
       "4                0                     1                 0  \n",
       "\n",
       "[5 rows x 55 columns]"
      ]
     },
     "execution_count": 12,
     "metadata": {},
     "output_type": "execute_result"
    }
   ],
   "source": [
    "df.head()"
   ]
  },
  {
   "cell_type": "markdown",
   "metadata": {},
   "source": [
    "Nota: variáveis categóricas foram transformadas em binárias"
   ]
  },
  {
   "cell_type": "markdown",
   "metadata": {},
   "source": [
    "### 2.4 Balanceamento de amostras com o algoritmo SMOTE (Synthetic Minority Oversampling Technique).\n",
    "\n",
    "O SMOTE opera na criação de amostras sintéticas da classe menor (no-subscription) em vez de criar cópias.\n",
    "\n",
    "O mesmo escolhe de forma aleatória o k-nearest-neighbors e com a qual se cria uma cópia similar, mas com novas observações.\n",
    "\n",
    "Se implementa o SMOTE da seguinte forma:\n",
    "\n",
    "conda install -c conda-forge imbalanced-learn\n",
    "\n",
    "conda update --all"
   ]
  },
  {
   "cell_type": "code",
   "execution_count": 8,
   "metadata": {},
   "outputs": [],
   "source": [
    "X = df.loc[:, df.columns != 'y']\n",
    "y = df.loc[:, df.columns == 'y']\n",
    "from imblearn.over_sampling import SMOTE\n",
    "os = SMOTE(random_state=0)\n",
    "X_train, X_test, y_train, y_test = train_test_split(X, y, test_size=0.1, random_state=0)\n",
    "columns = X_train.columns"
   ]
  },
  {
   "cell_type": "code",
   "execution_count": 9,
   "metadata": {},
   "outputs": [
    {
     "name": "stdout",
     "output_type": "stream",
     "text": [
      "length of oversampled data for training is  65766\n",
      "Number of no subscription in oversampled data for training 32883\n",
      "Number of subscription for training 32883\n",
      "Proportion of no subscription data in oversampled data for trainining is  0.5\n",
      "Proportion of subscription data in oversampled data for training is  0.5\n",
      " \n",
      "length of oversampled data for test is  7330\n",
      "Number of no subscription in oversampled data for test 3665\n",
      "Number of subscription for test 3665\n",
      "Proportion of no subscription data in oversampled data for test is  0.5\n",
      "Proportion of subscription data in oversampled data for test is  0.5\n",
      " \n"
     ]
    }
   ],
   "source": [
    "os_data_X,os_data_y=os.fit_sample(X_train, y_train.astype(int))\n",
    "os_data_X = pd.DataFrame(data=os_data_X,columns=columns )\n",
    "os_data_y= pd.DataFrame(data=os_data_y,columns=['y'])\n",
    "# we can Check the numbers of our data\n",
    "print(\"length of oversampled data for training is \",len(os_data_X))\n",
    "print(\"Number of no subscription in oversampled data for training\",len(os_data_y[os_data_y['y']==0]))\n",
    "print(\"Number of subscription for training\",len(os_data_y[os_data_y['y']==1]))\n",
    "print(\"Proportion of no subscription data in oversampled data for trainining is \",\n",
    "      len(os_data_y[os_data_y['y']==0])/len(os_data_X))\n",
    "print(\"Proportion of subscription data in oversampled data for training is \",\n",
    "      len(os_data_y[os_data_y['y']==1])/len(os_data_X))\n",
    "print(\" \")\n",
    "os_test_X,os_test_y=os.fit_sample(X_test, y_test.astype(int))\n",
    "os_test_X = pd.DataFrame(data=os_test_X,columns=columns )\n",
    "os_test_y= pd.DataFrame(data=os_test_y,columns=['y'])\n",
    "# we can Check the numbers of our data\n",
    "print(\"length of oversampled data for test is \",len(os_test_X))\n",
    "print(\"Number of no subscription in oversampled data for test\",len(os_test_y[os_test_y['y']==0]))\n",
    "print(\"Number of subscription for test\",len(os_test_y[os_test_y['y']==1]))\n",
    "print(\"Proportion of no subscription data in oversampled data for test is \",\n",
    "      len(os_test_y[os_test_y['y']==0])/len(os_test_X))\n",
    "print(\"Proportion of subscription data in oversampled data for test is \",\n",
    "      len(os_test_y[os_test_y['y']==1])/len(os_test_X))\n",
    "print(\" \")"
   ]
  },
  {
   "cell_type": "markdown",
   "metadata": {},
   "source": [
    "Nota: A proporção de amostras com subscrição ao deposito à prazo é equivalente à da amostra com sem subscrição. 90% da amostra é deixada para treinamento e 10% para teste."
   ]
  },
  {
   "cell_type": "markdown",
   "metadata": {},
   "source": [
    "### 2.5 Normalização dos dados"
   ]
  },
  {
   "cell_type": "code",
   "execution_count": 10,
   "metadata": {},
   "outputs": [],
   "source": [
    "from sklearn.preprocessing import StandardScaler\n",
    "sc=StandardScaler()\n",
    "X_training=sc.fit_transform(os_data_X)\n",
    "X_testing=sc.transform(os_test_X)"
   ]
  },
  {
   "cell_type": "markdown",
   "metadata": {},
   "source": [
    "## 3. Treinando os dados\n",
    "\n",
    "### 3.1 Obtenção do Modelo "
   ]
  },
  {
   "cell_type": "code",
   "execution_count": 11,
   "metadata": {},
   "outputs": [
    {
     "name": "stdout",
     "output_type": "stream",
     "text": [
      "Score de treinamento:  0.936426116838488\n"
     ]
    }
   ],
   "source": [
    "from sklearn.linear_model import LogisticRegression\n",
    "clf = LogisticRegression()\n",
    "clf.fit(X_training,os_data_y)\n",
    "print('Score de treinamento: ',clf.score(X_training,os_data_y))"
   ]
  },
  {
   "cell_type": "markdown",
   "metadata": {},
   "source": [
    "### 3.2 Obtenção da Matriz de Confusão"
   ]
  },
  {
   "cell_type": "code",
   "execution_count": 12,
   "metadata": {},
   "outputs": [],
   "source": [
    "def plot_confusion_matrix(cm, classes,\n",
    "                          normalize=False,\n",
    "                          title='Confusion matrix',\n",
    "                          cmap=plt.cm.Blues):\n",
    "   \n",
    "    if normalize:\n",
    "        cm = cm.astype('float') / cm.sum(axis=1)[:, np.newaxis]\n",
    "        print(\"Normalized confusion matrix\")\n",
    "    else:\n",
    "        print('Confusion matrix, without normalization')\n",
    "    #plt.figure(figsize=(10,10))\n",
    "    plt.imshow(cm, interpolation='nearest', cmap=cmap)\n",
    "    plt.title(title)\n",
    "    plt.colorbar()\n",
    "    tick_marks = np.arange(len(classes))\n",
    "    plt.xticks(tick_marks, classes, rotation=45)\n",
    "    plt.yticks(tick_marks, classes)\n",
    "\n",
    "    fmt = '.2f' if normalize else 'd'\n",
    "    thresh = cm.max() / 2.\n",
    "\n",
    "    for i in range(0, cm.shape[0]):\n",
    "        for j in range(0, cm.shape[1]):\n",
    "            if(cm[i, j]>2500):\n",
    "                plt.text(j, i, format(cm[i, j], fmt),\n",
    "                         horizontalalignment=\"center\", color=\"white\")\n",
    "                         #color=\"black\" if cm[i, j] > thresh else \"black\")\n",
    "            else:\n",
    "                plt.text(j, i, format(cm[i, j], fmt),\n",
    "                         horizontalalignment=\"center\", color=\"black\")\n",
    "                         #color=\"black\" if cm[i, j] > thresh else \"black\")\n",
    "\n",
    "    plt.tight_layout()\n",
    "    plt.ylabel('Actual Data')\n",
    "    plt.xlabel('Predicted Data')"
   ]
  },
  {
   "cell_type": "code",
   "execution_count": 13,
   "metadata": {},
   "outputs": [
    {
     "data": {
      "text/plain": [
       "array([[31008,  1875],\n",
       "       [ 2306, 30577]], dtype=int64)"
      ]
     },
     "execution_count": 13,
     "metadata": {},
     "output_type": "execute_result"
    }
   ],
   "source": [
    "y_pred = clf.predict(X_training)\n",
    "from sklearn.metrics import confusion_matrix\n",
    "cm = confusion_matrix(os_data_y,y_pred)\n",
    "cm"
   ]
  },
  {
   "cell_type": "code",
   "execution_count": 14,
   "metadata": {},
   "outputs": [
    {
     "name": "stdout",
     "output_type": "stream",
     "text": [
      "Confusion matrix, without normalization\n"
     ]
    },
    {
     "data": {
      "image/png": "[encoded data removed]",
      "text/plain": [
       "<Figure size 432x288 with 2 Axes>"
      ]
     },
     "metadata": {},
     "output_type": "display_data"
    }
   ],
   "source": [
    "classes = ['no', 'yes']\n",
    "plot_confusion_matrix(cm,classes=classes, normalize=False,title='Confusion Matrix')"
   ]
  },
  {
   "cell_type": "markdown",
   "metadata": {},
   "source": [
    "Nota: As respostas corretas TP (verdadeiro positivo, yes-yes) e TN (verdadeiro negativo, no-no), azul escuro, compõem a maior parte das respostas. As respostas erradas FP (falso positivo, no-yes) e FN (falso negativo, yes-no) compõem a menor parte das respostas.\n",
    "\n",
    "## 3.3 CRV: Classification"
   ]
  },
  {
   "cell_type": "code",
   "execution_count": 15,
   "metadata": {},
   "outputs": [
    {
     "name": "stdout",
     "output_type": "stream",
     "text": [
      "              precision    recall  f1-score   support\n",
      "\n",
      "           0       0.93      0.94      0.94     32883\n",
      "           1       0.94      0.93      0.94     32883\n",
      "\n",
      "    accuracy                           0.94     65766\n",
      "   macro avg       0.94      0.94      0.94     65766\n",
      "weighted avg       0.94      0.94      0.94     65766\n",
      "\n"
     ]
    }
   ],
   "source": [
    "from sklearn.metrics import classification_report\n",
    "print(classification_report(os_data_y.astype(int), y_pred.astype(int)))"
   ]
  },
  {
   "cell_type": "markdown",
   "metadata": {},
   "source": [
    "Nota: Valores acima de 0.90 mostra no precision, recall e f1-score mostra um alto grau de ajuste"
   ]
  },
  {
   "cell_type": "markdown",
   "metadata": {},
   "source": [
    "## 3.4 CRV: ROC "
   ]
  },
  {
   "cell_type": "code",
   "execution_count": 16,
   "metadata": {},
   "outputs": [
    {
     "data": {
      "image/png": "[encoded data removed]",
      "text/plain": [
       "<Figure size 432x288 with 1 Axes>"
      ]
     },
     "metadata": {},
     "output_type": "display_data"
    }
   ],
   "source": [
    "from sklearn.metrics import roc_auc_score\n",
    "from sklearn.metrics import roc_curve\n",
    "logit_roc_auc = roc_auc_score(os_data_y.astype(int), clf.predict(X_training.astype(float)))\n",
    "fpr, tpr, thresholds = roc_curve(os_data_y.astype(int), clf.predict_proba(X_training.astype(float))[:,1])\n",
    "plt.figure()\n",
    "plt.plot(fpr, tpr, label='Logistic Regression (area = %0.2f)' % logit_roc_auc)\n",
    "plt.plot([0, 1], [0, 1],'r--')\n",
    "plt.xlim([0.0, 1.0])\n",
    "plt.ylim([0.0, 1.05])\n",
    "plt.xlabel('False Positive Rate')\n",
    "plt.ylabel('True Positive Rate')\n",
    "plt.title('Receiver operating characteristic')\n",
    "plt.legend(loc=\"lower right\")\n",
    "plt.savefig('Log_ROC')\n",
    "plt.show()"
   ]
  },
  {
   "cell_type": "markdown",
   "metadata": {},
   "source": [
    "AUC > 90%"
   ]
  },
  {
   "cell_type": "markdown",
   "metadata": {},
   "source": [
    "# 4. Testando o Modelo\n",
    "\n",
    "## 4.1 Aquisição e verificação dos dados para teste\n",
    "\n",
    "Já realizado no capítulo 1."
   ]
  },
  {
   "cell_type": "markdown",
   "metadata": {},
   "source": [
    "## 4.2 Preparação dos dados\n",
    "\n",
    "Já realizado no capítulo 2."
   ]
  },
  {
   "cell_type": "markdown",
   "metadata": {},
   "source": [
    "## 4.3 Criação de variáveis dummy\n",
    "\n",
    "Já realizado no capítulo 2.3"
   ]
  },
  {
   "cell_type": "markdown",
   "metadata": {},
   "source": [
    "## 4.4 Separação da variável dependente (y) e variáveis independentes (X)\n",
    "Já realizado no capítulo 2.4"
   ]
  },
  {
   "cell_type": "markdown",
   "metadata": {},
   "source": [
    "## 4.5 Normalização dos dados\n",
    "Já realizado no capítulo 2.5"
   ]
  },
  {
   "cell_type": "markdown",
   "metadata": {},
   "source": [
    "## 4.6 Aplicação do modelo \n",
    "Já realizado parcialmente no capítulo 3.1"
   ]
  },
  {
   "cell_type": "code",
   "execution_count": 17,
   "metadata": {},
   "outputs": [
    {
     "name": "stdout",
     "output_type": "stream",
     "text": [
      "Test score:  0.9481582537517054\n"
     ]
    }
   ],
   "source": [
    "clf.fit(X_testing,os_test_y)\n",
    "print(\"Test score: \", clf.score(X_testing, os_test_y))"
   ]
  },
  {
   "cell_type": "markdown",
   "metadata": {},
   "source": [
    "## 4.7 Aplicação da Matriz de Confusão"
   ]
  },
  {
   "cell_type": "code",
   "execution_count": 18,
   "metadata": {},
   "outputs": [
    {
     "data": {
      "text/plain": [
       "array([[3507,  158],\n",
       "       [ 222, 3443]], dtype=int64)"
      ]
     },
     "execution_count": 18,
     "metadata": {},
     "output_type": "execute_result"
    }
   ],
   "source": [
    "y2_pred = clf.predict(X_testing)\n",
    "from sklearn.metrics import confusion_matrix\n",
    "cm2 = confusion_matrix(os_test_y.astype(int),y2_pred.astype(int))\n",
    "cm2"
   ]
  },
  {
   "cell_type": "code",
   "execution_count": 19,
   "metadata": {},
   "outputs": [
    {
     "name": "stdout",
     "output_type": "stream",
     "text": [
      "Confusion matrix, without normalization\n"
     ]
    },
    {
     "data": {
      "image/png": "[encoded data removed]",
      "text/plain": [
       "<Figure size 432x288 with 2 Axes>"
      ]
     },
     "metadata": {},
     "output_type": "display_data"
    }
   ],
   "source": [
    "classes = ['no', 'yes']\n",
    "plot_confusion_matrix(cm2, classes=classes, normalize=False,title='Confusion Matrix')"
   ]
  },
  {
   "cell_type": "markdown",
   "metadata": {},
   "source": [
    "Nota: Valores na matriz de confusão mostra-se bastante equilibrada."
   ]
  },
  {
   "cell_type": "markdown",
   "metadata": {},
   "source": [
    "## 4.8 Classificação"
   ]
  },
  {
   "cell_type": "code",
   "execution_count": 20,
   "metadata": {},
   "outputs": [
    {
     "name": "stdout",
     "output_type": "stream",
     "text": [
      "              precision    recall  f1-score   support\n",
      "\n",
      "           0       0.94      0.96      0.95      3665\n",
      "           1       0.96      0.94      0.95      3665\n",
      "\n",
      "    accuracy                           0.95      7330\n",
      "   macro avg       0.95      0.95      0.95      7330\n",
      "weighted avg       0.95      0.95      0.95      7330\n",
      "\n"
     ]
    }
   ],
   "source": [
    "from sklearn.metrics import classification_report\n",
    "print(classification_report(os_test_y.astype(int), y2_pred.astype(int)))"
   ]
  },
  {
   "cell_type": "markdown",
   "metadata": {},
   "source": [
    "Nota: Praticamente todos os índices foram maiores que 90%. Isso mostra que o modelo de predição está bem ajustado."
   ]
  },
  {
   "cell_type": "markdown",
   "metadata": {},
   "source": [
    "## 4.9 Curva ROC "
   ]
  },
  {
   "cell_type": "code",
   "execution_count": 21,
   "metadata": {},
   "outputs": [
    {
     "data": {
      "image/png": "[encoded data removed]",
      "text/plain": [
       "<Figure size 432x288 with 1 Axes>"
      ]
     },
     "metadata": {},
     "output_type": "display_data"
    }
   ],
   "source": [
    "from sklearn.metrics import roc_auc_score\n",
    "from sklearn.metrics import roc_curve\n",
    "logit_roc_auc2 = roc_auc_score(os_test_y.astype(int), clf.predict(X_testing.astype(float)))\n",
    "fpr2, tpr2, thresholds2 = roc_curve(os_test_y.astype(int), clf.predict_proba(X_testing.astype(float))[:,1])\n",
    "plt.figure()\n",
    "plt.plot(fpr2, tpr2, label='Logistic Regression (area = %0.2f)' % logit_roc_auc2)\n",
    "plt.plot([0, 1], [0, 1],'r--')\n",
    "plt.xlim([0.0, 1.0])\n",
    "plt.ylim([0.0, 1.05])\n",
    "plt.xlabel('False Positive Rate')\n",
    "plt.ylabel('True Positive Rate')\n",
    "plt.title('Receiver operating characteristic (ROC) for Logistic Regression')\n",
    "plt.legend(loc=\"lower right\")\n",
    "plt.savefig('Log_ROC')\n",
    "plt.show()"
   ]
  },
  {
   "cell_type": "markdown",
   "metadata": {},
   "source": [
    "Note: AUC maior que .9 mostra que o modelo está bem ajustado."
   ]
  },
  {
   "cell_type": "markdown",
   "metadata": {},
   "source": [
    "## 5. Análise Qualitativa"
   ]
  },
  {
   "cell_type": "markdown",
   "metadata": {},
   "source": [
    "A análise qualitativa foi realizada por meio dos dados de treinamento, pois são os dados que formaram o modelo."
   ]
  },
  {
   "cell_type": "markdown",
   "metadata": {},
   "source": [
    "## 5.1 Variáveis de Treinamento do Modelo"
   ]
  },
  {
   "cell_type": "code",
   "execution_count": 31,
   "metadata": {},
   "outputs": [
    {
     "name": "stdout",
     "output_type": "stream",
     "text": [
      "<class 'pandas.core.frame.DataFrame'>\n",
      "RangeIndex: 65766 entries, 0 to 65765\n",
      "Data columns (total 54 columns):\n",
      " #   Column                         Non-Null Count  Dtype  \n",
      "---  ------                         --------------  -----  \n",
      " 0   age                            65766 non-null  int64  \n",
      " 1   contact                        65766 non-null  int64  \n",
      " 2   duration                       65766 non-null  int64  \n",
      " 3   campaign                       65766 non-null  int64  \n",
      " 4   pdays                          65766 non-null  int64  \n",
      " 5   previous                       65766 non-null  int64  \n",
      " 6   emp.var.rate                   65766 non-null  float64\n",
      " 7   cons.price.idx                 65766 non-null  float64\n",
      " 8   cons.conf.idx                  65766 non-null  float64\n",
      " 9   euribor3m                      65766 non-null  float64\n",
      " 10  nr.employed                    65766 non-null  float64\n",
      " 11  pdays_no_contact               65766 non-null  int32  \n",
      " 12  job_blue-collar                65766 non-null  uint8  \n",
      " 13  job_entrepreneur               65766 non-null  uint8  \n",
      " 14  job_housemaid                  65766 non-null  uint8  \n",
      " 15  job_management                 65766 non-null  uint8  \n",
      " 16  job_retired                    65766 non-null  uint8  \n",
      " 17  job_self-employed              65766 non-null  uint8  \n",
      " 18  job_services                   65766 non-null  uint8  \n",
      " 19  job_student                    65766 non-null  uint8  \n",
      " 20  job_technician                 65766 non-null  uint8  \n",
      " 21  job_unemployed                 65766 non-null  uint8  \n",
      " 22  job_unknown                    65766 non-null  uint8  \n",
      " 23  marital_married                65766 non-null  uint8  \n",
      " 24  marital_single                 65766 non-null  uint8  \n",
      " 25  marital_unknown                65766 non-null  uint8  \n",
      " 26  education_basic.6y             65766 non-null  uint8  \n",
      " 27  education_basic.9y             65766 non-null  uint8  \n",
      " 28  education_high.school          65766 non-null  uint8  \n",
      " 29  education_illiterate           65766 non-null  uint8  \n",
      " 30  education_professional.course  65766 non-null  uint8  \n",
      " 31  education_university.degree    65766 non-null  uint8  \n",
      " 32  education_unknown              65766 non-null  uint8  \n",
      " 33  default_unknown                65766 non-null  uint8  \n",
      " 34  default_yes                    65766 non-null  uint8  \n",
      " 35  housing_unknown                65766 non-null  uint8  \n",
      " 36  housing_yes                    65766 non-null  uint8  \n",
      " 37  loan_unknown                   65766 non-null  uint8  \n",
      " 38  loan_yes                       65766 non-null  uint8  \n",
      " 39  month_aug                      65766 non-null  uint8  \n",
      " 40  month_dec                      65766 non-null  uint8  \n",
      " 41  month_jul                      65766 non-null  uint8  \n",
      " 42  month_jun                      65766 non-null  uint8  \n",
      " 43  month_mar                      65766 non-null  uint8  \n",
      " 44  month_may                      65766 non-null  uint8  \n",
      " 45  month_nov                      65766 non-null  uint8  \n",
      " 46  month_oct                      65766 non-null  uint8  \n",
      " 47  month_sep                      65766 non-null  uint8  \n",
      " 48  day_of_week_mon                65766 non-null  uint8  \n",
      " 49  day_of_week_thu                65766 non-null  uint8  \n",
      " 50  day_of_week_tue                65766 non-null  uint8  \n",
      " 51  day_of_week_wed                65766 non-null  uint8  \n",
      " 52  poutcome_nonexistent           65766 non-null  uint8  \n",
      " 53  poutcome_success               65766 non-null  uint8  \n",
      "dtypes: float64(5), int32(1), int64(6), uint8(42)\n",
      "memory usage: 8.4 MB\n"
     ]
    }
   ],
   "source": [
    "os_data_X.info()"
   ]
  },
  {
   "cell_type": "markdown",
   "metadata": {},
   "source": [
    "Nota: Logistic Regression nativamente não traz informações sobre pValue, assim\n",
    "não é possível avaliar a importância das features. No entanto, o pacote estatístico statsmodels\n",
    "pode listar o pValue das variáveis."
   ]
  },
  {
   "cell_type": "code",
   "execution_count": 22,
   "metadata": {},
   "outputs": [
    {
     "name": "stdout",
     "output_type": "stream",
     "text": [
      "Index(['age', 'contact', 'duration', 'campaign', 'pdays', 'previous',\n",
      "       'emp.var.rate', 'cons.price.idx', 'cons.conf.idx', 'euribor3m',\n",
      "       'nr.employed', 'pdays_no_contact', 'job_blue-collar',\n",
      "       'job_entrepreneur', 'job_housemaid', 'job_management', 'job_retired',\n",
      "       'job_self-employed', 'job_services', 'job_student', 'job_technician',\n",
      "       'job_unemployed', 'job_unknown', 'marital_married', 'marital_single',\n",
      "       'marital_unknown', 'education_basic.6y', 'education_basic.9y',\n",
      "       'education_high.school', 'education_illiterate',\n",
      "       'education_professional.course', 'education_university.degree',\n",
      "       'education_unknown', 'default_unknown', 'default_yes',\n",
      "       'housing_unknown', 'housing_yes', 'loan_unknown', 'loan_yes',\n",
      "       'month_aug', 'month_dec', 'month_jul', 'month_jun', 'month_mar',\n",
      "       'month_may', 'month_nov', 'month_oct', 'month_sep', 'day_of_week_mon',\n",
      "       'day_of_week_thu', 'day_of_week_tue', 'day_of_week_wed',\n",
      "       'poutcome_nonexistent', 'poutcome_success'],\n",
      "      dtype='object')\n"
     ]
    }
   ],
   "source": [
    "headx=os_data_X.columns\n",
    "print(headx)"
   ]
  },
  {
   "cell_type": "code",
   "execution_count": 33,
   "metadata": {},
   "outputs": [
    {
     "name": "stdout",
     "output_type": "stream",
     "text": [
      "euribor3m 2.1383141930055656\n",
      "duration 2.0100223226021736\n",
      "poutcome_success 0.37812880752331723\n",
      "cons.conf.idx 0.3130802125792953\n",
      "education_illiterate 0.12358247704824993\n",
      "cons.price.idx 0.09995944052159696\n",
      "month_mar 0.05973141719785474\n",
      "age 0.044569707084595504\n",
      "default_yes -0.00024217063138244323\n",
      "housing_unknown -0.06356945936672061\n",
      "loan_unknown -0.06356945936672061\n",
      "job_student -0.09500970463242847\n",
      "month_dec -0.09713902902199817\n",
      "job_unemployed -0.10313459572908806\n",
      "job_unknown -0.12535355486419789\n",
      "poutcome_nonexistent -0.128645598939032\n",
      "pdays_no_contact -0.1405821301748517\n",
      "campaign -0.14138834873108228\n",
      "loan_yes -0.14500837324467458\n",
      "job_technician -0.1607252861377198\n",
      "job_services -0.1813969914284219\n",
      "job_self-employed -0.21783748439756845\n",
      "pdays -0.22442726471266136\n",
      "marital_unknown -0.22892525507988312\n",
      "job_retired -0.2528768050951531\n",
      "housing_yes -0.2754621533982295\n",
      "month_oct -0.2969419470312492\n",
      "job_entrepreneur -0.31702953519134425\n",
      "month_jun -0.32455713436699357\n",
      "month_sep -0.32980873218270657\n",
      "month_jul -0.3455112303222242\n",
      "job_management -0.34814813240821063\n",
      "default_unknown -0.356260761804943\n",
      "education_unknown -0.36090473413708246\n",
      "education_basic.6y -0.3633744449703856\n",
      "job_housemaid -0.38338843531162975\n",
      "marital_single -0.3923286136321077\n",
      "month_aug -0.4046036917867544\n",
      "day_of_week_wed -0.42449139250067525\n",
      "previous -0.43892784154016473\n",
      "marital_married -0.4846355170144342\n",
      "day_of_week_tue -0.49575557802355674\n",
      "day_of_week_mon -0.49912185851088364\n",
      "contact -0.5193821072034502\n",
      "month_nov -0.5227188999600888\n",
      "education_basic.9y -0.5432913210291601\n",
      "education_professional.course -0.5773340247506674\n",
      "day_of_week_thu -0.5961801319188942\n",
      "month_may -0.6940092746056248\n",
      "job_blue-collar -0.7213003295845795\n",
      "education_university.degree -0.858213388549828\n",
      "education_high.school -0.871292855484012\n",
      "emp.var.rate -1.4644620179665622\n",
      "nr.employed -1.9007943287640554\n"
     ]
    }
   ],
   "source": [
    "from matplotlib import pyplot\n",
    "headx=os_data_X.columns\n",
    "orders={}\n",
    "importance = clf.coef_[0]\n",
    "# summarize feature importance\n",
    "for i,v in enumerate(importance):\n",
    "    orders[headx[i]]=v\n",
    "sorted_orders=sorted(orders.items(),key=lambda x: x[1],reverse=True)\n",
    "for i in sorted_orders:\n",
    "    print(i[0],i[1])\n",
    "    #print(i,headx[i],\" score:\",v)\n",
    "\t#print('Feature: %0d, Score: %.5f' % (i,v))\n",
    "# plot feature importance\n",
    "#pyplot.bar([x for x in range(len(importance))], importance)\n",
    "#pyplot.show()"
   ]
  },
  {
   "cell_type": "markdown",
   "metadata": {},
   "source": [
    "Note: Os valores positivos indicam that realizou predição com class 1 (subscreveu ao plano) e negativos indicam que features que indicaram classe 0, i.e. que predisseram que não subscreveram ao plano. As features que mais contribuíram para as respostas positivas pela ordem foram euribor3m, duration, poutcome_success, cons.conf.idx, education_illiterate, cons.price.idx,\n",
    "month_mar, age."
   ]
  },
  {
   "cell_type": "code",
   "execution_count": 23,
   "metadata": {},
   "outputs": [
    {
     "name": "stdout",
     "output_type": "stream",
     "text": [
      "Warning: Maximum number of iterations has been exceeded.\n",
      "         Current function value: 0.170418\n",
      "         Iterations: 35\n",
      "                                         Results: Logit\n",
      "=================================================================================================\n",
      "Model:                          Logit                      Pseudo R-squared:           0.754     \n",
      "Dependent Variable:             y                          AIC:                        22521.3680\n",
      "Date:                           2020-08-08 15:02           BIC:                        23003.3425\n",
      "No. Observations:               65766                      Log-Likelihood:             -11208.   \n",
      "Df Model:                       52                         LL-Null:                    -45586.   \n",
      "Df Residuals:                   65713                      LLR p-value:                0.0000    \n",
      "Converged:                      0.0000                     Scale:                      1.0000    \n",
      "No. Iterations:                 35.0000                                                          \n",
      "-------------------------------------------------------------------------------------------------\n",
      "                               Coef.      Std.Err.      z     P>|z|      [0.025         0.975]   \n",
      "-------------------------------------------------------------------------------------------------\n",
      "age                            -0.0174        0.0021  -8.3450 0.0000        -0.0215       -0.0133\n",
      "contact                        -0.8975        0.0644 -13.9462 0.0000        -1.0236       -0.7714\n",
      "duration                        0.0055        0.0001  72.8637 0.0000         0.0054        0.0057\n",
      "campaign                       -0.1070        0.0112  -9.5635 0.0000        -0.1290       -0.0851\n",
      "pdays                          -0.0910        0.0186  -4.8970 0.0000        -0.1274       -0.0546\n",
      "previous                       -0.6912        0.0543 -12.7401 0.0000        -0.7976       -0.5849\n",
      "emp.var.rate                   -1.2402        0.0806 -15.3948 0.0000        -1.3981       -1.0823\n",
      "cons.price.idx                  0.6784        0.0359  18.8954 0.0000         0.6080        0.7487\n",
      "cons.conf.idx                   0.0269        0.0048   5.5470 0.0000         0.0174        0.0364\n",
      "euribor3m                       0.6668        0.0762   8.7478 0.0000         0.5174        0.8162\n",
      "nr.employed                    -0.0110        0.0007 -15.9165 0.0000        -0.0123       -0.0096\n",
      "pdays_no_contact               88.0741       18.3764   4.7928 0.0000        52.0571      124.0911\n",
      "job_blue-collar                -2.2169        0.0654 -33.9188 0.0000        -2.3450       -2.0888\n",
      "job_entrepreneur               -1.5572        0.1236 -12.6010 0.0000        -1.7994       -1.3150\n",
      "job_housemaid                  -2.3797        0.1496 -15.9096 0.0000        -2.6729       -2.0866\n",
      "job_management                 -1.1846        0.0832 -14.2393 0.0000        -1.3477       -1.0215\n",
      "job_retired                    -1.1164        0.0937 -11.9167 0.0000        -1.3000       -0.9328\n",
      "job_self-employed              -1.6419        0.1270 -12.9239 0.0000        -1.8909       -1.3929\n",
      "job_services                   -1.5389        0.0845 -18.2108 0.0000        -1.7046       -1.3733\n",
      "job_student                    -0.7253        0.1088  -6.6674 0.0000        -0.9386       -0.5121\n",
      "job_technician                 -1.2128        0.0652 -18.5900 0.0000        -1.3407       -1.0850\n",
      "job_unemployed                 -1.4724        0.1330 -11.0731 0.0000        -1.7330       -1.2118\n",
      "job_unknown                    -1.3462        0.2609  -5.1605 0.0000        -1.8575       -0.8349\n",
      "marital_married                -0.9410        0.0474 -19.8365 0.0000        -1.0339       -0.8480\n",
      "marital_single                 -1.0817        0.0565 -19.1302 0.0000        -1.1925       -0.9708\n",
      "marital_unknown                -1.0572        0.4731  -2.2348 0.0254        -1.9845       -0.1300\n",
      "education_basic.6y             -1.8644        0.1100 -16.9548 0.0000        -2.0800       -1.6489\n",
      "education_basic.9y             -2.0280        0.0736 -27.5375 0.0000        -2.1723       -1.8837\n",
      "education_high.school          -2.5966        0.0619 -41.9362 0.0000        -2.7179       -2.4752\n",
      "education_illiterate           -1.4234        0.8322  -1.7103 0.0872        -3.0545        0.2078\n",
      "education_professional.course  -2.2374        0.0796 -28.1231 0.0000        -2.3934       -2.0815\n",
      "education_university.degree    -2.3427        0.0568 -41.2651 0.0000        -2.4539       -2.2314\n",
      "education_unknown              -2.2119        0.1073 -20.6229 0.0000        -2.4221       -2.0017\n",
      "default_unknown                -0.9851        0.0669 -14.7196 0.0000        -1.1163       -0.8539\n",
      "default_yes                   -10.4167      994.7865  -0.0105 0.9916     -1960.1623     1939.3290\n",
      "housing_unknown                -0.4572 11842520.6135  -0.0000 1.0000 -23210914.3459 23210913.4314\n",
      "housing_yes                    -0.3895        0.0359 -10.8642 0.0000        -0.4598       -0.3192\n",
      "loan_unknown                   -0.4572 11842520.6135  -0.0000 1.0000 -23210914.3459 23210913.4314\n",
      "loan_yes                       -0.6461        0.0598 -10.8038 0.0000        -0.7633       -0.5289\n",
      "month_aug                      -1.0515        0.0839 -12.5389 0.0000        -1.2159       -0.8872\n",
      "month_dec                      -2.0164        0.2136  -9.4418 0.0000        -2.4350       -1.5979\n",
      "month_jul                      -1.1587        0.0734 -15.7854 0.0000        -1.3026       -1.0148\n",
      "month_jun                      -1.0697        0.0748 -14.2915 0.0000        -1.2164       -0.9230\n",
      "month_mar                       0.9188        0.1182   7.7748 0.0000         0.6872        1.1504\n",
      "month_may                      -1.5035        0.0623 -24.1204 0.0000        -1.6256       -1.3813\n",
      "month_nov                      -2.7505        0.1151 -23.8989 0.0000        -2.9760       -2.5249\n",
      "month_oct                      -1.7817        0.1262 -14.1158 0.0000        -2.0291       -1.5343\n",
      "month_sep                      -2.0144        0.1264 -15.9337 0.0000        -2.2621       -1.7666\n",
      "day_of_week_mon                -1.5275        0.0546 -27.9795 0.0000        -1.6345       -1.4205\n",
      "day_of_week_thu                -1.3665        0.0527 -25.9538 0.0000        -1.4697       -1.2633\n",
      "day_of_week_tue                -1.2624        0.0547 -23.0788 0.0000        -1.3696       -1.1552\n",
      "day_of_week_wed                -1.1504        0.0539 -21.3595 0.0000        -1.2559       -1.0448\n",
      "poutcome_nonexistent           -0.4341        0.0697  -6.2299 0.0000        -0.5706       -0.2975\n",
      "poutcome_success               -0.0070        0.2252  -0.0310 0.9753        -0.4484        0.4344\n",
      "=================================================================================================\n",
      "\n"
     ]
    }
   ],
   "source": [
    "import statsmodels.api as sm\n",
    "logit_model=sm.Logit(os_data_y.astype(int),os_data_X.astype(int))\n",
    "\n",
    "result=logit_model.fit()\n",
    "print(result.summary2())"
   ]
  },
  {
   "cell_type": "markdown",
   "metadata": {},
   "source": [
    "Nota: variáveis cujo pValue < 0.05 (5%) pode rejeitar a hipótese Ho, no qual a variável não é significante para a composição da variável dependente y. Dessa forma, podemos deduzir que as seguintes variáveis são não significantes: marital_unknown (estado civil desconhecido), education_illiterate (nível educacional analfabeto), default_yes (tem problema crediário), housing_unknown (dívida habitacional), loan_unknown (empréstimo financeiro pessoal), poutcome_success (sucesso na campanha anterior). Possivelmente, porque os montantes para esses casos não são significativos. E também que nessas categorizações, os clientes parecem não ser favoráveis a aceitar uma campanha de depósito a termo, seja por de falta de liquidez, exposição da situação econômica indesejada, ou mesmo por falta de significância."
   ]
  },
  {
   "cell_type": "markdown",
   "metadata": {},
   "source": [
    "## 5.2 RFE Recursive Feature Elimination"
   ]
  },
  {
   "cell_type": "markdown",
   "metadata": {},
   "source": [
    "Foi mostrado até o capítulo 4 que todas as features são necessárias para o ótimo ajuste do modelo.\n",
    "\n",
    "Vamos tentar eliminar algumas features para ver se há alguma feature melhor que outras. Levando em conta que temos 54 features.\n",
    "\n",
    "### 5.2.1 50 Features mais importantes"
   ]
  },
  {
   "cell_type": "code",
   "execution_count": 24,
   "metadata": {},
   "outputs": [
    {
     "name": "stdout",
     "output_type": "stream",
     "text": [
      "[ True  True  True  True  True  True  True  True  True  True  True False\n",
      "  True  True  True  True  True  True  True  True  True  True  True  True\n",
      "  True False  True  True  True False  True  True  True  True False  True\n",
      "  True  True  True  True  True  True  True  True  True  True  True  True\n",
      "  True  True  True  True  True  True]\n",
      "[1 1 1 1 1 1 1 1 1 1 1 5 1 1 1 1 1 1 1 1 1 1 1 1 1 2 1 1 1 3 1 1 1 1 4 1 1\n",
      " 1 1 1 1 1 1 1 1 1 1 1 1 1 1 1 1 1]\n",
      "<class 'pandas.core.frame.DataFrame'>\n",
      "RangeIndex: 65766 entries, 0 to 65765\n",
      "Data columns (total 50 columns):\n",
      " #   Column                         Non-Null Count  Dtype  \n",
      "---  ------                         --------------  -----  \n",
      " 0   age                            65766 non-null  int64  \n",
      " 1   contact                        65766 non-null  int64  \n",
      " 2   duration                       65766 non-null  int64  \n",
      " 3   campaign                       65766 non-null  int64  \n",
      " 4   pdays                          65766 non-null  int64  \n",
      " 5   previous                       65766 non-null  int64  \n",
      " 6   emp.var.rate                   65766 non-null  float64\n",
      " 7   cons.price.idx                 65766 non-null  float64\n",
      " 8   cons.conf.idx                  65766 non-null  float64\n",
      " 9   euribor3m                      65766 non-null  float64\n",
      " 10  nr.employed                    65766 non-null  float64\n",
      " 11  job_blue-collar                65766 non-null  uint8  \n",
      " 12  job_entrepreneur               65766 non-null  uint8  \n",
      " 13  job_housemaid                  65766 non-null  uint8  \n",
      " 14  job_management                 65766 non-null  uint8  \n",
      " 15  job_retired                    65766 non-null  uint8  \n",
      " 16  job_self-employed              65766 non-null  uint8  \n",
      " 17  job_services                   65766 non-null  uint8  \n",
      " 18  job_student                    65766 non-null  uint8  \n",
      " 19  job_technician                 65766 non-null  uint8  \n",
      " 20  job_unemployed                 65766 non-null  uint8  \n",
      " 21  job_unknown                    65766 non-null  uint8  \n",
      " 22  marital_married                65766 non-null  uint8  \n",
      " 23  marital_single                 65766 non-null  uint8  \n",
      " 24  education_basic.6y             65766 non-null  uint8  \n",
      " 25  education_basic.9y             65766 non-null  uint8  \n",
      " 26  education_high.school          65766 non-null  uint8  \n",
      " 27  education_professional.course  65766 non-null  uint8  \n",
      " 28  education_university.degree    65766 non-null  uint8  \n",
      " 29  education_unknown              65766 non-null  uint8  \n",
      " 30  default_unknown                65766 non-null  uint8  \n",
      " 31  housing_unknown                65766 non-null  uint8  \n",
      " 32  housing_yes                    65766 non-null  uint8  \n",
      " 33  loan_unknown                   65766 non-null  uint8  \n",
      " 34  loan_yes                       65766 non-null  uint8  \n",
      " 35  month_aug                      65766 non-null  uint8  \n",
      " 36  month_dec                      65766 non-null  uint8  \n",
      " 37  month_jul                      65766 non-null  uint8  \n",
      " 38  month_jun                      65766 non-null  uint8  \n",
      " 39  month_mar                      65766 non-null  uint8  \n",
      " 40  month_may                      65766 non-null  uint8  \n",
      " 41  month_nov                      65766 non-null  uint8  \n",
      " 42  month_oct                      65766 non-null  uint8  \n",
      " 43  month_sep                      65766 non-null  uint8  \n",
      " 44  day_of_week_mon                65766 non-null  uint8  \n",
      " 45  day_of_week_thu                65766 non-null  uint8  \n",
      " 46  day_of_week_tue                65766 non-null  uint8  \n",
      " 47  day_of_week_wed                65766 non-null  uint8  \n",
      " 48  poutcome_nonexistent           65766 non-null  uint8  \n",
      " 49  poutcome_success               65766 non-null  uint8  \n",
      "dtypes: float64(5), int64(6), uint8(39)\n",
      "memory usage: 8.0 MB\n",
      "None\n"
     ]
    }
   ],
   "source": [
    "from sklearn.feature_selection import RFE\n",
    "from sklearn.linear_model import LogisticRegression\n",
    "logreg = LogisticRegression()\n",
    "rfe = RFE(logreg, 50)\n",
    "rfe = rfe.fit(os_data_X, os_data_y.values.ravel())\n",
    "print(rfe.support_)\n",
    "print(rfe.ranking_)\n",
    "reduceddataset=os_data_X[os_data_X.columns[rfe.support_]]\n",
    "reduceddataset=os_data_X[os_data_X.columns[rfe.support_]]\n",
    "print(reduceddataset.info())"
   ]
  },
  {
   "cell_type": "markdown",
   "metadata": {},
   "source": [
    "Nota: RFE nos ajudou a escolher 50 features mais significativas. Foram eliminadas pdays_no_contact, marital_unknown, education_illiterate, default_yes."
   ]
  },
  {
   "cell_type": "markdown",
   "metadata": {},
   "source": [
    "\n",
    "### 5.2.2 40 Features mais importantes"
   ]
  },
  {
   "cell_type": "code",
   "execution_count": 25,
   "metadata": {},
   "outputs": [
    {
     "name": "stdout",
     "output_type": "stream",
     "text": [
      "[False  True False False False  True  True False False False False False\n",
      "  True  True  True  True  True  True  True  True  True  True  True  True\n",
      "  True False  True  True  True False  True  True  True  True False  True\n",
      "  True  True  True  True False  True  True False  True  True  True  True\n",
      "  True  True  True  True  True  True]\n",
      "[ 9  1  8  2 11  1  1  3 10  5  7 15  1  1  1  1  1  1  1  1  1  1  1  1\n",
      "  1 12  1  1  1 13  1  1  1  1 14  1  1  1  1  1  6  1  1  4  1  1  1  1\n",
      "  1  1  1  1  1  1]\n",
      "<class 'pandas.core.frame.DataFrame'>\n",
      "RangeIndex: 65766 entries, 0 to 65765\n",
      "Data columns (total 40 columns):\n",
      " #   Column                         Non-Null Count  Dtype  \n",
      "---  ------                         --------------  -----  \n",
      " 0   contact                        65766 non-null  int64  \n",
      " 1   previous                       65766 non-null  int64  \n",
      " 2   emp.var.rate                   65766 non-null  float64\n",
      " 3   job_blue-collar                65766 non-null  uint8  \n",
      " 4   job_entrepreneur               65766 non-null  uint8  \n",
      " 5   job_housemaid                  65766 non-null  uint8  \n",
      " 6   job_management                 65766 non-null  uint8  \n",
      " 7   job_retired                    65766 non-null  uint8  \n",
      " 8   job_self-employed              65766 non-null  uint8  \n",
      " 9   job_services                   65766 non-null  uint8  \n",
      " 10  job_student                    65766 non-null  uint8  \n",
      " 11  job_technician                 65766 non-null  uint8  \n",
      " 12  job_unemployed                 65766 non-null  uint8  \n",
      " 13  job_unknown                    65766 non-null  uint8  \n",
      " 14  marital_married                65766 non-null  uint8  \n",
      " 15  marital_single                 65766 non-null  uint8  \n",
      " 16  education_basic.6y             65766 non-null  uint8  \n",
      " 17  education_basic.9y             65766 non-null  uint8  \n",
      " 18  education_high.school          65766 non-null  uint8  \n",
      " 19  education_professional.course  65766 non-null  uint8  \n",
      " 20  education_university.degree    65766 non-null  uint8  \n",
      " 21  education_unknown              65766 non-null  uint8  \n",
      " 22  default_unknown                65766 non-null  uint8  \n",
      " 23  housing_unknown                65766 non-null  uint8  \n",
      " 24  housing_yes                    65766 non-null  uint8  \n",
      " 25  loan_unknown                   65766 non-null  uint8  \n",
      " 26  loan_yes                       65766 non-null  uint8  \n",
      " 27  month_aug                      65766 non-null  uint8  \n",
      " 28  month_jul                      65766 non-null  uint8  \n",
      " 29  month_jun                      65766 non-null  uint8  \n",
      " 30  month_may                      65766 non-null  uint8  \n",
      " 31  month_nov                      65766 non-null  uint8  \n",
      " 32  month_oct                      65766 non-null  uint8  \n",
      " 33  month_sep                      65766 non-null  uint8  \n",
      " 34  day_of_week_mon                65766 non-null  uint8  \n",
      " 35  day_of_week_thu                65766 non-null  uint8  \n",
      " 36  day_of_week_tue                65766 non-null  uint8  \n",
      " 37  day_of_week_wed                65766 non-null  uint8  \n",
      " 38  poutcome_nonexistent           65766 non-null  uint8  \n",
      " 39  poutcome_success               65766 non-null  uint8  \n",
      "dtypes: float64(1), int64(2), uint8(37)\n",
      "memory usage: 3.8 MB\n",
      "None\n"
     ]
    }
   ],
   "source": [
    "from sklearn.feature_selection import RFE\n",
    "from sklearn.linear_model import LogisticRegression\n",
    "logreg = LogisticRegression()\n",
    "rfe = RFE(logreg, 40)\n",
    "rfe = rfe.fit(os_data_X, os_data_y.values.ravel())\n",
    "print(rfe.support_)\n",
    "print(rfe.ranking_)\n",
    "reduceddataset=os_data_X[os_data_X.columns[rfe.support_]]\n",
    "reduceddataset=os_data_X[os_data_X.columns[rfe.support_]]\n",
    "print(reduceddataset.info())"
   ]
  },
  {
   "cell_type": "markdown",
   "metadata": {},
   "source": [
    "Nota: Sairam as features age, duration, campaign, pdays, cons.price.idx, cons.conf.idx, euribor3m, nr.employed, job_unemployed,\n",
    "month_dec\n",
    "\n",
    "\n",
    "### 5.2.3 30 Features mais importantes"
   ]
  },
  {
   "cell_type": "code",
   "execution_count": 26,
   "metadata": {},
   "outputs": [
    {
     "name": "stdout",
     "output_type": "stream",
     "text": [
      "[False  True False False False False False False False False False False\n",
      "  True  True  True  True  True  True  True False  True  True  True  True\n",
      "  True False  True  True  True False  True  True  True  True False False\n",
      " False False False  True False  True  True False  True  True False False\n",
      "  True  True  True  True False  True]\n",
      "[19  1 18 12 21  8 11 13 20 15 17 25  1  1  1  1  1  1  1  9  1  1  1  1\n",
      "  1 22  1  1  1 23  1  1  1  1 24  2  6  5  3  1 16  1  1 14  1  1 10  4\n",
      "  1  1  1  1  7  1]\n",
      "<class 'pandas.core.frame.DataFrame'>\n",
      "RangeIndex: 65766 entries, 0 to 65765\n",
      "Data columns (total 30 columns):\n",
      " #   Column                         Non-Null Count  Dtype\n",
      "---  ------                         --------------  -----\n",
      " 0   contact                        65766 non-null  int64\n",
      " 1   job_blue-collar                65766 non-null  uint8\n",
      " 2   job_entrepreneur               65766 non-null  uint8\n",
      " 3   job_housemaid                  65766 non-null  uint8\n",
      " 4   job_management                 65766 non-null  uint8\n",
      " 5   job_retired                    65766 non-null  uint8\n",
      " 6   job_self-employed              65766 non-null  uint8\n",
      " 7   job_services                   65766 non-null  uint8\n",
      " 8   job_technician                 65766 non-null  uint8\n",
      " 9   job_unemployed                 65766 non-null  uint8\n",
      " 10  job_unknown                    65766 non-null  uint8\n",
      " 11  marital_married                65766 non-null  uint8\n",
      " 12  marital_single                 65766 non-null  uint8\n",
      " 13  education_basic.6y             65766 non-null  uint8\n",
      " 14  education_basic.9y             65766 non-null  uint8\n",
      " 15  education_high.school          65766 non-null  uint8\n",
      " 16  education_professional.course  65766 non-null  uint8\n",
      " 17  education_university.degree    65766 non-null  uint8\n",
      " 18  education_unknown              65766 non-null  uint8\n",
      " 19  default_unknown                65766 non-null  uint8\n",
      " 20  month_aug                      65766 non-null  uint8\n",
      " 21  month_jul                      65766 non-null  uint8\n",
      " 22  month_jun                      65766 non-null  uint8\n",
      " 23  month_may                      65766 non-null  uint8\n",
      " 24  month_nov                      65766 non-null  uint8\n",
      " 25  day_of_week_mon                65766 non-null  uint8\n",
      " 26  day_of_week_thu                65766 non-null  uint8\n",
      " 27  day_of_week_tue                65766 non-null  uint8\n",
      " 28  day_of_week_wed                65766 non-null  uint8\n",
      " 29  poutcome_success               65766 non-null  uint8\n",
      "dtypes: int64(1), uint8(29)\n",
      "memory usage: 2.3 MB\n",
      "None\n"
     ]
    }
   ],
   "source": [
    "from sklearn.feature_selection import RFE\n",
    "from sklearn.linear_model import LogisticRegression\n",
    "logreg = LogisticRegression()\n",
    "rfe = RFE(logreg, 30)\n",
    "rfe = rfe.fit(os_data_X, os_data_y.values.ravel())\n",
    "print(rfe.support_)\n",
    "print(rfe.ranking_)\n",
    "reduceddataset=os_data_X[os_data_X.columns[rfe.support_]]\n",
    "reduceddataset=os_data_X[os_data_X.columns[rfe.support_]]\n",
    "print(reduceddataset.info())"
   ]
  },
  {
   "cell_type": "markdown",
   "metadata": {},
   "source": [
    "Note: Sairam as features: emp.var.rate, previous, job_student, job_unemployed, housing_unknwon, housing_yes, loan_unknown,\n",
    "loan_yes, month_mar, month_oct, month_sep."
   ]
  },
  {
   "cell_type": "markdown",
   "metadata": {},
   "source": [
    "### 5.2.4 20 Features mais importantes"
   ]
  },
  {
   "cell_type": "code",
   "execution_count": 27,
   "metadata": {},
   "outputs": [
    {
     "name": "stdout",
     "output_type": "stream",
     "text": [
      "[False  True False False False False False False False False False False\n",
      "  True  True  True False False  True  True False False  True  True False\n",
      " False False  True  True  True False  True  True  True False False False\n",
      " False False False False False False False False False  True False False\n",
      "  True  True  True  True False  True]\n",
      "[29  1 28 22 31 18 21 23 30 25 27 35  1  1  1  6  5  1  1 19  7  1  1 10\n",
      "  9 32  1  1  1 33  1  1  1  8 34 12 16 15 13  2 26  3 11 24  4  1 20 14\n",
      "  1  1  1  1 17  1]\n",
      "<class 'pandas.core.frame.DataFrame'>\n",
      "RangeIndex: 65766 entries, 0 to 65765\n",
      "Data columns (total 20 columns):\n",
      " #   Column                         Non-Null Count  Dtype\n",
      "---  ------                         --------------  -----\n",
      " 0   contact                        65766 non-null  int64\n",
      " 1   job_blue-collar                65766 non-null  uint8\n",
      " 2   job_entrepreneur               65766 non-null  uint8\n",
      " 3   job_housemaid                  65766 non-null  uint8\n",
      " 4   job_self-employed              65766 non-null  uint8\n",
      " 5   job_services                   65766 non-null  uint8\n",
      " 6   job_unemployed                 65766 non-null  uint8\n",
      " 7   job_unknown                    65766 non-null  uint8\n",
      " 8   education_basic.6y             65766 non-null  uint8\n",
      " 9   education_basic.9y             65766 non-null  uint8\n",
      " 10  education_high.school          65766 non-null  uint8\n",
      " 11  education_professional.course  65766 non-null  uint8\n",
      " 12  education_university.degree    65766 non-null  uint8\n",
      " 13  education_unknown              65766 non-null  uint8\n",
      " 14  month_nov                      65766 non-null  uint8\n",
      " 15  day_of_week_mon                65766 non-null  uint8\n",
      " 16  day_of_week_thu                65766 non-null  uint8\n",
      " 17  day_of_week_tue                65766 non-null  uint8\n",
      " 18  day_of_week_wed                65766 non-null  uint8\n",
      " 19  poutcome_success               65766 non-null  uint8\n",
      "dtypes: int64(1), uint8(19)\n",
      "memory usage: 1.7 MB\n",
      "None\n"
     ]
    }
   ],
   "source": [
    "from sklearn.feature_selection import RFE\n",
    "from sklearn.linear_model import LogisticRegression\n",
    "logreg = LogisticRegression()\n",
    "rfe = RFE(logreg, 20)\n",
    "rfe = rfe.fit(os_data_X, os_data_y.values.ravel())\n",
    "print(rfe.support_)\n",
    "print(rfe.ranking_)\n",
    "reduceddataset=os_data_X[os_data_X.columns[rfe.support_]]\n",
    "reduceddataset=os_data_X[os_data_X.columns[rfe.support_]]\n",
    "print(reduceddataset.info())"
   ]
  },
  {
   "cell_type": "markdown",
   "metadata": {},
   "source": [
    "Note: Sairam as features job_management, job_retired, job_technician, marital_married, marital_single, default_unknown, month_aug, month_jul, month_jun, month_may\n",
    "\n",
    "### 5.2.5 10 Features mais importantes"
   ]
  },
  {
   "cell_type": "code",
   "execution_count": 28,
   "metadata": {},
   "outputs": [
    {
     "name": "stdout",
     "output_type": "stream",
     "text": [
      "[False False False False False False False False False False False False\n",
      "  True False  True False False False False False False False False False\n",
      " False False  True  True  True False  True  True  True False False False\n",
      " False False False False False False False False False False False False\n",
      "  True False False False False  True]\n",
      "[39  5 38 32 41 28 31 33 40 35 37 45  1  7  1 16 15  8  9 29 17 10  6 20\n",
      " 19 42  1  1  1 43  1  1  1 18 44 22 26 25 23 12 36 13 21 34 14 11 30 24\n",
      "  1  4  2  3 27  1]\n",
      "<class 'pandas.core.frame.DataFrame'>\n",
      "RangeIndex: 65766 entries, 0 to 65765\n",
      "Data columns (total 10 columns):\n",
      " #   Column                         Non-Null Count  Dtype\n",
      "---  ------                         --------------  -----\n",
      " 0   job_blue-collar                65766 non-null  uint8\n",
      " 1   job_housemaid                  65766 non-null  uint8\n",
      " 2   education_basic.6y             65766 non-null  uint8\n",
      " 3   education_basic.9y             65766 non-null  uint8\n",
      " 4   education_high.school          65766 non-null  uint8\n",
      " 5   education_professional.course  65766 non-null  uint8\n",
      " 6   education_university.degree    65766 non-null  uint8\n",
      " 7   education_unknown              65766 non-null  uint8\n",
      " 8   day_of_week_mon                65766 non-null  uint8\n",
      " 9   poutcome_success               65766 non-null  uint8\n",
      "dtypes: uint8(10)\n",
      "memory usage: 642.4 KB\n",
      "None\n"
     ]
    }
   ],
   "source": [
    "from sklearn.feature_selection import RFE\n",
    "from sklearn.linear_model import LogisticRegression\n",
    "logreg = LogisticRegression()\n",
    "rfe = RFE(logreg, 10)\n",
    "rfe = rfe.fit(os_data_X, os_data_y.values.ravel())\n",
    "print(rfe.support_)\n",
    "print(rfe.ranking_)\n",
    "reduceddataset=os_data_X[os_data_X.columns[rfe.support_]]\n",
    "reduceddataset=os_data_X[os_data_X.columns[rfe.support_]]\n",
    "print(reduceddataset.info())"
   ]
  },
  {
   "cell_type": "markdown",
   "metadata": {},
   "source": [
    "Nota: Sairam as features: contact, job_entrepreneur, job_self-employed, job_services, job_unemployed, job_unknown, month_nov, \n",
    "day_of_week_thu, day_of_week_tue, day_of_week_wed. As 10 features mais importantes são: job_blue_collar (operário), job_housemaid (empregada doméstica), education_basic.6y (educação básica com 6 anos), education_basic.9y (educação básica\n",
    "com 9 anos), education_high_school (ensino médio), education_professional.course (ensino profissionalizante), education_university.degree (universitário), education_unknown (educação desconhecida), day_of_week_mon (segunda-feira), poutcome_success (subscreveu na campanha prévia com sucesso)."
   ]
  },
  {
   "cell_type": "markdown",
   "metadata": {},
   "source": [
    "## 5.3 Análise dos Casos"
   ]
  },
  {
   "cell_type": "markdown",
   "metadata": {},
   "source": [
    "### 5.3.1 Variáveis numéricas"
   ]
  },
  {
   "cell_type": "code",
   "execution_count": 29,
   "metadata": {},
   "outputs": [],
   "source": [
    "from scipy.stats import ttest_ind\n",
    "min_max_scaler=preprocessing.MinMaxScaler()"
   ]
  },
  {
   "cell_type": "code",
   "execution_count": 30,
   "metadata": {},
   "outputs": [
    {
     "data": {
      "text/html": [
       "<div>\n",
       "<style scoped>\n",
       "    .dataframe tbody tr th:only-of-type {\n",
       "        vertical-align: middle;\n",
       "    }\n",
       "\n",
       "    .dataframe tbody tr th {\n",
       "        vertical-align: top;\n",
       "    }\n",
       "\n",
       "    .dataframe thead th {\n",
       "        text-align: right;\n",
       "    }\n",
       "</style>\n",
       "<table border=\"1\" class=\"dataframe\">\n",
       "  <thead>\n",
       "    <tr style=\"text-align: right;\">\n",
       "      <th></th>\n",
       "      <th>y</th>\n",
       "      <th>age</th>\n",
       "      <th>contact</th>\n",
       "      <th>duration</th>\n",
       "      <th>campaign</th>\n",
       "      <th>pdays</th>\n",
       "      <th>previous</th>\n",
       "      <th>emp.var.rate</th>\n",
       "      <th>cons.price.idx</th>\n",
       "      <th>cons.conf.idx</th>\n",
       "      <th>...</th>\n",
       "      <th>month_may</th>\n",
       "      <th>month_nov</th>\n",
       "      <th>month_oct</th>\n",
       "      <th>month_sep</th>\n",
       "      <th>day_of_week_mon</th>\n",
       "      <th>day_of_week_thu</th>\n",
       "      <th>day_of_week_tue</th>\n",
       "      <th>day_of_week_wed</th>\n",
       "      <th>poutcome_nonexistent</th>\n",
       "      <th>poutcome_success</th>\n",
       "    </tr>\n",
       "  </thead>\n",
       "  <tbody>\n",
       "    <tr>\n",
       "      <th>count</th>\n",
       "      <td>32883.0</td>\n",
       "      <td>32883.000000</td>\n",
       "      <td>32883.000000</td>\n",
       "      <td>32883.000000</td>\n",
       "      <td>32883.000000</td>\n",
       "      <td>32883.000000</td>\n",
       "      <td>32883.000000</td>\n",
       "      <td>32883.000000</td>\n",
       "      <td>32883.000000</td>\n",
       "      <td>32883.000000</td>\n",
       "      <td>...</td>\n",
       "      <td>32883.000000</td>\n",
       "      <td>32883.000000</td>\n",
       "      <td>32883.000000</td>\n",
       "      <td>32883.000000</td>\n",
       "      <td>32883.000000</td>\n",
       "      <td>32883.000000</td>\n",
       "      <td>32883.000000</td>\n",
       "      <td>32883.000000</td>\n",
       "      <td>32883.000000</td>\n",
       "      <td>32883.000000</td>\n",
       "    </tr>\n",
       "    <tr>\n",
       "      <th>mean</th>\n",
       "      <td>1.0</td>\n",
       "      <td>40.122617</td>\n",
       "      <td>0.079859</td>\n",
       "      <td>547.051851</td>\n",
       "      <td>1.727640</td>\n",
       "      <td>789.437612</td>\n",
       "      <td>0.364748</td>\n",
       "      <td>-1.241372</td>\n",
       "      <td>93.362271</td>\n",
       "      <td>-39.836292</td>\n",
       "      <td>...</td>\n",
       "      <td>0.115531</td>\n",
       "      <td>0.035642</td>\n",
       "      <td>0.028586</td>\n",
       "      <td>0.026184</td>\n",
       "      <td>0.050087</td>\n",
       "      <td>0.075084</td>\n",
       "      <td>0.065535</td>\n",
       "      <td>0.067056</td>\n",
       "      <td>0.598942</td>\n",
       "      <td>0.180701</td>\n",
       "    </tr>\n",
       "    <tr>\n",
       "      <th>std</th>\n",
       "      <td>0.0</td>\n",
       "      <td>13.018596</td>\n",
       "      <td>0.271079</td>\n",
       "      <td>397.754198</td>\n",
       "      <td>1.288936</td>\n",
       "      <td>405.332572</td>\n",
       "      <td>0.708787</td>\n",
       "      <td>1.612641</td>\n",
       "      <td>0.657854</td>\n",
       "      <td>5.934829</td>\n",
       "      <td>...</td>\n",
       "      <td>0.319666</td>\n",
       "      <td>0.185398</td>\n",
       "      <td>0.166643</td>\n",
       "      <td>0.159684</td>\n",
       "      <td>0.218127</td>\n",
       "      <td>0.263531</td>\n",
       "      <td>0.247472</td>\n",
       "      <td>0.250123</td>\n",
       "      <td>0.490120</td>\n",
       "      <td>0.384776</td>\n",
       "    </tr>\n",
       "    <tr>\n",
       "      <th>min</th>\n",
       "      <td>1.0</td>\n",
       "      <td>17.000000</td>\n",
       "      <td>0.000000</td>\n",
       "      <td>37.000000</td>\n",
       "      <td>1.000000</td>\n",
       "      <td>0.000000</td>\n",
       "      <td>0.000000</td>\n",
       "      <td>-3.400000</td>\n",
       "      <td>92.201000</td>\n",
       "      <td>-50.800000</td>\n",
       "      <td>...</td>\n",
       "      <td>0.000000</td>\n",
       "      <td>0.000000</td>\n",
       "      <td>0.000000</td>\n",
       "      <td>0.000000</td>\n",
       "      <td>0.000000</td>\n",
       "      <td>0.000000</td>\n",
       "      <td>0.000000</td>\n",
       "      <td>0.000000</td>\n",
       "      <td>0.000000</td>\n",
       "      <td>0.000000</td>\n",
       "    </tr>\n",
       "    <tr>\n",
       "      <th>25%</th>\n",
       "      <td>1.0</td>\n",
       "      <td>31.000000</td>\n",
       "      <td>0.000000</td>\n",
       "      <td>251.000000</td>\n",
       "      <td>1.000000</td>\n",
       "      <td>999.000000</td>\n",
       "      <td>0.000000</td>\n",
       "      <td>-2.323820</td>\n",
       "      <td>92.893000</td>\n",
       "      <td>-46.200000</td>\n",
       "      <td>...</td>\n",
       "      <td>0.000000</td>\n",
       "      <td>0.000000</td>\n",
       "      <td>0.000000</td>\n",
       "      <td>0.000000</td>\n",
       "      <td>0.000000</td>\n",
       "      <td>0.000000</td>\n",
       "      <td>0.000000</td>\n",
       "      <td>0.000000</td>\n",
       "      <td>0.000000</td>\n",
       "      <td>0.000000</td>\n",
       "    </tr>\n",
       "    <tr>\n",
       "      <th>50%</th>\n",
       "      <td>1.0</td>\n",
       "      <td>36.000000</td>\n",
       "      <td>0.000000</td>\n",
       "      <td>441.000000</td>\n",
       "      <td>1.000000</td>\n",
       "      <td>999.000000</td>\n",
       "      <td>0.000000</td>\n",
       "      <td>-1.800000</td>\n",
       "      <td>93.200000</td>\n",
       "      <td>-40.300000</td>\n",
       "      <td>...</td>\n",
       "      <td>0.000000</td>\n",
       "      <td>0.000000</td>\n",
       "      <td>0.000000</td>\n",
       "      <td>0.000000</td>\n",
       "      <td>0.000000</td>\n",
       "      <td>0.000000</td>\n",
       "      <td>0.000000</td>\n",
       "      <td>0.000000</td>\n",
       "      <td>1.000000</td>\n",
       "      <td>0.000000</td>\n",
       "    </tr>\n",
       "    <tr>\n",
       "      <th>75%</th>\n",
       "      <td>1.0</td>\n",
       "      <td>48.000000</td>\n",
       "      <td>0.000000</td>\n",
       "      <td>735.000000</td>\n",
       "      <td>2.000000</td>\n",
       "      <td>999.000000</td>\n",
       "      <td>1.000000</td>\n",
       "      <td>0.006391</td>\n",
       "      <td>93.954379</td>\n",
       "      <td>-36.100000</td>\n",
       "      <td>...</td>\n",
       "      <td>0.000000</td>\n",
       "      <td>0.000000</td>\n",
       "      <td>0.000000</td>\n",
       "      <td>0.000000</td>\n",
       "      <td>0.000000</td>\n",
       "      <td>0.000000</td>\n",
       "      <td>0.000000</td>\n",
       "      <td>0.000000</td>\n",
       "      <td>1.000000</td>\n",
       "      <td>0.000000</td>\n",
       "    </tr>\n",
       "    <tr>\n",
       "      <th>max</th>\n",
       "      <td>1.0</td>\n",
       "      <td>98.000000</td>\n",
       "      <td>1.000000</td>\n",
       "      <td>4199.000000</td>\n",
       "      <td>23.000000</td>\n",
       "      <td>999.000000</td>\n",
       "      <td>6.000000</td>\n",
       "      <td>1.400000</td>\n",
       "      <td>94.767000</td>\n",
       "      <td>-26.900000</td>\n",
       "      <td>...</td>\n",
       "      <td>1.000000</td>\n",
       "      <td>1.000000</td>\n",
       "      <td>1.000000</td>\n",
       "      <td>1.000000</td>\n",
       "      <td>1.000000</td>\n",
       "      <td>1.000000</td>\n",
       "      <td>1.000000</td>\n",
       "      <td>1.000000</td>\n",
       "      <td>1.000000</td>\n",
       "      <td>1.000000</td>\n",
       "    </tr>\n",
       "  </tbody>\n",
       "</table>\n",
       "<p>8 rows × 55 columns</p>\n",
       "</div>"
      ],
      "text/plain": [
       "             y           age       contact      duration      campaign  \\\n",
       "count  32883.0  32883.000000  32883.000000  32883.000000  32883.000000   \n",
       "mean       1.0     40.122617      0.079859    547.051851      1.727640   \n",
       "std        0.0     13.018596      0.271079    397.754198      1.288936   \n",
       "min        1.0     17.000000      0.000000     37.000000      1.000000   \n",
       "25%        1.0     31.000000      0.000000    251.000000      1.000000   \n",
       "50%        1.0     36.000000      0.000000    441.000000      1.000000   \n",
       "75%        1.0     48.000000      0.000000    735.000000      2.000000   \n",
       "max        1.0     98.000000      1.000000   4199.000000     23.000000   \n",
       "\n",
       "              pdays      previous  emp.var.rate  cons.price.idx  \\\n",
       "count  32883.000000  32883.000000  32883.000000    32883.000000   \n",
       "mean     789.437612      0.364748     -1.241372       93.362271   \n",
       "std      405.332572      0.708787      1.612641        0.657854   \n",
       "min        0.000000      0.000000     -3.400000       92.201000   \n",
       "25%      999.000000      0.000000     -2.323820       92.893000   \n",
       "50%      999.000000      0.000000     -1.800000       93.200000   \n",
       "75%      999.000000      1.000000      0.006391       93.954379   \n",
       "max      999.000000      6.000000      1.400000       94.767000   \n",
       "\n",
       "       cons.conf.idx  ...     month_may     month_nov     month_oct  \\\n",
       "count   32883.000000  ...  32883.000000  32883.000000  32883.000000   \n",
       "mean      -39.836292  ...      0.115531      0.035642      0.028586   \n",
       "std         5.934829  ...      0.319666      0.185398      0.166643   \n",
       "min       -50.800000  ...      0.000000      0.000000      0.000000   \n",
       "25%       -46.200000  ...      0.000000      0.000000      0.000000   \n",
       "50%       -40.300000  ...      0.000000      0.000000      0.000000   \n",
       "75%       -36.100000  ...      0.000000      0.000000      0.000000   \n",
       "max       -26.900000  ...      1.000000      1.000000      1.000000   \n",
       "\n",
       "          month_sep  day_of_week_mon  day_of_week_thu  day_of_week_tue  \\\n",
       "count  32883.000000     32883.000000     32883.000000     32883.000000   \n",
       "mean       0.026184         0.050087         0.075084         0.065535   \n",
       "std        0.159684         0.218127         0.263531         0.247472   \n",
       "min        0.000000         0.000000         0.000000         0.000000   \n",
       "25%        0.000000         0.000000         0.000000         0.000000   \n",
       "50%        0.000000         0.000000         0.000000         0.000000   \n",
       "75%        0.000000         0.000000         0.000000         0.000000   \n",
       "max        1.000000         1.000000         1.000000         1.000000   \n",
       "\n",
       "       day_of_week_wed  poutcome_nonexistent  poutcome_success  \n",
       "count     32883.000000          32883.000000      32883.000000  \n",
       "mean          0.067056              0.598942          0.180701  \n",
       "std           0.250123              0.490120          0.384776  \n",
       "min           0.000000              0.000000          0.000000  \n",
       "25%           0.000000              0.000000          0.000000  \n",
       "50%           0.000000              1.000000          0.000000  \n",
       "75%           0.000000              1.000000          0.000000  \n",
       "max           1.000000              1.000000          1.000000  \n",
       "\n",
       "[8 rows x 55 columns]"
      ]
     },
     "execution_count": 30,
     "metadata": {},
     "output_type": "execute_result"
    }
   ],
   "source": [
    "#Xyes = os_data_X.loc[:, os_data_y ==1df.columns != 'y']\n",
    "#y = df.loc[:, df.columns == 'y']\n",
    "temp=pd.concat([os_data_y, os_data_X], axis=1)\n",
    "positiveX=temp.loc[temp['y']==1]\n",
    "negativeX=temp.loc[temp['y']==0]\n",
    "positiveX.describe()"
   ]
  },
  {
   "cell_type": "code",
   "execution_count": 42,
   "metadata": {},
   "outputs": [
    {
     "data": {
      "text/html": [
       "<div>\n",
       "<style scoped>\n",
       "    .dataframe tbody tr th:only-of-type {\n",
       "        vertical-align: middle;\n",
       "    }\n",
       "\n",
       "    .dataframe tbody tr th {\n",
       "        vertical-align: top;\n",
       "    }\n",
       "\n",
       "    .dataframe thead th {\n",
       "        text-align: right;\n",
       "    }\n",
       "</style>\n",
       "<table border=\"1\" class=\"dataframe\">\n",
       "  <thead>\n",
       "    <tr style=\"text-align: right;\">\n",
       "      <th></th>\n",
       "      <th>y</th>\n",
       "      <th>age</th>\n",
       "      <th>contact</th>\n",
       "      <th>duration</th>\n",
       "      <th>campaign</th>\n",
       "      <th>pdays</th>\n",
       "      <th>previous</th>\n",
       "      <th>emp.var.rate</th>\n",
       "      <th>cons.price.idx</th>\n",
       "      <th>cons.conf.idx</th>\n",
       "      <th>...</th>\n",
       "      <th>month_may</th>\n",
       "      <th>month_nov</th>\n",
       "      <th>month_oct</th>\n",
       "      <th>month_sep</th>\n",
       "      <th>day_of_week_mon</th>\n",
       "      <th>day_of_week_thu</th>\n",
       "      <th>day_of_week_tue</th>\n",
       "      <th>day_of_week_wed</th>\n",
       "      <th>poutcome_nonexistent</th>\n",
       "      <th>poutcome_success</th>\n",
       "    </tr>\n",
       "  </thead>\n",
       "  <tbody>\n",
       "    <tr>\n",
       "      <th>count</th>\n",
       "      <td>32883.0</td>\n",
       "      <td>32883.000000</td>\n",
       "      <td>32883.000000</td>\n",
       "      <td>32883.000000</td>\n",
       "      <td>32883.000000</td>\n",
       "      <td>32883.000000</td>\n",
       "      <td>32883.000000</td>\n",
       "      <td>32883.000000</td>\n",
       "      <td>32883.000000</td>\n",
       "      <td>32883.000000</td>\n",
       "      <td>...</td>\n",
       "      <td>32883.000000</td>\n",
       "      <td>32883.000000</td>\n",
       "      <td>32883.00000</td>\n",
       "      <td>32883.000000</td>\n",
       "      <td>32883.000000</td>\n",
       "      <td>32883.000000</td>\n",
       "      <td>32883.000000</td>\n",
       "      <td>32883.000000</td>\n",
       "      <td>32883.000000</td>\n",
       "      <td>32883.000000</td>\n",
       "    </tr>\n",
       "    <tr>\n",
       "      <th>mean</th>\n",
       "      <td>0.0</td>\n",
       "      <td>39.912052</td>\n",
       "      <td>0.391175</td>\n",
       "      <td>220.607274</td>\n",
       "      <td>2.629809</td>\n",
       "      <td>984.266521</td>\n",
       "      <td>0.131162</td>\n",
       "      <td>0.252644</td>\n",
       "      <td>93.605208</td>\n",
       "      <td>-40.577295</td>\n",
       "      <td>...</td>\n",
       "      <td>0.352249</td>\n",
       "      <td>0.101177</td>\n",
       "      <td>0.01107</td>\n",
       "      <td>0.008698</td>\n",
       "      <td>0.209105</td>\n",
       "      <td>0.206703</td>\n",
       "      <td>0.194934</td>\n",
       "      <td>0.197579</td>\n",
       "      <td>0.888058</td>\n",
       "      <td>0.013016</td>\n",
       "    </tr>\n",
       "    <tr>\n",
       "      <th>std</th>\n",
       "      <td>0.0</td>\n",
       "      <td>9.908418</td>\n",
       "      <td>0.488021</td>\n",
       "      <td>206.981497</td>\n",
       "      <td>2.860325</td>\n",
       "      <td>120.045133</td>\n",
       "      <td>0.407240</td>\n",
       "      <td>1.481820</td>\n",
       "      <td>0.558937</td>\n",
       "      <td>4.388039</td>\n",
       "      <td>...</td>\n",
       "      <td>0.477678</td>\n",
       "      <td>0.301567</td>\n",
       "      <td>0.10463</td>\n",
       "      <td>0.092855</td>\n",
       "      <td>0.406676</td>\n",
       "      <td>0.404946</td>\n",
       "      <td>0.396156</td>\n",
       "      <td>0.398179</td>\n",
       "      <td>0.315300</td>\n",
       "      <td>0.113344</td>\n",
       "    </tr>\n",
       "    <tr>\n",
       "      <th>min</th>\n",
       "      <td>0.0</td>\n",
       "      <td>17.000000</td>\n",
       "      <td>0.000000</td>\n",
       "      <td>0.000000</td>\n",
       "      <td>1.000000</td>\n",
       "      <td>0.000000</td>\n",
       "      <td>0.000000</td>\n",
       "      <td>-3.400000</td>\n",
       "      <td>92.201000</td>\n",
       "      <td>-50.800000</td>\n",
       "      <td>...</td>\n",
       "      <td>0.000000</td>\n",
       "      <td>0.000000</td>\n",
       "      <td>0.00000</td>\n",
       "      <td>0.000000</td>\n",
       "      <td>0.000000</td>\n",
       "      <td>0.000000</td>\n",
       "      <td>0.000000</td>\n",
       "      <td>0.000000</td>\n",
       "      <td>0.000000</td>\n",
       "      <td>0.000000</td>\n",
       "    </tr>\n",
       "    <tr>\n",
       "      <th>25%</th>\n",
       "      <td>0.0</td>\n",
       "      <td>32.000000</td>\n",
       "      <td>0.000000</td>\n",
       "      <td>95.000000</td>\n",
       "      <td>1.000000</td>\n",
       "      <td>999.000000</td>\n",
       "      <td>0.000000</td>\n",
       "      <td>-1.800000</td>\n",
       "      <td>93.075000</td>\n",
       "      <td>-42.700000</td>\n",
       "      <td>...</td>\n",
       "      <td>0.000000</td>\n",
       "      <td>0.000000</td>\n",
       "      <td>0.00000</td>\n",
       "      <td>0.000000</td>\n",
       "      <td>0.000000</td>\n",
       "      <td>0.000000</td>\n",
       "      <td>0.000000</td>\n",
       "      <td>0.000000</td>\n",
       "      <td>1.000000</td>\n",
       "      <td>0.000000</td>\n",
       "    </tr>\n",
       "    <tr>\n",
       "      <th>50%</th>\n",
       "      <td>0.0</td>\n",
       "      <td>38.000000</td>\n",
       "      <td>0.000000</td>\n",
       "      <td>163.000000</td>\n",
       "      <td>2.000000</td>\n",
       "      <td>999.000000</td>\n",
       "      <td>0.000000</td>\n",
       "      <td>1.100000</td>\n",
       "      <td>93.918000</td>\n",
       "      <td>-41.800000</td>\n",
       "      <td>...</td>\n",
       "      <td>0.000000</td>\n",
       "      <td>0.000000</td>\n",
       "      <td>0.00000</td>\n",
       "      <td>0.000000</td>\n",
       "      <td>0.000000</td>\n",
       "      <td>0.000000</td>\n",
       "      <td>0.000000</td>\n",
       "      <td>0.000000</td>\n",
       "      <td>1.000000</td>\n",
       "      <td>0.000000</td>\n",
       "    </tr>\n",
       "    <tr>\n",
       "      <th>75%</th>\n",
       "      <td>0.0</td>\n",
       "      <td>47.000000</td>\n",
       "      <td>1.000000</td>\n",
       "      <td>279.000000</td>\n",
       "      <td>3.000000</td>\n",
       "      <td>999.000000</td>\n",
       "      <td>0.000000</td>\n",
       "      <td>1.400000</td>\n",
       "      <td>93.994000</td>\n",
       "      <td>-36.400000</td>\n",
       "      <td>...</td>\n",
       "      <td>1.000000</td>\n",
       "      <td>0.000000</td>\n",
       "      <td>0.00000</td>\n",
       "      <td>0.000000</td>\n",
       "      <td>0.000000</td>\n",
       "      <td>0.000000</td>\n",
       "      <td>0.000000</td>\n",
       "      <td>0.000000</td>\n",
       "      <td>1.000000</td>\n",
       "      <td>0.000000</td>\n",
       "    </tr>\n",
       "    <tr>\n",
       "      <th>max</th>\n",
       "      <td>0.0</td>\n",
       "      <td>95.000000</td>\n",
       "      <td>1.000000</td>\n",
       "      <td>4918.000000</td>\n",
       "      <td>56.000000</td>\n",
       "      <td>999.000000</td>\n",
       "      <td>7.000000</td>\n",
       "      <td>1.400000</td>\n",
       "      <td>94.767000</td>\n",
       "      <td>-26.900000</td>\n",
       "      <td>...</td>\n",
       "      <td>1.000000</td>\n",
       "      <td>1.000000</td>\n",
       "      <td>1.00000</td>\n",
       "      <td>1.000000</td>\n",
       "      <td>1.000000</td>\n",
       "      <td>1.000000</td>\n",
       "      <td>1.000000</td>\n",
       "      <td>1.000000</td>\n",
       "      <td>1.000000</td>\n",
       "      <td>1.000000</td>\n",
       "    </tr>\n",
       "  </tbody>\n",
       "</table>\n",
       "<p>8 rows × 55 columns</p>\n",
       "</div>"
      ],
      "text/plain": [
       "             y           age       contact      duration      campaign  \\\n",
       "count  32883.0  32883.000000  32883.000000  32883.000000  32883.000000   \n",
       "mean       0.0     39.912052      0.391175    220.607274      2.629809   \n",
       "std        0.0      9.908418      0.488021    206.981497      2.860325   \n",
       "min        0.0     17.000000      0.000000      0.000000      1.000000   \n",
       "25%        0.0     32.000000      0.000000     95.000000      1.000000   \n",
       "50%        0.0     38.000000      0.000000    163.000000      2.000000   \n",
       "75%        0.0     47.000000      1.000000    279.000000      3.000000   \n",
       "max        0.0     95.000000      1.000000   4918.000000     56.000000   \n",
       "\n",
       "              pdays      previous  emp.var.rate  cons.price.idx  \\\n",
       "count  32883.000000  32883.000000  32883.000000    32883.000000   \n",
       "mean     984.266521      0.131162      0.252644       93.605208   \n",
       "std      120.045133      0.407240      1.481820        0.558937   \n",
       "min        0.000000      0.000000     -3.400000       92.201000   \n",
       "25%      999.000000      0.000000     -1.800000       93.075000   \n",
       "50%      999.000000      0.000000      1.100000       93.918000   \n",
       "75%      999.000000      0.000000      1.400000       93.994000   \n",
       "max      999.000000      7.000000      1.400000       94.767000   \n",
       "\n",
       "       cons.conf.idx  ...     month_may     month_nov    month_oct  \\\n",
       "count   32883.000000  ...  32883.000000  32883.000000  32883.00000   \n",
       "mean      -40.577295  ...      0.352249      0.101177      0.01107   \n",
       "std         4.388039  ...      0.477678      0.301567      0.10463   \n",
       "min       -50.800000  ...      0.000000      0.000000      0.00000   \n",
       "25%       -42.700000  ...      0.000000      0.000000      0.00000   \n",
       "50%       -41.800000  ...      0.000000      0.000000      0.00000   \n",
       "75%       -36.400000  ...      1.000000      0.000000      0.00000   \n",
       "max       -26.900000  ...      1.000000      1.000000      1.00000   \n",
       "\n",
       "          month_sep  day_of_week_mon  day_of_week_thu  day_of_week_tue  \\\n",
       "count  32883.000000     32883.000000     32883.000000     32883.000000   \n",
       "mean       0.008698         0.209105         0.206703         0.194934   \n",
       "std        0.092855         0.406676         0.404946         0.396156   \n",
       "min        0.000000         0.000000         0.000000         0.000000   \n",
       "25%        0.000000         0.000000         0.000000         0.000000   \n",
       "50%        0.000000         0.000000         0.000000         0.000000   \n",
       "75%        0.000000         0.000000         0.000000         0.000000   \n",
       "max        1.000000         1.000000         1.000000         1.000000   \n",
       "\n",
       "       day_of_week_wed  poutcome_nonexistent  poutcome_success  \n",
       "count     32883.000000          32883.000000      32883.000000  \n",
       "mean          0.197579              0.888058          0.013016  \n",
       "std           0.398179              0.315300          0.113344  \n",
       "min           0.000000              0.000000          0.000000  \n",
       "25%           0.000000              1.000000          0.000000  \n",
       "50%           0.000000              1.000000          0.000000  \n",
       "75%           0.000000              1.000000          0.000000  \n",
       "max           1.000000              1.000000          1.000000  \n",
       "\n",
       "[8 rows x 55 columns]"
      ]
     },
     "execution_count": 42,
     "metadata": {},
     "output_type": "execute_result"
    }
   ],
   "source": [
    "negativeX.describe()"
   ]
  },
  {
   "cell_type": "markdown",
   "metadata": {},
   "source": [
    "Idade"
   ]
  },
  {
   "cell_type": "code",
   "execution_count": 31,
   "metadata": {},
   "outputs": [
    {
     "data": {
      "text/plain": [
       "Ttest_indResult(statistic=-2.3338832859526284, pvalue=0.019604830126074998)"
      ]
     },
     "execution_count": 31,
     "metadata": {},
     "output_type": "execute_result"
    }
   ],
   "source": [
    "ttest_ind(negativeX['age'], positiveX['age'])"
   ]
  },
  {
   "cell_type": "markdown",
   "metadata": {},
   "source": [
    "Nota: age (idade) diferem nas respostas positivas e negativas, pValue>1%, portanto a idade parece não importar com a decisão de se subscriber à campanha ou não. As idades contactadas não diferem em casos positivos e negativos. Os clientes abordados tem em média 40 anos.\n",
    "\n",
    "euribor3m"
   ]
  },
  {
   "cell_type": "code",
   "execution_count": 32,
   "metadata": {},
   "outputs": [
    {
     "name": "stdout",
     "output_type": "stream",
     "text": [
      "count    32883.000000\n",
      "mean         2.110123\n",
      "std          1.734904\n",
      "min          0.634000\n",
      "25%          0.845149\n",
      "50%          1.269474\n",
      "75%          4.475099\n",
      "max          5.045000\n",
      "Name: euribor3m, dtype: float64\n",
      " \n",
      "count    32883.000000\n",
      "mean         3.816446\n",
      "std          1.636055\n",
      "min          0.634000\n",
      "25%          1.405000\n",
      "50%          4.857000\n",
      "75%          4.962000\n",
      "max          5.045000\n",
      "Name: euribor3m, dtype: float64\n"
     ]
    },
    {
     "data": {
      "text/plain": [
       "Ttest_indResult(statistic=129.75431592970918, pvalue=0.0)"
      ]
     },
     "execution_count": 32,
     "metadata": {},
     "output_type": "execute_result"
    }
   ],
   "source": [
    "print(positiveX['euribor3m'].describe())\n",
    "print(\" \")\n",
    "print(negativeX['euribor3m'].describe())\n",
    "ttest_ind(negativeX['euribor3m'], positiveX['euribor3m'])"
   ]
  },
  {
   "cell_type": "markdown",
   "metadata": {},
   "source": [
    "Nota: Diferentes taxa euribor3m aplicada às respostas positivas e negativas com pvalue<1%. \n",
    "A taxa euribor3m estava 55% do que estava para quem teve resposta negativa."
   ]
  },
  {
   "cell_type": "markdown",
   "metadata": {},
   "source": [
    "nr.employed"
   ]
  },
  {
   "cell_type": "code",
   "execution_count": 33,
   "metadata": {},
   "outputs": [
    {
     "name": "stdout",
     "output_type": "stream",
     "text": [
      "count    32883.000000\n",
      "mean      5094.405180\n",
      "std         87.372375\n",
      "min       4963.600000\n",
      "25%       5016.996735\n",
      "50%       5099.100000\n",
      "75%       5191.000000\n",
      "max       5228.100000\n",
      "Name: nr.employed, dtype: float64\n",
      " \n",
      "count    32883.000000\n",
      "mean      5176.289627\n",
      "std         64.576757\n",
      "min       4963.600000\n",
      "25%       5099.100000\n",
      "50%       5195.800000\n",
      "75%       5228.100000\n",
      "max       5228.100000\n",
      "Name: nr.employed, dtype: float64\n"
     ]
    },
    {
     "data": {
      "text/plain": [
       "Ttest_indResult(statistic=136.6692742854364, pvalue=0.0)"
      ]
     },
     "execution_count": 33,
     "metadata": {},
     "output_type": "execute_result"
    }
   ],
   "source": [
    "print(positiveX['nr.employed'].describe())\n",
    "print(\" \")\n",
    "print(negativeX['nr.employed'].describe())\n",
    "ttest_ind(negativeX['nr.employed'], positiveX['nr.employed'])"
   ]
  },
  {
   "cell_type": "markdown",
   "metadata": {},
   "source": [
    "Nota: Número de empregos são diferem nas respostas positivas e negativas com pvalue<1%. \n",
    "O número de empregos estava 98% do número de emprego das respostas negativas."
   ]
  },
  {
   "cell_type": "markdown",
   "metadata": {},
   "source": [
    "duration"
   ]
  },
  {
   "cell_type": "code",
   "execution_count": 34,
   "metadata": {},
   "outputs": [
    {
     "data": {
      "text/plain": [
       "Ttest_indResult(statistic=-132.0211203200052, pvalue=0.0)"
      ]
     },
     "execution_count": 34,
     "metadata": {},
     "output_type": "execute_result"
    }
   ],
   "source": [
    "ttest_ind(negativeX['duration'], positiveX['duration'])"
   ]
  },
  {
   "cell_type": "markdown",
   "metadata": {},
   "source": [
    "Nota: duration (duração) diferem nas respostas positivas e negativas com pValue<1%.\n",
    "Para casos positivos, a duração média do contato durou 547 segundos ou cerca de 9 min.\n",
    "Para casos negativos, a duração da chamada durou 220 segundos ou cerca de 3.7 min.\n",
    "\n",
    "\n",
    "pdays"
   ]
  },
  {
   "cell_type": "code",
   "execution_count": 35,
   "metadata": {},
   "outputs": [
    {
     "data": {
      "text/plain": [
       "Ttest_indResult(statistic=83.57384110415482, pvalue=0.0)"
      ]
     },
     "execution_count": 35,
     "metadata": {},
     "output_type": "execute_result"
    }
   ],
   "source": [
    "ttest_ind(negativeX['pdays'], positiveX['pdays'])"
   ]
  },
  {
   "cell_type": "markdown",
   "metadata": {},
   "source": [
    "Nota: pdays diferem nas respostas positivas e negativas com pValue<1%"
   ]
  },
  {
   "cell_type": "markdown",
   "metadata": {},
   "source": [
    "previous"
   ]
  },
  {
   "cell_type": "code",
   "execution_count": 36,
   "metadata": {},
   "outputs": [
    {
     "data": {
      "text/plain": [
       "Ttest_indResult(statistic=-51.81688333222926, pvalue=0.0)"
      ]
     },
     "execution_count": 36,
     "metadata": {},
     "output_type": "execute_result"
    }
   ],
   "source": [
    "ttest_ind(negativeX['previous'], positiveX['previous'])"
   ]
  },
  {
   "cell_type": "markdown",
   "metadata": {},
   "source": [
    "Nota: previous (contato prévio) diferem em casos positivos e negativos com pvalue < 1%."
   ]
  },
  {
   "cell_type": "markdown",
   "metadata": {},
   "source": [
    "emp.var.rate"
   ]
  },
  {
   "cell_type": "code",
   "execution_count": 37,
   "metadata": {},
   "outputs": [
    {
     "name": "stdout",
     "output_type": "stream",
     "text": [
      "count    32883.000000\n",
      "mean        -1.241372\n",
      "std          1.612641\n",
      "min         -3.400000\n",
      "25%         -2.323820\n",
      "50%         -1.800000\n",
      "75%          0.006391\n",
      "max          1.400000\n",
      "Name: emp.var.rate, dtype: float64\n",
      " \n",
      "count    32883.000000\n",
      "mean         0.252644\n",
      "std          1.481820\n",
      "min         -3.400000\n",
      "25%         -1.800000\n",
      "50%          1.100000\n",
      "75%          1.400000\n",
      "max          1.400000\n",
      "Name: emp.var.rate, dtype: float64\n"
     ]
    },
    {
     "data": {
      "text/plain": [
       "Ttest_indResult(statistic=123.70388202331078, pvalue=0.0)"
      ]
     },
     "execution_count": 37,
     "metadata": {},
     "output_type": "execute_result"
    }
   ],
   "source": [
    "print(positiveX['emp.var.rate'].describe())\n",
    "print(\" \")\n",
    "print(negativeX['emp.var.rate'].describe())\n",
    "ttest_ind(negativeX['nr.employed'], positiveX['nr.employed'])\n",
    "ttest_ind(negativeX['emp.var.rate'], positiveX['emp.var.rate'])"
   ]
  },
  {
   "cell_type": "markdown",
   "metadata": {},
   "source": [
    "Nota: emp.var.rate(taxa de emprego) diferem em casos positivos e negativos com pvalue < 1%. A taxa de variação do emprego estava negativo e positivo para aqueles que responderam negativo."
   ]
  },
  {
   "cell_type": "markdown",
   "metadata": {},
   "source": [
    "cons.price.idx"
   ]
  },
  {
   "cell_type": "code",
   "execution_count": 38,
   "metadata": {},
   "outputs": [
    {
     "name": "stdout",
     "output_type": "stream",
     "text": [
      "count    32883.000000\n",
      "mean        93.362271\n",
      "std          0.657854\n",
      "min         92.201000\n",
      "25%         92.893000\n",
      "50%         93.200000\n",
      "75%         93.954379\n",
      "max         94.767000\n",
      "Name: cons.price.idx, dtype: float64\n",
      " \n",
      "count    32883.000000\n",
      "mean        93.605208\n",
      "std          0.558937\n",
      "min         92.201000\n",
      "25%         93.075000\n",
      "50%         93.918000\n",
      "75%         93.994000\n",
      "max         94.767000\n",
      "Name: cons.price.idx, dtype: float64\n"
     ]
    },
    {
     "data": {
      "text/plain": [
       "Ttest_indResult(statistic=51.03261303888685, pvalue=0.0)"
      ]
     },
     "execution_count": 38,
     "metadata": {},
     "output_type": "execute_result"
    }
   ],
   "source": [
    "print(positiveX['cons.price.idx'].describe())\n",
    "print(\" \")\n",
    "print(negativeX['cons.price.idx'].describe())\n",
    "ttest_ind(negativeX['nr.employed'], positiveX['nr.employed'])\n",
    "ttest_ind(negativeX['cons.price.idx'], positiveX['cons.price.idx'])"
   ]
  },
  {
   "cell_type": "markdown",
   "metadata": {},
   "source": [
    "Nota: cons.price.idx(índice de preço ao consumidor) diferem em casos positivos e negativos com pvalue < 1%. O índice do preço ao consumidor estava 99% daqueles que responderam negativamente. \n",
    "\n",
    "cons.conf.idx"
   ]
  },
  {
   "cell_type": "code",
   "execution_count": 39,
   "metadata": {},
   "outputs": [
    {
     "name": "stdout",
     "output_type": "stream",
     "text": [
      "count    32883.000000\n",
      "mean       -39.836292\n",
      "std          5.934829\n",
      "min        -50.800000\n",
      "25%        -46.200000\n",
      "50%        -40.300000\n",
      "75%        -36.100000\n",
      "max        -26.900000\n",
      "Name: cons.conf.idx, dtype: float64\n",
      " \n",
      "count    32883.000000\n",
      "mean       -40.577295\n",
      "std          4.388039\n",
      "min        -50.800000\n",
      "25%        -42.700000\n",
      "50%        -41.800000\n",
      "75%        -36.400000\n",
      "max        -26.900000\n",
      "Name: cons.conf.idx, dtype: float64\n"
     ]
    },
    {
     "data": {
      "text/plain": [
       "Ttest_indResult(statistic=-18.20534511139932, pvalue=7.114961182450291e-74)"
      ]
     },
     "execution_count": 39,
     "metadata": {},
     "output_type": "execute_result"
    }
   ],
   "source": [
    "print(positiveX['cons.conf.idx'].describe())\n",
    "print(\" \")\n",
    "print(negativeX['cons.conf.idx'].describe())\n",
    "ttest_ind(negativeX['cons.conf.idx'], positiveX['cons.conf.idx'])"
   ]
  },
  {
   "cell_type": "markdown",
   "metadata": {},
   "source": [
    "Nota: cons.conf.idx(índice de confiança ao consumidor) diferem em casos positivos e negativos com pvalue < 1%.\n",
    "O índice ao consumidor no caso positivo estava 1.85% a mais que no caso negativo."
   ]
  },
  {
   "cell_type": "markdown",
   "metadata": {},
   "source": [
    "### 5.3.2 Análise dias da semana (day_of_week)"
   ]
  },
  {
   "cell_type": "code",
   "execution_count": 40,
   "metadata": {},
   "outputs": [
    {
     "name": "stdout",
     "output_type": "stream",
     "text": [
      "day_of_week for positive cases\n",
      "monday tuesday wednesday thursday\n",
      "1647   2155    2205      2469\n",
      " \n",
      "day_of_week for negative cases\n",
      "monday tuesday wednesday thursday\n",
      "6876   6410    6497      6797\n"
     ]
    }
   ],
   "source": [
    "print(\"day_of_week for positive cases\")\n",
    "print(\"monday\",\"tuesday\",\"wednesday\",\"thursday\")\n",
    "print(positiveX['day_of_week_mon'].value_counts().tolist()[1],\" \",positiveX['day_of_week_tue'].value_counts().tolist()[1], \\\n",
    "      \"  \",positiveX['day_of_week_wed'].value_counts().tolist()[1],\"    \",positiveX['day_of_week_thu'].value_counts().tolist()[1])\n",
    "print(\" \")\n",
    "print(\"day_of_week for negative cases\")\n",
    "print(\"monday\",\"tuesday\",\"wednesday\",\"thursday\")\n",
    "print(negativeX['day_of_week_mon'].value_counts().tolist()[1],\" \",negativeX['day_of_week_tue'].value_counts().tolist()[1], \\\n",
    "      \"  \",negativeX['day_of_week_wed'].value_counts().tolist()[1],\"    \",negativeX['day_of_week_thu'].value_counts().tolist()[1])"
   ]
  },
  {
   "cell_type": "markdown",
   "metadata": {},
   "source": [
    "Nota: Os dias da semana para abordar o cliente estão aparentemente uniformemente distribuídos durante a semana, aparentemente não relevante para influenciar na decisão de se subscriber ou não ao plano de depósito a termo. Mas, segunda-feira foi considerado uma das 10 features mais importante."
   ]
  },
  {
   "cell_type": "markdown",
   "metadata": {},
   "source": [
    "### 5.3.3 Nível Escolar (Education)"
   ]
  },
  {
   "cell_type": "code",
   "execution_count": 41,
   "metadata": {},
   "outputs": [
    {
     "name": "stdout",
     "output_type": "stream",
     "text": [
      "education for position cases\n",
      "basic.6y basic.9y high.school illiterate professional.course university.degree unknown\n",
      "260      796      2395        3          1027                5834              348\n",
      " \n",
      "education for negative cases\n",
      "basic.6y basic.9y high.school illiterate professional.course university.degree unknown\n",
      "1862     5036     7580        14         4186                9463              1342\n"
     ]
    }
   ],
   "source": [
    "print(\"education for position cases\")\n",
    "print(\"basic.6y\",\"basic.9y\",\"high.school\",\"illiterate\",\"professional.course\", \"university.degree\", \"unknown\")\n",
    "print(positiveX['education_basic.6y'].value_counts().tolist()[1],\"    \",positiveX['education_basic.9y'].value_counts().tolist()[1], \\\n",
    "      \"    \",positiveX['education_high.school'].value_counts().tolist()[1],\"      \",positiveX['education_illiterate'].value_counts().tolist()[1], \\\n",
    "      \"        \",positiveX['education_professional.course'].value_counts().tolist()[1],\"              \",positiveX['education_university.degree'].value_counts().tolist()[1], \\\n",
    "      \"            \",positiveX['education_unknown'].value_counts().tolist()[1])\n",
    "print(\" \")\n",
    "print(\"education for negative cases\")\n",
    "print(\"basic.6y\",\"basic.9y\",\"high.school\",\"illiterate\",\"professional.course\", \"university.degree\", \"unknown\")\n",
    "print(negativeX['education_basic.6y'].value_counts().tolist()[1],\"   \",negativeX['education_basic.9y'].value_counts().tolist()[1], \\\n",
    "      \"   \",negativeX['education_high.school'].value_counts().tolist()[1],\"      \",negativeX['education_illiterate'].value_counts().tolist()[1], \\\n",
    "      \"       \",negativeX['education_professional.course'].value_counts().tolist()[1],\"              \",negativeX['education_university.degree'].value_counts().tolist()[1], \\\n",
    "      \"            \",negativeX['education_unknown'].value_counts().tolist()[1])"
   ]
  },
  {
   "cell_type": "markdown",
   "metadata": {},
   "source": [
    "Nota: variável illiterate (analfabeto) pode ser descartada pois representa uma minoria absoluta em quaisquer casos.\n",
    "Para casos positivos, a educação university.degree (universitário) e high.school (ensino médio) parecem importar mais."
   ]
  },
  {
   "cell_type": "markdown",
   "metadata": {},
   "source": [
    "### 5.3.4 Profissão (job)"
   ]
  },
  {
   "cell_type": "code",
   "execution_count": 42,
   "metadata": {},
   "outputs": [
    {
     "name": "stdout",
     "output_type": "stream",
     "text": [
      "job for positive cases\n",
      "blue-collar entrepreneur housemaid management retired self-employed services student technician unemployed unknown\n",
      "1452        162          125       448        1612    159           441      564     1492       166        33\n",
      " \n",
      "job for negative cases\n",
      "blue-collar entrepreneur housemaid management retired self-employed services student technician unemployed unknown\n",
      "7735        1197         863       2304       1145    1152          3280     536     5437       789        264\n"
     ]
    }
   ],
   "source": [
    "print(\"job for positive cases\")\n",
    "print(\"blue-collar\",\"entrepreneur\",\"housemaid\",\"management\",\"retired\", \"self-employed\", \"services\",\"student\",\"technician\", \\\n",
    "     \"unemployed\",\"unknown\")\n",
    "print(positiveX['job_blue-collar'].value_counts().tolist()[1],\"      \",positiveX['job_entrepreneur'].value_counts().tolist()[1], \\\n",
    "      \"        \",positiveX['job_housemaid'].value_counts().tolist()[1],\"     \",positiveX['job_management'].value_counts().tolist()[1], \\\n",
    "      \"      \",positiveX['job_retired'].value_counts().tolist()[1],\"  \",positiveX['job_self-employed'].value_counts().tolist()[1], \\\n",
    "      \"         \",positiveX['job_services'].value_counts().tolist()[1],\"    \",positiveX['job_student'].value_counts().tolist()[1], \\\n",
    "      \"   \",positiveX['job_technician'].value_counts().tolist()[1],\"     \",positiveX['job_unemployed'].value_counts().tolist()[1], \\\n",
    "      \"      \",positiveX['job_unknown'].value_counts().tolist()[1])\n",
    "print(\" \")\n",
    "print(\"job for negative cases\")\n",
    "print(\"blue-collar\",\"entrepreneur\",\"housemaid\",\"management\",\"retired\", \"self-employed\", \"services\",\"student\",\"technician\", \\\n",
    "     \"unemployed\",\"unknown\")\n",
    "print(negativeX['job_blue-collar'].value_counts().tolist()[1],\"      \",negativeX['job_entrepreneur'].value_counts().tolist()[1], \\\n",
    "      \"       \",negativeX['job_housemaid'].value_counts().tolist()[1],\"     \",negativeX['job_management'].value_counts().tolist()[1], \\\n",
    "      \"     \",negativeX['job_retired'].value_counts().tolist()[1],\"  \",negativeX['job_self-employed'].value_counts().tolist()[1], \\\n",
    "      \"        \",negativeX['job_services'].value_counts().tolist()[1],\"   \",negativeX['job_student'].value_counts().tolist()[1], \\\n",
    "      \"   \",negativeX['job_technician'].value_counts().tolist()[1],\"     \",negativeX['job_unemployed'].value_counts().tolist()[1], \\\n",
    "      \"      \",negativeX['job_unknown'].value_counts().tolist()[1])"
   ]
  },
  {
   "cell_type": "markdown",
   "metadata": {},
   "source": [
    "Nota: Para casos positivos, os empregos technician (técnico), retired (aposentado), blue-collar (operário) parecem importar mais. Importando menos, mas ainda significativo são management (administrativo), student (estudante)."
   ]
  },
  {
   "cell_type": "markdown",
   "metadata": {},
   "source": [
    "### 5.3.5 Poutcome"
   ]
  },
  {
   "cell_type": "code",
   "execution_count": 43,
   "metadata": {},
   "outputs": [
    {
     "name": "stdout",
     "output_type": "stream",
     "text": [
      "poutcome for positive cases\n",
      "nonexistent success\n",
      "13188       5942\n",
      " \n",
      "poutcome for negative cases\n",
      "nonexistent success\n",
      "3681        428\n"
     ]
    }
   ],
   "source": [
    "print(\"poutcome for positive cases\")\n",
    "print(\"nonexistent\",\"success\")\n",
    "print(positiveX['poutcome_nonexistent'].value_counts().tolist()[1],\"     \",positiveX['poutcome_success'].value_counts().tolist()[1])\n",
    "print(\" \")\n",
    "print(\"poutcome for negative cases\")\n",
    "print(\"nonexistent\",\"success\")\n",
    "print(negativeX['poutcome_nonexistent'].value_counts().tolist()[1],\"      \",negativeX['poutcome_success'].value_counts().tolist()[1])"
   ]
  },
  {
   "cell_type": "markdown",
   "metadata": {},
   "source": [
    "Nota: clientes poutcome nonexistent (clientes novos) são a maioria para os casos positivos, poutcome success (viraram clientes\n",
    "na campanha passada) formam um grupo significativo. "
   ]
  },
  {
   "cell_type": "markdown",
   "metadata": {},
   "source": [
    "### 5.3.6 Contact"
   ]
  },
  {
   "cell_type": "code",
   "execution_count": 44,
   "metadata": {},
   "outputs": [
    {
     "name": "stdout",
     "output_type": "stream",
     "text": [
      "contact for positive cases\n",
      "cellular telephone\n",
      "30257    2626\n",
      " \n",
      "contact for negative cases\n",
      "cellular telephone\n",
      "20020    12863\n"
     ]
    }
   ],
   "source": [
    "print(\"contact for positive cases\")\n",
    "print(\"cellular\",\"telephone\")\n",
    "print(positiveX['contact'].value_counts().tolist()[0],\"  \",positiveX['contact'].value_counts().tolist()[1])\n",
    "print(\" \")\n",
    "print(\"contact for negative cases\")\n",
    "print(\"cellular\",\"telephone\")\n",
    "print(negativeX['contact'].value_counts().tolist()[0],\"  \",negativeX['contact'].value_counts().tolist()[1])"
   ]
  },
  {
   "cell_type": "markdown",
   "metadata": {},
   "source": [
    "Nota: contato via celular (cellular) parece formam a maior em quaisquer caso. Para casos negativos, contatos via telephone (telephone) forma um grupo significativo."
   ]
  },
  {
   "cell_type": "markdown",
   "metadata": {},
   "source": [
    "### 5.3.7 Estado Civil (marital status)"
   ]
  },
  {
   "cell_type": "code",
   "execution_count": 45,
   "metadata": {},
   "outputs": [
    {
     "name": "stdout",
     "output_type": "stream",
     "text": [
      "marital for positive cases\n",
      "married single unknown\n",
      "11748   6544   12\n",
      " \n",
      "marital for negative cases\n",
      "married single unknown\n",
      "12729   8943   62\n"
     ]
    }
   ],
   "source": [
    "print(\"marital for positive cases\")\n",
    "print(\"married\",\"single\",\"unknown\")\n",
    "print(positiveX['marital_married'].value_counts().tolist()[1],\" \",positiveX['marital_single'].value_counts().tolist()[1], \" \",\\\n",
    "     positiveX['marital_unknown'].value_counts().tolist()[1])\n",
    "print(\" \")\n",
    "print(\"marital for negative cases\")\n",
    "print(\"married\",\"single\",\"unknown\")\n",
    "print(negativeX['marital_married'].value_counts().tolist()[1],\" \",negativeX['marital_single'].value_counts().tolist()[1], \" \",\\\n",
    "     negativeX['marital_unknown'].value_counts().tolist()[1])"
   ]
  },
  {
   "cell_type": "markdown",
   "metadata": {},
   "source": [
    "Nota: a variável marital_unknown não é significativo para quaisquer caso. Estado civil casado (married), solteiro (single) representam grupos significativos para quaisquer casos."
   ]
  },
  {
   "cell_type": "markdown",
   "metadata": {},
   "source": [
    "### 5.3.8 Endividado (default)"
   ]
  },
  {
   "cell_type": "code",
   "execution_count": 46,
   "metadata": {},
   "outputs": [
    {
     "name": "stdout",
     "output_type": "stream",
     "text": [
      "default for positive cases\n",
      "unknown yes\n",
      "983     32883\n",
      " \n",
      "default for negative cases\n",
      "unknown yes\n",
      "7305    3\n"
     ]
    }
   ],
   "source": [
    "print(\"default for positive cases\")\n",
    "print(\"unknown\",\"yes\")\n",
    "print(positiveX['default_unknown'].value_counts().tolist()[1],\"   \",positiveX['default_yes'].value_counts().tolist()[0])\n",
    "print(\" \")\n",
    "print(\"default for negative cases\")\n",
    "print(\"unknown\",\"yes\")\n",
    "print(negativeX['default_unknown'].value_counts().tolist()[1],\"  \",negativeX['default_yes'].value_counts().tolist()[1])"
   ]
  },
  {
   "cell_type": "markdown",
   "metadata": {},
   "source": [
    "Nota: default_yes, deveria ser index [1], só tem o [0], está corrompido para casos positivos, não pode ter o mesmo tamanho da amostra. Descartado."
   ]
  },
  {
   "cell_type": "markdown",
   "metadata": {},
   "source": [
    "### 5.3.9 Financiamento imobiliário"
   ]
  },
  {
   "cell_type": "code",
   "execution_count": 47,
   "metadata": {},
   "outputs": [
    {
     "name": "stdout",
     "output_type": "stream",
     "text": [
      "housing for positive cases\n",
      "unknown yes\n",
      "116     10503\n",
      " \n",
      "housing for negative cases\n",
      "unknown yes\n",
      "790     15745\n"
     ]
    }
   ],
   "source": [
    "print(\"housing for positive cases\")\n",
    "print(\"unknown\",\"yes\")\n",
    "print(positiveX['housing_unknown'].value_counts().tolist()[1],\"   \",positiveX['housing_yes'].value_counts().tolist()[1])\n",
    "print(\" \")\n",
    "print(\"housing for negative cases\")\n",
    "print(\"unknown\",\"yes\")\n",
    "print(negativeX['housing_unknown'].value_counts().tolist()[1],\"   \",negativeX['housing_yes'].value_counts().tolist()[1])"
   ]
  },
  {
   "cell_type": "markdown",
   "metadata": {},
   "source": [
    "Nota: housing unknown (financiamento desconhecido) não é significativo para quaisquer caso. A maioria tem financiamento \n",
    "para quaisquer casos."
   ]
  },
  {
   "cell_type": "markdown",
   "metadata": {},
   "source": [
    "### 5.3.10 Empréstimo pessoal"
   ]
  },
  {
   "cell_type": "code",
   "execution_count": 48,
   "metadata": {},
   "outputs": [
    {
     "name": "stdout",
     "output_type": "stream",
     "text": [
      "loan for positive cases\n",
      "unknown yes\n",
      "116     1224\n",
      " \n",
      "loan for negative cases\n",
      "unknown yes\n",
      "790     4991\n"
     ]
    }
   ],
   "source": [
    "print(\"loan for positive cases\")\n",
    "print(\"unknown\",\"yes\")\n",
    "print(positiveX['loan_unknown'].value_counts().tolist()[1],\"   \",positiveX['loan_yes'].value_counts().tolist()[1])\n",
    "print(\" \")\n",
    "print(\"loan for negative cases\")\n",
    "print(\"unknown\",\"yes\")\n",
    "print(negativeX['loan_unknown'].value_counts().tolist()[1],\"   \",negativeX['loan_yes'].value_counts().tolist()[1])"
   ]
  },
  {
   "cell_type": "markdown",
   "metadata": {},
   "source": [
    "Nota: loan unknown (empréstimo pessoal desconhecido) ou loan yes (tem empréstimo pessoal) tem poucos casos no caso positivo e uma taxa maior no caso negativo."
   ]
  },
  {
   "cell_type": "markdown",
   "metadata": {},
   "source": [
    "### 5.3.11 Meses (Months)"
   ]
  },
  {
   "cell_type": "code",
   "execution_count": 49,
   "metadata": {},
   "outputs": [
    {
     "name": "stdout",
     "output_type": "stream",
     "text": [
      "month for positive cases\n",
      "mar   may    jun    jul    aug    sep   oct   nov    dec\n",
      "757   3799   2028   2387   2277   861   940   1172   197\n",
      " \n",
      "month for negative cases\n",
      "mar   may   jun    jul    aug    sep   oct   nov    dec\n",
      "236   236   4289   5886   4969   286   364   3327   85\n"
     ]
    }
   ],
   "source": [
    "print(\"month for positive cases\")\n",
    "print(\"mar\",\"  may\",\"   jun\",\"   jul\",\"   aug\",\"   sep\",\"  oct\", \"  nov\", \"   dec\")\n",
    "print(positiveX['month_mar'].value_counts().tolist()[1],\" \",positiveX['month_may'].value_counts().tolist()[1], \\\n",
    "     \" \",positiveX['month_jun'].value_counts().tolist()[1],\" \",positiveX['month_jul'].value_counts().tolist()[1], \\\n",
    "     \" \",positiveX['month_aug'].value_counts().tolist()[1],\" \",positiveX['month_sep'].value_counts().tolist()[1], \\\n",
    "     \" \",positiveX['month_oct'].value_counts().tolist()[1],\" \",positiveX['month_nov'].value_counts().tolist()[1], \\\n",
    "     \" \",positiveX['month_dec'].value_counts().tolist()[1])\n",
    "print(\" \")\n",
    "print(\"month for negative cases\")\n",
    "print(\"mar\",\"  may\",\"  jun\",\"   jul\",\"   aug\",\"   sep\",\"  oct\", \"  nov\", \"   dec\")\n",
    "print(negativeX['month_mar'].value_counts().tolist()[1],\" \",negativeX['month_mar'].value_counts().tolist()[1], \\\n",
    "     \" \",negativeX['month_jun'].value_counts().tolist()[1],\" \",negativeX['month_jul'].value_counts().tolist()[1], \\\n",
    "     \" \",negativeX['month_aug'].value_counts().tolist()[1],\" \",negativeX['month_sep'].value_counts().tolist()[1], \\\n",
    "     \" \",negativeX['month_oct'].value_counts().tolist()[1],\" \",negativeX['month_nov'].value_counts().tolist()[1], \\\n",
    "     \" \",negativeX['month_dec'].value_counts().tolist()[1])"
   ]
  },
  {
   "cell_type": "markdown",
   "metadata": {},
   "source": [
    "Nota: As abordagens aos clientes ocorreram, na maior parte do ano, entre maio, junho, julho e agosto. Período do verão europeu. Porém, o mês de novembro foi considerado pelo RFE, um dos 20 mais influente feature."
   ]
  },
  {
   "cell_type": "markdown",
   "metadata": {},
   "source": [
    "## 6 Decision Tree"
   ]
  },
  {
   "cell_type": "markdown",
   "metadata": {},
   "source": [
    "## 6.1 Libraries"
   ]
  },
  {
   "cell_type": "code",
   "execution_count": 50,
   "metadata": {},
   "outputs": [],
   "source": [
    "from sklearn.tree import DecisionTreeClassifier # Import Decision Tree Classifier\n",
    "from sklearn import metrics #Import scikit-learn metrics module for accuracy calculation\n",
    "import pydotplus\n",
    "from IPython.display import Image\n",
    "#from sklearn.externals.six import StringIO\n",
    "from io import StringIO\n",
    "from sklearn.tree import export_graphviz"
   ]
  },
  {
   "cell_type": "code",
   "execution_count": 51,
   "metadata": {},
   "outputs": [
    {
     "data": {
      "text/html": [
       "<div>\n",
       "<style scoped>\n",
       "    .dataframe tbody tr th:only-of-type {\n",
       "        vertical-align: middle;\n",
       "    }\n",
       "\n",
       "    .dataframe tbody tr th {\n",
       "        vertical-align: top;\n",
       "    }\n",
       "\n",
       "    .dataframe thead th {\n",
       "        text-align: right;\n",
       "    }\n",
       "</style>\n",
       "<table border=\"1\" class=\"dataframe\">\n",
       "  <thead>\n",
       "    <tr style=\"text-align: right;\">\n",
       "      <th></th>\n",
       "      <th>age</th>\n",
       "      <th>contact</th>\n",
       "      <th>duration</th>\n",
       "      <th>campaign</th>\n",
       "      <th>pdays</th>\n",
       "      <th>previous</th>\n",
       "      <th>emp.var.rate</th>\n",
       "      <th>cons.price.idx</th>\n",
       "      <th>cons.conf.idx</th>\n",
       "      <th>euribor3m</th>\n",
       "      <th>...</th>\n",
       "      <th>month_may</th>\n",
       "      <th>month_nov</th>\n",
       "      <th>month_oct</th>\n",
       "      <th>month_sep</th>\n",
       "      <th>day_of_week_mon</th>\n",
       "      <th>day_of_week_thu</th>\n",
       "      <th>day_of_week_tue</th>\n",
       "      <th>day_of_week_wed</th>\n",
       "      <th>poutcome_nonexistent</th>\n",
       "      <th>poutcome_success</th>\n",
       "    </tr>\n",
       "  </thead>\n",
       "  <tbody>\n",
       "    <tr>\n",
       "      <th>count</th>\n",
       "      <td>65766.000000</td>\n",
       "      <td>65766.000000</td>\n",
       "      <td>65766.000000</td>\n",
       "      <td>65766.000000</td>\n",
       "      <td>65766.000000</td>\n",
       "      <td>65766.000000</td>\n",
       "      <td>65766.000000</td>\n",
       "      <td>65766.000000</td>\n",
       "      <td>65766.000000</td>\n",
       "      <td>65766.000000</td>\n",
       "      <td>...</td>\n",
       "      <td>65766.000000</td>\n",
       "      <td>65766.000000</td>\n",
       "      <td>65766.000000</td>\n",
       "      <td>65766.000000</td>\n",
       "      <td>65766.000000</td>\n",
       "      <td>65766.000000</td>\n",
       "      <td>65766.000000</td>\n",
       "      <td>65766.000000</td>\n",
       "      <td>65766.000000</td>\n",
       "      <td>65766.000000</td>\n",
       "    </tr>\n",
       "    <tr>\n",
       "      <th>mean</th>\n",
       "      <td>40.017334</td>\n",
       "      <td>0.235517</td>\n",
       "      <td>383.829562</td>\n",
       "      <td>2.178725</td>\n",
       "      <td>886.852066</td>\n",
       "      <td>0.247955</td>\n",
       "      <td>-0.494364</td>\n",
       "      <td>93.483740</td>\n",
       "      <td>-40.206794</td>\n",
       "      <td>2.963285</td>\n",
       "      <td>...</td>\n",
       "      <td>0.233890</td>\n",
       "      <td>0.068409</td>\n",
       "      <td>0.019828</td>\n",
       "      <td>0.017441</td>\n",
       "      <td>0.129596</td>\n",
       "      <td>0.140893</td>\n",
       "      <td>0.130234</td>\n",
       "      <td>0.132318</td>\n",
       "      <td>0.743500</td>\n",
       "      <td>0.096859</td>\n",
       "    </tr>\n",
       "    <tr>\n",
       "      <th>std</th>\n",
       "      <td>11.568895</td>\n",
       "      <td>0.424325</td>\n",
       "      <td>356.602387</td>\n",
       "      <td>2.263805</td>\n",
       "      <td>314.389926</td>\n",
       "      <td>0.589701</td>\n",
       "      <td>1.719359</td>\n",
       "      <td>0.622367</td>\n",
       "      <td>5.232151</td>\n",
       "      <td>1.889745</td>\n",
       "      <td>...</td>\n",
       "      <td>0.423306</td>\n",
       "      <td>0.252449</td>\n",
       "      <td>0.139410</td>\n",
       "      <td>0.130907</td>\n",
       "      <td>0.335861</td>\n",
       "      <td>0.347914</td>\n",
       "      <td>0.336564</td>\n",
       "      <td>0.338838</td>\n",
       "      <td>0.436704</td>\n",
       "      <td>0.295767</td>\n",
       "    </tr>\n",
       "    <tr>\n",
       "      <th>min</th>\n",
       "      <td>17.000000</td>\n",
       "      <td>0.000000</td>\n",
       "      <td>0.000000</td>\n",
       "      <td>1.000000</td>\n",
       "      <td>0.000000</td>\n",
       "      <td>0.000000</td>\n",
       "      <td>-3.400000</td>\n",
       "      <td>92.201000</td>\n",
       "      <td>-50.800000</td>\n",
       "      <td>0.634000</td>\n",
       "      <td>...</td>\n",
       "      <td>0.000000</td>\n",
       "      <td>0.000000</td>\n",
       "      <td>0.000000</td>\n",
       "      <td>0.000000</td>\n",
       "      <td>0.000000</td>\n",
       "      <td>0.000000</td>\n",
       "      <td>0.000000</td>\n",
       "      <td>0.000000</td>\n",
       "      <td>0.000000</td>\n",
       "      <td>0.000000</td>\n",
       "    </tr>\n",
       "    <tr>\n",
       "      <th>25%</th>\n",
       "      <td>31.000000</td>\n",
       "      <td>0.000000</td>\n",
       "      <td>143.000000</td>\n",
       "      <td>1.000000</td>\n",
       "      <td>999.000000</td>\n",
       "      <td>0.000000</td>\n",
       "      <td>-1.800000</td>\n",
       "      <td>92.934742</td>\n",
       "      <td>-42.700000</td>\n",
       "      <td>1.234434</td>\n",
       "      <td>...</td>\n",
       "      <td>0.000000</td>\n",
       "      <td>0.000000</td>\n",
       "      <td>0.000000</td>\n",
       "      <td>0.000000</td>\n",
       "      <td>0.000000</td>\n",
       "      <td>0.000000</td>\n",
       "      <td>0.000000</td>\n",
       "      <td>0.000000</td>\n",
       "      <td>0.000000</td>\n",
       "      <td>0.000000</td>\n",
       "    </tr>\n",
       "    <tr>\n",
       "      <th>50%</th>\n",
       "      <td>37.000000</td>\n",
       "      <td>0.000000</td>\n",
       "      <td>263.000000</td>\n",
       "      <td>1.000000</td>\n",
       "      <td>999.000000</td>\n",
       "      <td>0.000000</td>\n",
       "      <td>-0.100000</td>\n",
       "      <td>93.444000</td>\n",
       "      <td>-41.642016</td>\n",
       "      <td>4.021000</td>\n",
       "      <td>...</td>\n",
       "      <td>0.000000</td>\n",
       "      <td>0.000000</td>\n",
       "      <td>0.000000</td>\n",
       "      <td>0.000000</td>\n",
       "      <td>0.000000</td>\n",
       "      <td>0.000000</td>\n",
       "      <td>0.000000</td>\n",
       "      <td>0.000000</td>\n",
       "      <td>1.000000</td>\n",
       "      <td>0.000000</td>\n",
       "    </tr>\n",
       "    <tr>\n",
       "      <th>75%</th>\n",
       "      <td>47.000000</td>\n",
       "      <td>0.000000</td>\n",
       "      <td>520.000000</td>\n",
       "      <td>2.000000</td>\n",
       "      <td>999.000000</td>\n",
       "      <td>0.000000</td>\n",
       "      <td>1.400000</td>\n",
       "      <td>93.994000</td>\n",
       "      <td>-36.400000</td>\n",
       "      <td>4.958492</td>\n",
       "      <td>...</td>\n",
       "      <td>0.000000</td>\n",
       "      <td>0.000000</td>\n",
       "      <td>0.000000</td>\n",
       "      <td>0.000000</td>\n",
       "      <td>0.000000</td>\n",
       "      <td>0.000000</td>\n",
       "      <td>0.000000</td>\n",
       "      <td>0.000000</td>\n",
       "      <td>1.000000</td>\n",
       "      <td>0.000000</td>\n",
       "    </tr>\n",
       "    <tr>\n",
       "      <th>max</th>\n",
       "      <td>98.000000</td>\n",
       "      <td>1.000000</td>\n",
       "      <td>4918.000000</td>\n",
       "      <td>56.000000</td>\n",
       "      <td>999.000000</td>\n",
       "      <td>7.000000</td>\n",
       "      <td>1.400000</td>\n",
       "      <td>94.767000</td>\n",
       "      <td>-26.900000</td>\n",
       "      <td>5.045000</td>\n",
       "      <td>...</td>\n",
       "      <td>1.000000</td>\n",
       "      <td>1.000000</td>\n",
       "      <td>1.000000</td>\n",
       "      <td>1.000000</td>\n",
       "      <td>1.000000</td>\n",
       "      <td>1.000000</td>\n",
       "      <td>1.000000</td>\n",
       "      <td>1.000000</td>\n",
       "      <td>1.000000</td>\n",
       "      <td>1.000000</td>\n",
       "    </tr>\n",
       "  </tbody>\n",
       "</table>\n",
       "<p>8 rows × 54 columns</p>\n",
       "</div>"
      ],
      "text/plain": [
       "                age       contact      duration      campaign         pdays  \\\n",
       "count  65766.000000  65766.000000  65766.000000  65766.000000  65766.000000   \n",
       "mean      40.017334      0.235517    383.829562      2.178725    886.852066   \n",
       "std       11.568895      0.424325    356.602387      2.263805    314.389926   \n",
       "min       17.000000      0.000000      0.000000      1.000000      0.000000   \n",
       "25%       31.000000      0.000000    143.000000      1.000000    999.000000   \n",
       "50%       37.000000      0.000000    263.000000      1.000000    999.000000   \n",
       "75%       47.000000      0.000000    520.000000      2.000000    999.000000   \n",
       "max       98.000000      1.000000   4918.000000     56.000000    999.000000   \n",
       "\n",
       "           previous  emp.var.rate  cons.price.idx  cons.conf.idx  \\\n",
       "count  65766.000000  65766.000000    65766.000000   65766.000000   \n",
       "mean       0.247955     -0.494364       93.483740     -40.206794   \n",
       "std        0.589701      1.719359        0.622367       5.232151   \n",
       "min        0.000000     -3.400000       92.201000     -50.800000   \n",
       "25%        0.000000     -1.800000       92.934742     -42.700000   \n",
       "50%        0.000000     -0.100000       93.444000     -41.642016   \n",
       "75%        0.000000      1.400000       93.994000     -36.400000   \n",
       "max        7.000000      1.400000       94.767000     -26.900000   \n",
       "\n",
       "          euribor3m  ...     month_may     month_nov     month_oct  \\\n",
       "count  65766.000000  ...  65766.000000  65766.000000  65766.000000   \n",
       "mean       2.963285  ...      0.233890      0.068409      0.019828   \n",
       "std        1.889745  ...      0.423306      0.252449      0.139410   \n",
       "min        0.634000  ...      0.000000      0.000000      0.000000   \n",
       "25%        1.234434  ...      0.000000      0.000000      0.000000   \n",
       "50%        4.021000  ...      0.000000      0.000000      0.000000   \n",
       "75%        4.958492  ...      0.000000      0.000000      0.000000   \n",
       "max        5.045000  ...      1.000000      1.000000      1.000000   \n",
       "\n",
       "          month_sep  day_of_week_mon  day_of_week_thu  day_of_week_tue  \\\n",
       "count  65766.000000     65766.000000     65766.000000     65766.000000   \n",
       "mean       0.017441         0.129596         0.140893         0.130234   \n",
       "std        0.130907         0.335861         0.347914         0.336564   \n",
       "min        0.000000         0.000000         0.000000         0.000000   \n",
       "25%        0.000000         0.000000         0.000000         0.000000   \n",
       "50%        0.000000         0.000000         0.000000         0.000000   \n",
       "75%        0.000000         0.000000         0.000000         0.000000   \n",
       "max        1.000000         1.000000         1.000000         1.000000   \n",
       "\n",
       "       day_of_week_wed  poutcome_nonexistent  poutcome_success  \n",
       "count     65766.000000          65766.000000      65766.000000  \n",
       "mean          0.132318              0.743500          0.096859  \n",
       "std           0.338838              0.436704          0.295767  \n",
       "min           0.000000              0.000000          0.000000  \n",
       "25%           0.000000              0.000000          0.000000  \n",
       "50%           0.000000              1.000000          0.000000  \n",
       "75%           0.000000              1.000000          0.000000  \n",
       "max           1.000000              1.000000          1.000000  \n",
       "\n",
       "[8 rows x 54 columns]"
      ]
     },
     "execution_count": 51,
     "metadata": {},
     "output_type": "execute_result"
    }
   ],
   "source": [
    "os_data_X.describe()"
   ]
  },
  {
   "cell_type": "markdown",
   "metadata": {},
   "source": [
    "## 6.2 Workout decision tree model"
   ]
  },
  {
   "cell_type": "markdown",
   "metadata": {},
   "source": [
    "All headers"
   ]
  },
  {
   "cell_type": "code",
   "execution_count": 52,
   "metadata": {},
   "outputs": [],
   "source": [
    "headers=['age', 'contact', 'duration', 'campaign', 'pdays', 'previous', \\\n",
    "       'emp.var.rate', 'cons.price.idx', 'cons.conf.idx', 'euribor3m', \\\n",
    "       'nr.employed', 'pdays_no_contact', 'job_blue-collar', \\\n",
    "       'job_entrepreneur', 'job_housemaid', 'job_management', 'job_retired', \\\n",
    "       'job_self-employed', 'job_services', 'job_student', 'job_technician', \\\n",
    "       'job_unemployed', 'job_unknown', 'marital_married', 'marital_single', \\\n",
    "       'marital_unknown', 'education_basic.6y', 'education_basic.9y', \\\n",
    "       'education_high.school', 'education_illiterate', \\\n",
    "       'education_professional.course', 'education_university.degree', \\\n",
    "       'education_unknown', 'default_unknown', 'default_yes', \\\n",
    "       'housing_unknown', 'housing_yes', 'loan_unknown', 'loan_yes', \\\n",
    "       'month_aug', 'month_dec', 'month_jul', 'month_jun', 'month_mar', \\\n",
    "       'month_may', 'month_nov', 'month_oct', 'month_sep', 'day_of_week_mon', \\\n",
    "       'day_of_week_thu', 'day_of_week_tue', 'day_of_week_wed', \\\n",
    "       'poutcome_nonexistent', 'poutcome_success']"
   ]
  },
  {
   "cell_type": "markdown",
   "metadata": {},
   "source": [
    "50 headers more important"
   ]
  },
  {
   "cell_type": "code",
   "execution_count": 104,
   "metadata": {},
   "outputs": [],
   "source": [
    "headers=['age', 'contact', 'duration', 'campaign', 'pdays', 'previous', \\\n",
    "       'emp.var.rate', 'cons.price.idx', 'cons.conf.idx', 'euribor3m', \\\n",
    "       'nr.employed','job_blue-collar', \\\n",
    "       'job_entrepreneur', 'job_housemaid', 'job_management', 'job_retired', \\\n",
    "       'job_self-employed', 'job_services', 'job_student', 'job_technician', \\\n",
    "       'job_unemployed', 'job_unknown', 'marital_married', 'marital_single', \\\n",
    "       'education_basic.6y', 'education_basic.9y', \\\n",
    "       'education_high.school', \\\n",
    "       'education_professional.course', 'education_university.degree', \\\n",
    "       'education_unknown', 'default_unknown', 'default_yes', \\\n",
    "       'housing_unknown','loan_unknown', 'loan_yes', \\\n",
    "       'month_aug', 'month_dec', 'month_jul', 'month_jun', 'month_mar', \\\n",
    "       'month_may', 'month_nov', 'month_oct', 'month_sep', 'day_of_week_mon', \\\n",
    "       'day_of_week_thu', 'day_of_week_tue', 'day_of_week_wed', \\\n",
    "       'poutcome_nonexistent', 'poutcome_success']"
   ]
  },
  {
   "cell_type": "markdown",
   "metadata": {},
   "source": [
    "40 headers more important"
   ]
  },
  {
   "cell_type": "code",
   "execution_count": 77,
   "metadata": {},
   "outputs": [],
   "source": [
    "headers=['contact', 'previous', 'emp.var.rate', 'job_blue-collar', \\\n",
    "       'job_entrepreneur', 'job_housemaid', 'job_management', 'job_retired', \\\n",
    "       'job_self-employed', 'job_services', 'job_student', 'job_technician', \\\n",
    "       'job_unknown', 'marital_married', 'marital_single', \\\n",
    "       'education_basic.6y', 'education_basic.9y', \\\n",
    "       'education_high.school', \\\n",
    "       'education_professional.course', 'education_university.degree', \\\n",
    "       'education_unknown', 'default_unknown', 'default_yes', \\\n",
    "       'housing_unknown','loan_unknown', 'loan_yes', \\\n",
    "       'month_aug', 'month_jul', 'month_jun', 'month_mar', \\\n",
    "       'month_may', 'month_nov', 'month_oct', 'month_sep', 'day_of_week_mon', \\\n",
    "       'day_of_week_thu', 'day_of_week_tue', 'day_of_week_wed', \\\n",
    "       'poutcome_nonexistent', 'poutcome_success']"
   ]
  },
  {
   "cell_type": "code",
   "execution_count": 53,
   "metadata": {},
   "outputs": [],
   "source": [
    "X_trained = os_data_X[headers]"
   ]
  },
  {
   "cell_type": "markdown",
   "metadata": {},
   "source": [
    "Utilizando colunas customizadas por meio da variável headers"
   ]
  },
  {
   "cell_type": "code",
   "execution_count": 54,
   "metadata": {},
   "outputs": [
    {
     "data": {
      "text/plain": [
       "(65766, 54)"
      ]
     },
     "execution_count": 54,
     "metadata": {},
     "output_type": "execute_result"
    }
   ],
   "source": [
    "X_trained.shape"
   ]
  },
  {
   "cell_type": "markdown",
   "metadata": {},
   "source": [
    "Nota: a coluna corresponde ao headers definido acima."
   ]
  },
  {
   "cell_type": "code",
   "execution_count": 55,
   "metadata": {},
   "outputs": [
    {
     "data": {
      "text/plain": [
       "(65766, 54)"
      ]
     },
     "execution_count": 55,
     "metadata": {},
     "output_type": "execute_result"
    }
   ],
   "source": [
    "os_data_X.shape"
   ]
  },
  {
   "cell_type": "code",
   "execution_count": 57,
   "metadata": {},
   "outputs": [],
   "source": [
    "X_tested = os_test_X[headers]"
   ]
  },
  {
   "cell_type": "code",
   "execution_count": 58,
   "metadata": {},
   "outputs": [
    {
     "data": {
      "text/plain": [
       "(7330, 54)"
      ]
     },
     "execution_count": 58,
     "metadata": {},
     "output_type": "execute_result"
    }
   ],
   "source": [
    "X_tested.shape"
   ]
  },
  {
   "cell_type": "code",
   "execution_count": 60,
   "metadata": {},
   "outputs": [
    {
     "name": "stdout",
     "output_type": "stream",
     "text": [
      "Score de treinamento:  0.5\n",
      "processing...ended\n"
     ]
    }
   ],
   "source": [
    "# Create Decision Tree classifer object\n",
    "dtm = DecisionTreeClassifier()\n",
    "\n",
    "# Train Decision Tree Classifer\n",
    "dtm = dtm.fit(X_trained,os_data_y.astype('int'))\n",
    "\n",
    "print('Score de treinamento: ',dtm.score(X_training,os_data_y))\n",
    "\n",
    "print(\"processing...ended\")"
   ]
  },
  {
   "cell_type": "markdown",
   "metadata": {},
   "source": [
    "## 6.3 Prediction the respost for DT training dataset (CRV)"
   ]
  },
  {
   "cell_type": "code",
   "execution_count": 62,
   "metadata": {},
   "outputs": [
    {
     "name": "stdout",
     "output_type": "stream",
     "text": [
      "Confusion matrix, without normalization\n"
     ]
    },
    {
     "data": {
      "image/png": "[encoded data removed]",
      "text/plain": [
       "<Figure size 432x288 with 2 Axes>"
      ]
     },
     "metadata": {},
     "output_type": "display_data"
    }
   ],
   "source": [
    "X_trained=os_data_X[headers]\n",
    "y_pred_train = dtm.predict(X_trained)\n",
    "from sklearn.metrics import confusion_matrix\n",
    "cm_train = confusion_matrix(os_data_y,y_pred_train)\n",
    "cm_train\n",
    "classes = ['no', 'yes']\n",
    "plot_confusion_matrix(cm_train,classes=classes, normalize=False,title='Confusion Matrix')"
   ]
  },
  {
   "cell_type": "markdown",
   "metadata": {},
   "source": [
    "## 6.4 DT CRV Classification"
   ]
  },
  {
   "cell_type": "code",
   "execution_count": 63,
   "metadata": {},
   "outputs": [
    {
     "name": "stdout",
     "output_type": "stream",
     "text": [
      "              precision    recall  f1-score   support\n",
      "\n",
      "           0       1.00      1.00      1.00     32883\n",
      "           1       1.00      1.00      1.00     32883\n",
      "\n",
      "    accuracy                           1.00     65766\n",
      "   macro avg       1.00      1.00      1.00     65766\n",
      "weighted avg       1.00      1.00      1.00     65766\n",
      "\n"
     ]
    }
   ],
   "source": [
    "from sklearn.metrics import classification_report\n",
    "print(classification_report(os_data_y.astype(int), y_pred_train.astype(int)))"
   ]
  },
  {
   "cell_type": "markdown",
   "metadata": {},
   "source": [
    "## 6.5 DT CRV: ROC"
   ]
  },
  {
   "cell_type": "code",
   "execution_count": 65,
   "metadata": {},
   "outputs": [
    {
     "data": {
      "image/png": "[encoded data removed]",
      "text/plain": [
       "<Figure size 432x288 with 1 Axes>"
      ]
     },
     "metadata": {},
     "output_type": "display_data"
    }
   ],
   "source": [
    "from sklearn.metrics import roc_auc_score\n",
    "from sklearn.metrics import roc_curve\n",
    "logit_roc_auc = roc_auc_score(os_data_y.astype(int), dtm.predict(X_trained.astype(float)))\n",
    "fpr, tpr, thresholds = roc_curve(os_data_y.astype(int), dtm.predict_proba(X_trained.astype(float))[:,1])\n",
    "plt.figure()\n",
    "plt.plot(fpr, tpr, label='Decision Tree (area = %0.2f)' % logit_roc_auc)\n",
    "plt.plot([0, 1], [0, 1],'r--')\n",
    "plt.xlim([0.0, 1.0])\n",
    "plt.ylim([0.0, 1.05])\n",
    "plt.xlabel('False Positive Rate')\n",
    "plt.ylabel('True Positive Rate')\n",
    "plt.title('Receiver operating characteristic for DT training')\n",
    "plt.legend(loc=\"lower right\")\n",
    "plt.savefig('Log_ROC_TRAIN')\n",
    "plt.show()"
   ]
  },
  {
   "cell_type": "markdown",
   "metadata": {},
   "source": [
    "AUC=100%"
   ]
  },
  {
   "cell_type": "markdown",
   "metadata": {},
   "source": [
    "## 6.6 Predicion the response for test dataset"
   ]
  },
  {
   "cell_type": "code",
   "execution_count": 68,
   "metadata": {},
   "outputs": [],
   "source": [
    "X_tested=os_test_X[headers]"
   ]
  },
  {
   "cell_type": "code",
   "execution_count": 69,
   "metadata": {},
   "outputs": [],
   "source": [
    "#Predict the response for test dataset\n",
    "y_pred_dtm = dtm.predict(X_tested)"
   ]
  },
  {
   "cell_type": "code",
   "execution_count": 70,
   "metadata": {},
   "outputs": [
    {
     "name": "stdout",
     "output_type": "stream",
     "text": [
      "Accuracy:  0.9124147339699864\n"
     ]
    }
   ],
   "source": [
    "print(\"Accuracy: \",metrics.accuracy_score(os_test_y,y_pred_dtm))"
   ]
  },
  {
   "cell_type": "markdown",
   "metadata": {},
   "source": [
    "## 6.7 Print decision tree graph"
   ]
  },
  {
   "cell_type": "markdown",
   "metadata": {},
   "source": [
    "header_all todas as colunas"
   ]
  },
  {
   "cell_type": "code",
   "execution_count": 75,
   "metadata": {},
   "outputs": [
    {
     "name": "stdout",
     "output_type": "stream",
     "text": [
      "processing....\n",
      "ended\n"
     ]
    }
   ],
   "source": [
    "print(\"processing....\")\n",
    "dot_data=StringIO()\n",
    "export_graphviz(dtm, out_file=dot_data,\n",
    "               filled=True, rounded=True,\n",
    "               special_characters=True,feature_names=headers,class_names=['0','1'])\n",
    "graph=pydotplus.graph_from_dot_data(dot_data.getvalue())\n",
    "graph.write_svg('bank_dtm.svg')                                                                                \n",
    "#graph.write_pdf(\"tree.pdf\")\n",
    "#Image(graph.create_png())    \n",
    "print(\"ended\")"
   ]
  },
  {
   "cell_type": "markdown",
   "metadata": {},
   "source": [
    "Nota 1: arquivo svg pode ser convertido para .png, por meio da url: https://www.zamzar.com/convert/svg-to-png/\n",
    "\n",
    "Nota 2: a função write_pdf, write_jpg, write_png não geram gráficos de qualidade para .pdf, .jpg, .png, quando a quantidade de features > 50."
   ]
  },
  {
   "cell_type": "markdown",
   "metadata": {},
   "source": [
    "## 6.8 Geração da Matriz de Confusão"
   ]
  },
  {
   "cell_type": "code",
   "execution_count": 71,
   "metadata": {},
   "outputs": [
    {
     "data": {
      "text/plain": [
       "array([[3399,  266],\n",
       "       [ 376, 3289]], dtype=int64)"
      ]
     },
     "execution_count": 71,
     "metadata": {},
     "output_type": "execute_result"
    }
   ],
   "source": [
    "from sklearn.metrics import confusion_matrix\n",
    "cm3 = confusion_matrix(os_test_y.astype(int),y_pred_dtm.astype(int))\n",
    "cm3"
   ]
  },
  {
   "cell_type": "code",
   "execution_count": 72,
   "metadata": {},
   "outputs": [
    {
     "name": "stdout",
     "output_type": "stream",
     "text": [
      "              precision    recall  f1-score   support\n",
      "\n",
      "           0       0.90      0.93      0.91      3665\n",
      "           1       0.93      0.90      0.91      3665\n",
      "\n",
      "    accuracy                           0.91      7330\n",
      "   macro avg       0.91      0.91      0.91      7330\n",
      "weighted avg       0.91      0.91      0.91      7330\n",
      "\n"
     ]
    }
   ],
   "source": [
    "from sklearn.metrics import classification_report\n",
    "print(classification_report(os_test_y.astype(int), y_pred_dtm.astype(int)))"
   ]
  },
  {
   "cell_type": "code",
   "execution_count": 73,
   "metadata": {},
   "outputs": [
    {
     "data": {
      "image/png": "[encoded data removed]",
      "text/plain": [
       "<Figure size 432x288 with 1 Axes>"
      ]
     },
     "metadata": {},
     "output_type": "display_data"
    }
   ],
   "source": [
    "from sklearn.metrics import roc_auc_score\n",
    "from sklearn.metrics import roc_curve\n",
    "logit_roc_auc3 = roc_auc_score(os_test_y.astype(int), dtm.predict(X_tested.astype(float)))\n",
    "fpr3, tpr3, thresholds3 = roc_curve(os_test_y.astype(int), dtm.predict_proba(X_tested.astype(float))[:,1])\n",
    "plt.figure()\n",
    "plt.plot(fpr3, tpr3, label='Decision Tree (area = %0.2f)' % logit_roc_auc3)\n",
    "plt.plot([0, 1], [0, 1],'r--')\n",
    "plt.xlim([0.0, 1.0])\n",
    "plt.ylim([0.0, 1.05])\n",
    "plt.xlabel('False Positive Rate')\n",
    "plt.ylabel('True Positive Rate')\n",
    "plt.title('Receiver operating characteristic (ROC) for Decision Tree')\n",
    "plt.legend(loc=\"lower right\")\n",
    "plt.savefig('DT_ROC')\n",
    "plt.show()"
   ]
  },
  {
   "cell_type": "code",
   "execution_count": 80,
   "metadata": {},
   "outputs": [
    {
     "name": "stdout",
     "output_type": "stream",
     "text": [
      "duration 0.3947138898648542\n",
      "nr.employed 0.14532940561378632\n",
      "cons.conf.idx 0.08089275600737605\n",
      "contact 0.07821305680695112\n",
      "euribor3m 0.04077665584578273\n",
      "cons.price.idx 0.03394330270417512\n",
      "age 0.03340947204296069\n",
      "campaign 0.012285784694251841\n",
      "education_high.school 0.010507039003174722\n",
      "day_of_week_mon 0.010256281727792686\n",
      "day_of_week_thu 0.009870409622560795\n",
      "pdays 0.00966113391670176\n",
      "emp.var.rate 0.009158313537606735\n",
      "day_of_week_tue 0.00897370553270591\n",
      "education_university.degree 0.008737981112016837\n",
      "housing_yes 0.007678498867867529\n",
      "day_of_week_wed 0.007522223098604456\n",
      "education_professional.course 0.007285484227145905\n",
      "marital_married 0.006703504167094391\n",
      "education_basic.9y 0.006685066509723987\n",
      "job_blue-collar 0.006428060047282532\n",
      "month_jul 0.006416486721339101\n",
      "previous 0.006059265103806495\n",
      "marital_single 0.005779333109417679\n",
      "month_oct 0.005650084271383412\n",
      "job_technician 0.004697335966802676\n",
      "loan_yes 0.003857307440343344\n",
      "poutcome_nonexistent 0.003579777133774846\n",
      "default_unknown 0.0035109889032170155\n",
      "job_management 0.0032760975374838174\n",
      "job_services 0.003147981919029177\n",
      "education_unknown 0.002982450111876597\n",
      "month_nov 0.0027895159474671384\n",
      "job_self-employed 0.002178621411163884\n",
      "month_aug 0.002094258463141977\n",
      "education_basic.6y 0.0019899386228338207\n",
      "job_entrepreneur 0.001529933214111771\n",
      "job_housemaid 0.0014538606044867495\n",
      "job_retired 0.0013690391662395597\n",
      "job_unemployed 0.0012511213324796812\n",
      "poutcome_success 0.0011598034288241481\n",
      "month_may 0.0010985527932591158\n",
      "job_student 0.0009378316245032951\n",
      "month_jun 0.0006730115370221317\n",
      "housing_unknown 0.0006579303241002434\n",
      "month_sep 0.0005943208234119625\n",
      "pdays_no_contact 0.0005763473160160298\n",
      "job_unknown 0.0005617802382774687\n",
      "loan_unknown 0.00039113327744498837\n",
      "month_dec 0.0003450900532855342\n",
      "month_mar 0.0001598099469063871\n",
      "marital_unknown 0.0001093683223372979\n",
      "education_illiterate 8.959838379639516e-05\n",
      "default_yes 0.0\n"
     ]
    }
   ],
   "source": [
    "for importance, name in sorted(zip(dtm.feature_importances_, os_test_X.columns),reverse=True)[:54]:\n",
    "    print (name, importance)"
   ]
  },
  {
   "cell_type": "markdown",
   "metadata": {},
   "source": [
    "Note: De acordo com o classificador Decision Tree, esta é a classificação de acordo com a ordem de importância."
   ]
  },
  {
   "cell_type": "markdown",
   "metadata": {},
   "source": [
    "# 7. Implementação Específicas e Restrições"
   ]
  },
  {
   "cell_type": "markdown",
   "metadata": {},
   "source": [
    "Algumas Implementações Específicas são:\n",
    "- RFE foi utilizado para estudar feature importance, não para reduzir features. As 54 features geradas não foram reduzidas.\n",
    "- O grafo do Decision Tree não foi profundamente analisado, mas o número de pontos de decisão são inúmeros.\n",
    "\n",
    "A seguinte restrição foi observada.\n",
    "- O trabalho de Moro et Al. [1] contém features que não esperávamos encontrar, por exemplo: call direction, ag.sex, cli.profile, ag.generic, cli.afluent. Inicialmente, não tínhamos percebidos isso. Isto pode ter afetado algumas análises.\n",
    "- Não foi encontrado nenhuma razão porque o resultado do treinamento do decision tree atingiu escores de 100%.\n",
    "- RFE foi usado como feature importance no início do projeto, por desconhecimento de outros métodos."
   ]
  },
  {
   "cell_type": "markdown",
   "metadata": {},
   "source": [
    "# 8. Conclusão"
   ]
  },
  {
   "cell_type": "markdown",
   "metadata": {},
   "source": [
    "A campanha de promoção de vendas de depósito bancário à prazo, por meio de telemarketing, obteve subscrição de apenas 11 %, obtido na visualização de dados. Com os dados preparados, balanceados e normalizados, foi possível treinar finalmente os dados.\n",
    "O modelo ajustado com LogisticRegression do módulo sklearn, obteve um escore de 93% durante na fase de treinamento. Depois na fase de CRV (Cross validation), obteve-se 31008 TN, 30577 TP, 1875 FP, 2308 FN por meio da matriz de confusão. Mostrando-se um modelo bastante equilibrado, confirmado com o desempenho das métricas accuracy (acurácia) de 94%, weighted avg (média ponderada) com 94% de precision (precisão), 94% de recall, 94% de f1-score e 89.4% de AUC. Na fase de teste com 10% do dataset, foi realizado o ajuste com o modelo e foi obtido um escore de 94.8%, obteve-se uma matriz de confusão com 3507 de TN, 3443 de TP, 158 de FP e 222 de FN. Utilizando-se da predição da variável y (subscrição ou não ao depósito a termo) com o y real, obteve-se a classificação com o accuracy de 95%, weighted avg de precision de 95%, recall de 95%, f1-score de 95% e AUC de 95%. Mostrando que o modelo obtido na fase de treinamento é também ajustado para a fase de teste. As métricas tiveram um bom desempenho porque não foram descartados nenhumas das 54 features, inclusive aquelas geradas pelas variáveis dummy. \n",
    "\n",
    "Na análise qualitativa foi possível entender melhor os perfis dos clientes que aceitaram a subscrição da campanha do depósito a termo. Estes tem em média 40 anos, tem formação no mínimo com ensino primário (de 9 anos) até o nível universitário,  trabalham na maioria como operário (blue-collar), aposentados, técnicos, em menor grau, funcionários administrativos, serviços, até estudante. Uma proporção de 64% de casados e 35% de solteiros. Menos de 5% tem empréstimo pessoal. Apesar da maioria desses clientes não terem sido abordados anteriormente em nenhuma campanha anterior, aqueles que foram abordados com sucesso na campanha passada se subscreveram com maior chance de sucesso na atual campanha. Estes foram abordados 2.78 vezes mais anteriormente que aqueles que não aceitaram nesta campanha. Na maior parte das vezes, os clientes foram abordados por meio de celular. Daqueles que não aceitaram, 40% foram atendidos por meio de telefone fixo. A duração média da chamada foi de 9.1 minutos contra 3.7 minutos para quem não se subscreveu. Aparentemente, o cliente que vai se subscrever tem a propensão de escutar mais. Os meses de maior abordagem ao cliente foram maio, junho, julho e agosto -correspondente ao verão europeu - porém novembro foi uma das 20 mais importante variável, segundo o RFE. Segunda-feira, foi considerado uma das 10 mais importante feature. O cliente teve em média 1.72 contatos contra 2.62 daqueles clientes que não aceitaram a campanha. As variáveis do momento sócio-econônomico, apesar de ter sido testada com o t-test do sklearn com pvalue < 1%, não dá para garantir que os índices sejam diferentes entre os casos positivos e os negativos, pois as médias estão entre 1-2% entre um e outro, estes são o caso do número de empregos, taxa de variação do emprego, índice do preço ao consumidor, e índice de confiança do consumidor, exceto a euribor3m que estava 55% do valor dos casos negativos, pois nem configuram entre os 30 features mais importantes, segundo o RFE.\n",
    "\n",
    "Foram observados que com o RFE, que a amostra com as 40 mais importantes features, penaliza mais as features numéricas como age, duration, campaign, pdays, cons.price.idx, cons.conf.idx, euribor3m, nr.employed do que as features categóricas. E exige um pouco mais de esforço para realizar análise qualitativa, a abstração é maior sobre os valores das features categóricas para se chegar à uma conclusão plausível, como a utilização do t-test, verificar desvio padrão, etc. Dessa forma, utilizamos também o classificação do Logistic Regression para as features mais importantes (Feature Importances). Uma vantagem desse classificação é que os valores positivos dessas features são predições para aquelas features que influenciam as respostas positivas (classe 1) e as negativas (classe 0). Observamos que a taxa euribor3m no topo dos mais importantes, seguida de duration (duração em segundos da abordagem ao cliente), poutcome_success (sucesso na campanha passada), education_illiterate (educação analfabeto), cons.price.idx (índice do preço ao consumidor), month_mar (mês de março) e age (idade do cliente) que são todas de classe 1, as outras features são de classe 0. Pode-se observar que a classificação do Logistic Regression, não penaliza as features de valores numéricos. A única feature listada entre as 10 mais importante no RFE é o poutcome_success, que também é importante no Logistic Regression. Porém o Logistic Regression penaliza as features de cunho sócio econômicos, como o nr.employed (numéro de trabalhadores empregados), emp.var.rate (taxa de variação do emprego), education-university.degree eeducation.university (universitário), job_blue_collar (operário), diferente do RFE, que seriam importante para a classe 1. Não haveria razão lógica para listar o education_illiterate entre as principais, pois casos de analfabetos não significativos.\n",
    "\n",
    "O Decision Tree (DT) parece realizar uma classificação mais balanceada entre as features categóricas e numéricas, tanto com os atributos do clientes e com as métricas sócio econômicos. No topo das features mais importante, estão o duration, nr.employed, cons.conf.idx, contact, euribor3m, age, cons.price.idx, campaign, education_high.school, day_of_week_mon. E as features realmente menos significativas, inclusive para o RFE, default_yes, marital_unknown, education_illiterate, month_mar, housing_unknown, job_unknown, month_dec, pdays_no_contact. E a vantagem do DT, é que se pode gerar um grafo com a árvore de decisão, onde há nós de decisão com subvalores das features numéricas, assim há vários nós de decisão com subvalores de duration, introduzindo um abstração maior para a análise qualitativa. "
   ]
  },
  {
   "cell_type": "markdown",
   "metadata": {},
   "source": [
    "# 9. Informação das versões"
   ]
  },
  {
   "cell_type": "markdown",
   "metadata": {},
   "source": [
    "V1.0. Eduardo 70% (Jupyter notebook, latex, apresentações, vídeo), Thales 30% (Algoritmo Python, Jupyter Notebook, latex)"
   ]
  }
 ],
 "metadata": {
  "kernelspec": {
   "display_name": "Python 3",
   "language": "python",
   "name": "python3"
  },
  "language_info": {
   "codemirror_mode": {
    "name": "ipython",
    "version": 3
   },
   "file_extension": ".py",
   "mimetype": "text/x-python",
   "name": "python",
   "nbconvert_exporter": "python",
   "pygments_lexer": "ipython3",
   "version": "3.7.7"
  }
 },
 "nbformat": 4,
 "nbformat_minor": 4
}
