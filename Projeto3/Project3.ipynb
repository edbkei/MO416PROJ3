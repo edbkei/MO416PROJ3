{
 "cells": [
  {
   "cell_type": "markdown",
   "metadata": {},
   "source": [
    "# Projeto 3: Verificação da eficiência da campanha sobre vendas de depósito bancário a prazo por meio de telemarketing\n",
    "\n",
    "Um banco português solicitou uma pesquisa sobre a eficiência da campanha sobre vendas de depósito bancário a longo prazo por meio de telemarketing, i.e. por algum meio de contato telefônico. O potencial cliente é submetido à uma série de questionamentos onde as respostas são registradas como mostram os campos abaixo, que como podem ser percebidos há alguns com valores categóricos e numéricos, que são as variáveis independentes. O resultado da abordagem pode induzir o potencial cliente a adquirir um plano de depósito bancário a longo prazo, ou não. Isto é representado por uma variável dependente \"y\", que contém um valor categórico yes (sim) ou não (no). O nosso problema é tentar encontrar um modelo de predição que meça a eficiência da campanha, baseado no dataset [2], que é um repositório de dados de machine learning disponibilizado ao público, depois de uma pesquisa realizada por um banco português [1]. Para tentar resolver esse problema, vamos utilizar um classificador Supervised Learning, como já é dado uma variável dependente. Logistic Regression é a primeira opção.\n",
    "\n",
    "### Dados do cliente do banco:\n",
    "<ol>\n",
    "<li>age (numeric)</li>\n",
    "<li>job : type of job (categorical: 'admin.','blue-collar','entrepreneur','housemaid','management','retired','self-employed','services','student','technician','unemployed','unknown')</li>\n",
    "<li>marital : marital status (categorical: 'divorced','married','single','unknown'; note: 'divorced' means divorced or widowed)</li>\n",
    "<li>education (categorical: 'basic.4y','basic.6y','basic.9y','high.school','illiterate','professional.course','university.degree','unknown')</li>\n",
    "<li>default: has credit in default? (categorical: 'no','yes','unknown')</li>\n",
    "<li>housing: has housing loan? (categorical: 'no','yes','unknown')</li>\n",
    "<li>loan: has personal loan? (categorical: 'no','yes','unknown')</li>\n",
    "</ol>\n",
    "\n",
    "### Dados relativos ao último contato dentro da campanha corrente\n",
    "<ol>\n",
    "<li value=\"8\">contact: contact communication type (categorical: 'cellular','telephone')</li>\n",
    "<li>month: last contact month of year (categorical: 'jan', 'feb', 'mar', ..., 'nov', 'dec')</li>\n",
    "<li>day_of_week: last contact day of the week (categorical: 'mon','tue','wed','thu','fri'</li>\n",
    "<li>duration: last contact duration, in seconds (numeric). Important note: this attribute highly affects the output target (e.g., if duration=0 then y='no'). Yet, the duration is not known before a call is performed. Also, after the end of the call y is obviously known. Thus, this input should only be included for benchmark purposes and should be discarded if the intention is to have a realistic predictive model.</li>\n",
    "</ol>\n",
    "\n",
    "### Outras atividades:\n",
    "<ol>\n",
    "<li value=\"12\">campaign: number of contacts performed during this campaign and for this client (numeric, includes last contact).</li>\n",
    "<li>pdays: number of days that passed by after the client was last contacted from a previous campaign (numeric; 999 means client was not previously contacted).</li>\n",
    "<li>previous: number of contacts performed before this campaign and for this client (numeric).</li>\n",
    "<li>poutcome: outcome of the previous marketing campaign (categorical: 'failure','nonexistent','success').</li>\n",
    "</ol>\n",
    "\n",
    "### Atributos do contexto social e econômico\n",
    "<ol>\n",
    "<li value='16'>emp.var.rate: employment variation rate - quarterly indicator (numeric)</li>\n",
    "<li>cons.price.idx: consumer price index - monthly indicator (numeric)</li>\n",
    "<li>cons.conf.idx: consumer confidence index - monthly indicator (numeric)</li>\n",
    "<li>euribor3m: euribor 3 month rate - daily indicator (numeric)</li>\n",
    "<li>nr.employed: number of employees - quarterly indicator (numeric)</li>\n",
    "</ol>\n",
    "\n",
    "### Variável Dependente (variável de predição):\n",
    "<ol>\n",
    "<li value='21'>y - has the client subscribed a term deposit? (binary: 'yes','no')</li>\n",
    "</ol>"
   ]
  },
  {
   "cell_type": "markdown",
   "metadata": {},
   "source": [
    "### Referência \n",
    "\n",
    "<p>[1] [Moro et al., 2014] S. Moro, P. Cortez and P. Rita. A Data-Driven Approach to Predict the Success of Bank Telemarketing. Decision Support Systems, Elsevier, 62:22-31, June 2014</p>\n",
    "\n",
    "<p>[2] Bank Marketing Data Set, Machine Learning Repository, http://archive.ics.uci.edu/ml/datasets/Bank+Marketing, accessed: 2020-07-15</p>"
   ]
  },
  {
   "cell_type": "markdown",
   "metadata": {},
   "source": [
    "## 1. Extração e Exploração dos Dados"
   ]
  },
  {
   "cell_type": "code",
   "execution_count": 1,
   "metadata": {},
   "outputs": [
    {
     "name": "stdout",
     "output_type": "stream",
     "text": [
      "dimensões do dataframe:  (41188, 21)\n",
      " \n",
      "colunas:  ['age', 'job', 'marital', 'education', 'default', 'housing', 'loan', 'contact', 'month', 'day_of_week', 'duration', 'campaign', 'pdays', 'previous', 'poutcome', 'emp.var.rate', 'cons.price.idx', 'cons.conf.idx', 'euribor3m', 'nr.employed', 'y']\n",
      " \n",
      "<class 'pandas.core.frame.DataFrame'>\n",
      "Int64Index: 41188 entries, 0 to 41187\n",
      "Data columns (total 21 columns):\n",
      " #   Column          Non-Null Count  Dtype  \n",
      "---  ------          --------------  -----  \n",
      " 0   age             41188 non-null  int64  \n",
      " 1   job             41188 non-null  object \n",
      " 2   marital         41188 non-null  object \n",
      " 3   education       41188 non-null  object \n",
      " 4   default         41188 non-null  object \n",
      " 5   housing         41188 non-null  object \n",
      " 6   loan            41188 non-null  object \n",
      " 7   contact         41188 non-null  object \n",
      " 8   month           41188 non-null  object \n",
      " 9   day_of_week     41188 non-null  object \n",
      " 10  duration        41188 non-null  int64  \n",
      " 11  campaign        41188 non-null  int64  \n",
      " 12  pdays           41188 non-null  int64  \n",
      " 13  previous        41188 non-null  int64  \n",
      " 14  poutcome        41188 non-null  object \n",
      " 15  emp.var.rate    41188 non-null  float64\n",
      " 16  cons.price.idx  41188 non-null  float64\n",
      " 17  cons.conf.idx   41188 non-null  float64\n",
      " 18  euribor3m       41188 non-null  float64\n",
      " 19  nr.employed     41188 non-null  float64\n",
      " 20  y               41188 non-null  object \n",
      "dtypes: float64(5), int64(5), object(11)\n",
      "memory usage: 6.9+ MB\n",
      " \n",
      "               age      duration      campaign         pdays      previous  \\\n",
      "count  41188.00000  41188.000000  41188.000000  41188.000000  41188.000000   \n",
      "mean      40.02406    258.285010      2.567593    962.475454      0.172963   \n",
      "std       10.42125    259.279249      2.770014    186.910907      0.494901   \n",
      "min       17.00000      0.000000      1.000000      0.000000      0.000000   \n",
      "25%       32.00000    102.000000      1.000000    999.000000      0.000000   \n",
      "50%       38.00000    180.000000      2.000000    999.000000      0.000000   \n",
      "75%       47.00000    319.000000      3.000000    999.000000      0.000000   \n",
      "max       98.00000   4918.000000     56.000000    999.000000      7.000000   \n",
      "\n",
      "       emp.var.rate  cons.price.idx  cons.conf.idx     euribor3m   nr.employed  \n",
      "count  41188.000000    41188.000000   41188.000000  41188.000000  41188.000000  \n",
      "mean       0.081886       93.575664     -40.502600      3.621291   5167.035911  \n",
      "std        1.570960        0.578840       4.628198      1.734447     72.251528  \n",
      "min       -3.400000       92.201000     -50.800000      0.634000   4963.600000  \n",
      "25%       -1.800000       93.075000     -42.700000      1.344000   5099.100000  \n",
      "50%        1.100000       93.749000     -41.800000      4.857000   5191.000000  \n",
      "75%        1.400000       93.994000     -36.400000      4.961000   5228.100000  \n",
      "max        1.400000       94.767000     -26.900000      5.045000   5228.100000  \n"
     ]
    }
   ],
   "source": [
    "import pandas as pd\n",
    "import numpy as np\n",
    "from sklearn import preprocessing\n",
    "import matplotlib.pyplot as plt \n",
    "plt.rc(\"font\", size=14)\n",
    "from sklearn.linear_model import LogisticRegression\n",
    "from sklearn.model_selection import train_test_split\n",
    "import seaborn as sns\n",
    "sns.set(style=\"white\")\n",
    "sns.set(style=\"whitegrid\", color_codes=True)\n",
    "data=pd.read_csv('bank-additional-full.csv',header=0,sep=';')\n",
    "data=data.dropna()\n",
    "import warnings\n",
    "warnings.filterwarnings('ignore')\n",
    "print('dimensões do dataframe: ',data.shape)\n",
    "print(' ')\n",
    "print(\"colunas: \",list(data.columns))\n",
    "print(\" \")\n",
    "data.info()\n",
    "print(\" \")\n",
    "print(data.describe())"
   ]
  },
  {
   "cell_type": "markdown",
   "metadata": {},
   "source": [
    "Nota: Observa-se que 25%, 50%, 75% e o max da amostra da variável pdays está em 999, que significa que o cliente não foi previamente contatado em nenhuma campanha prévia. Algum tratamento deverá ser realizado.\n",
    "\n",
    "Em relação ao age (idade), a mediana (50o. percentil) e a média de idade dos clientes é cerca de 40 anos. A duração média da chamada é de 259 segundos (4.3 min), se bem que a mediana é mais baixa 102s (1.7min). Na média, os clientes foram contactados (campaign) 2.5 vezes e uma mediana de 2. Na maior parte das vezes, os clientes nunca foram antes contactados (pdays), o valor 999 está presente no 1o quartil, mediana e no 3o quartil. O que é corroborado pelo contato prévio (previous) com uma média menor que 1 contato, antes desta campanha. Possivelmente, não houve uma campanha de marketing agressiva anteriormente. A taxa de emprego (emp.var.rate) não varia substancialmente, nem o índice de preço ao consumidor (cons.price.idx), nem o número de emprego (nr.employed) e nem o índice de confiança ao consumidor (cons.conf.idx). O euribor3m mostra alguma evolução com o passar do tempo. \n",
    "\n",
    "Abaixo observa-se a distribuição do pdays"
   ]
  },
  {
   "cell_type": "code",
   "execution_count": 2,
   "metadata": {},
   "outputs": [
    {
     "data": {
      "text/plain": [
       "999    39673\n",
       "3        439\n",
       "6        412\n",
       "4        118\n",
       "9         64\n",
       "2         61\n",
       "7         60\n",
       "12        58\n",
       "10        52\n",
       "5         46\n",
       "13        36\n",
       "11        28\n",
       "1         26\n",
       "15        24\n",
       "14        20\n",
       "8         18\n",
       "0         15\n",
       "16        11\n",
       "17         8\n",
       "18         7\n",
       "19         3\n",
       "22         3\n",
       "21         2\n",
       "26         1\n",
       "20         1\n",
       "25         1\n",
       "27         1\n",
       "Name: pdays, dtype: int64"
      ]
     },
     "execution_count": 2,
     "metadata": {},
     "output_type": "execute_result"
    }
   ],
   "source": [
    "data['pdays'].value_counts()"
   ]
  },
  {
   "cell_type": "markdown",
   "metadata": {},
   "source": [
    "Nota: o valor 999 pode corromper a estatística do pdays. O grande número de 999 indica que a maioria não foi contactado anteriormente."
   ]
  },
  {
   "cell_type": "markdown",
   "metadata": {},
   "source": [
    "### Verificação dos dados categóricos"
   ]
  },
  {
   "cell_type": "code",
   "execution_count": 3,
   "metadata": {},
   "outputs": [
    {
     "data": {
      "text/html": [
       "<div>\n",
       "<style scoped>\n",
       "    .dataframe tbody tr th:only-of-type {\n",
       "        vertical-align: middle;\n",
       "    }\n",
       "\n",
       "    .dataframe tbody tr th {\n",
       "        vertical-align: top;\n",
       "    }\n",
       "\n",
       "    .dataframe thead th {\n",
       "        text-align: right;\n",
       "    }\n",
       "</style>\n",
       "<table border=\"1\" class=\"dataframe\">\n",
       "  <thead>\n",
       "    <tr style=\"text-align: right;\">\n",
       "      <th></th>\n",
       "      <th>age</th>\n",
       "      <th>job</th>\n",
       "      <th>marital</th>\n",
       "      <th>education</th>\n",
       "      <th>default</th>\n",
       "      <th>housing</th>\n",
       "      <th>loan</th>\n",
       "      <th>contact</th>\n",
       "      <th>month</th>\n",
       "      <th>day_of_week</th>\n",
       "      <th>...</th>\n",
       "      <th>campaign</th>\n",
       "      <th>pdays</th>\n",
       "      <th>previous</th>\n",
       "      <th>poutcome</th>\n",
       "      <th>emp.var.rate</th>\n",
       "      <th>cons.price.idx</th>\n",
       "      <th>cons.conf.idx</th>\n",
       "      <th>euribor3m</th>\n",
       "      <th>nr.employed</th>\n",
       "      <th>y</th>\n",
       "    </tr>\n",
       "  </thead>\n",
       "  <tbody>\n",
       "    <tr>\n",
       "      <th>0</th>\n",
       "      <td>56</td>\n",
       "      <td>housemaid</td>\n",
       "      <td>married</td>\n",
       "      <td>basic.4y</td>\n",
       "      <td>no</td>\n",
       "      <td>no</td>\n",
       "      <td>no</td>\n",
       "      <td>telephone</td>\n",
       "      <td>may</td>\n",
       "      <td>mon</td>\n",
       "      <td>...</td>\n",
       "      <td>1</td>\n",
       "      <td>999</td>\n",
       "      <td>0</td>\n",
       "      <td>nonexistent</td>\n",
       "      <td>1.1</td>\n",
       "      <td>93.994</td>\n",
       "      <td>-36.4</td>\n",
       "      <td>4.857</td>\n",
       "      <td>5191.0</td>\n",
       "      <td>no</td>\n",
       "    </tr>\n",
       "    <tr>\n",
       "      <th>1</th>\n",
       "      <td>57</td>\n",
       "      <td>services</td>\n",
       "      <td>married</td>\n",
       "      <td>high.school</td>\n",
       "      <td>unknown</td>\n",
       "      <td>no</td>\n",
       "      <td>no</td>\n",
       "      <td>telephone</td>\n",
       "      <td>may</td>\n",
       "      <td>mon</td>\n",
       "      <td>...</td>\n",
       "      <td>1</td>\n",
       "      <td>999</td>\n",
       "      <td>0</td>\n",
       "      <td>nonexistent</td>\n",
       "      <td>1.1</td>\n",
       "      <td>93.994</td>\n",
       "      <td>-36.4</td>\n",
       "      <td>4.857</td>\n",
       "      <td>5191.0</td>\n",
       "      <td>no</td>\n",
       "    </tr>\n",
       "    <tr>\n",
       "      <th>2</th>\n",
       "      <td>37</td>\n",
       "      <td>services</td>\n",
       "      <td>married</td>\n",
       "      <td>high.school</td>\n",
       "      <td>no</td>\n",
       "      <td>yes</td>\n",
       "      <td>no</td>\n",
       "      <td>telephone</td>\n",
       "      <td>may</td>\n",
       "      <td>mon</td>\n",
       "      <td>...</td>\n",
       "      <td>1</td>\n",
       "      <td>999</td>\n",
       "      <td>0</td>\n",
       "      <td>nonexistent</td>\n",
       "      <td>1.1</td>\n",
       "      <td>93.994</td>\n",
       "      <td>-36.4</td>\n",
       "      <td>4.857</td>\n",
       "      <td>5191.0</td>\n",
       "      <td>no</td>\n",
       "    </tr>\n",
       "    <tr>\n",
       "      <th>3</th>\n",
       "      <td>40</td>\n",
       "      <td>admin.</td>\n",
       "      <td>married</td>\n",
       "      <td>basic.6y</td>\n",
       "      <td>no</td>\n",
       "      <td>no</td>\n",
       "      <td>no</td>\n",
       "      <td>telephone</td>\n",
       "      <td>may</td>\n",
       "      <td>mon</td>\n",
       "      <td>...</td>\n",
       "      <td>1</td>\n",
       "      <td>999</td>\n",
       "      <td>0</td>\n",
       "      <td>nonexistent</td>\n",
       "      <td>1.1</td>\n",
       "      <td>93.994</td>\n",
       "      <td>-36.4</td>\n",
       "      <td>4.857</td>\n",
       "      <td>5191.0</td>\n",
       "      <td>no</td>\n",
       "    </tr>\n",
       "    <tr>\n",
       "      <th>4</th>\n",
       "      <td>56</td>\n",
       "      <td>services</td>\n",
       "      <td>married</td>\n",
       "      <td>high.school</td>\n",
       "      <td>no</td>\n",
       "      <td>no</td>\n",
       "      <td>yes</td>\n",
       "      <td>telephone</td>\n",
       "      <td>may</td>\n",
       "      <td>mon</td>\n",
       "      <td>...</td>\n",
       "      <td>1</td>\n",
       "      <td>999</td>\n",
       "      <td>0</td>\n",
       "      <td>nonexistent</td>\n",
       "      <td>1.1</td>\n",
       "      <td>93.994</td>\n",
       "      <td>-36.4</td>\n",
       "      <td>4.857</td>\n",
       "      <td>5191.0</td>\n",
       "      <td>no</td>\n",
       "    </tr>\n",
       "  </tbody>\n",
       "</table>\n",
       "<p>5 rows × 21 columns</p>\n",
       "</div>"
      ],
      "text/plain": [
       "   age        job  marital    education  default housing loan    contact  \\\n",
       "0   56  housemaid  married     basic.4y       no      no   no  telephone   \n",
       "1   57   services  married  high.school  unknown      no   no  telephone   \n",
       "2   37   services  married  high.school       no     yes   no  telephone   \n",
       "3   40     admin.  married     basic.6y       no      no   no  telephone   \n",
       "4   56   services  married  high.school       no      no  yes  telephone   \n",
       "\n",
       "  month day_of_week  ...  campaign  pdays  previous     poutcome emp.var.rate  \\\n",
       "0   may         mon  ...         1    999         0  nonexistent          1.1   \n",
       "1   may         mon  ...         1    999         0  nonexistent          1.1   \n",
       "2   may         mon  ...         1    999         0  nonexistent          1.1   \n",
       "3   may         mon  ...         1    999         0  nonexistent          1.1   \n",
       "4   may         mon  ...         1    999         0  nonexistent          1.1   \n",
       "\n",
       "   cons.price.idx  cons.conf.idx  euribor3m  nr.employed   y  \n",
       "0          93.994          -36.4      4.857       5191.0  no  \n",
       "1          93.994          -36.4      4.857       5191.0  no  \n",
       "2          93.994          -36.4      4.857       5191.0  no  \n",
       "3          93.994          -36.4      4.857       5191.0  no  \n",
       "4          93.994          -36.4      4.857       5191.0  no  \n",
       "\n",
       "[5 rows x 21 columns]"
      ]
     },
     "execution_count": 3,
     "metadata": {},
     "output_type": "execute_result"
    }
   ],
   "source": [
    "data.head()"
   ]
  },
  {
   "cell_type": "markdown",
   "metadata": {},
   "source": [
    "Nota: Observa-se variáveis numéricas e categoricas"
   ]
  },
  {
   "cell_type": "code",
   "execution_count": 3,
   "metadata": {},
   "outputs": [
    {
     "name": "stdout",
     "output_type": "stream",
     "text": [
      "job **********************  \n",
      "\n",
      "admin.           10422\n",
      "blue-collar       9254\n",
      "technician        6743\n",
      "services          3969\n",
      "management        2924\n",
      "retired           1720\n",
      "entrepreneur      1456\n",
      "self-employed     1421\n",
      "housemaid         1060\n",
      "unemployed        1014\n",
      "student            875\n",
      "unknown            330\n",
      "Name: job, dtype: int64\n",
      "  \n",
      "marital **********************  \n",
      "\n",
      "married     24928\n",
      "single      11568\n",
      "divorced     4612\n",
      "unknown        80\n",
      "Name: marital, dtype: int64\n",
      "  \n",
      "education **********************  \n",
      "\n",
      "university.degree      12168\n",
      "high.school             9515\n",
      "basic.9y                6045\n",
      "professional.course     5243\n",
      "basic.4y                4176\n",
      "basic.6y                2292\n",
      "unknown                 1731\n",
      "illiterate                18\n",
      "Name: education, dtype: int64\n",
      "  \n",
      "default **********************  \n",
      "\n",
      "no         32588\n",
      "unknown     8597\n",
      "yes            3\n",
      "Name: default, dtype: int64\n",
      "  \n",
      "housing **********************  \n",
      "\n",
      "yes        21576\n",
      "no         18622\n",
      "unknown      990\n",
      "Name: housing, dtype: int64\n",
      "  \n",
      "loan **********************  \n",
      "\n",
      "no         33950\n",
      "yes         6248\n",
      "unknown      990\n",
      "Name: loan, dtype: int64\n",
      "  \n",
      "contact **********************  \n",
      "\n",
      "cellular     26144\n",
      "telephone    15044\n",
      "Name: contact, dtype: int64\n",
      "  \n",
      "month **********************  \n",
      "\n",
      "may    13769\n",
      "jul     7174\n",
      "aug     6178\n",
      "jun     5318\n",
      "nov     4101\n",
      "apr     2632\n",
      "oct      718\n",
      "sep      570\n",
      "mar      546\n",
      "dec      182\n",
      "Name: month, dtype: int64\n",
      "  \n",
      "day_of_week **********************  \n",
      "\n",
      "thu    8623\n",
      "mon    8514\n",
      "wed    8134\n",
      "tue    8090\n",
      "fri    7827\n",
      "Name: day_of_week, dtype: int64\n",
      "  \n",
      "poutcome **********************  \n",
      "\n",
      "nonexistent    35563\n",
      "failure         4252\n",
      "success         1373\n",
      "Name: poutcome, dtype: int64\n",
      "  \n",
      "y **********************  \n",
      "\n",
      "no     36548\n",
      "yes     4640\n",
      "Name: y, dtype: int64\n",
      "  \n"
     ]
    }
   ],
   "source": [
    "cat_col = [n for n in data.columns if data[n].dtypes == 'object']\n",
    "for col in cat_col:\n",
    "    print(col, '**********************  \\n')\n",
    "    print(data[col].value_counts())\n",
    "    print(\"  \")"
   ]
  },
  {
   "cell_type": "markdown",
   "metadata": {},
   "source": [
    "Nota: a variável dependente y deverá ser reatribuída com valores (0,1) em vez de (no, yes). A variável contact pode ser binária também, i.e. cellular pode ser 0 e telephone pode ser 1. A grosso modo, foram contactados clientes com perfil bastante conservador. Na maioria, são profissionais administrativos (job-admin), com educação universitária (university.degree), estado civil casado, a maioria admitiu não estar endividado (apenas 3 admitiu), a situação crediária indica que a maior parte tem dívida com a casa própria (housing yes), a maior indica que não tem empréstimos pessoais (loan). Os meses (month) contactados foram em grande monta no período primavera-verão europeu. Os clientes foram contactados em todos os dias da semana, como mostrada pela distribuíção equitativa dos dias. Como percebido anteriormente, a campanha de marketing anterior (poutcome) para a maioria foi inexistente ou falhou. A variável y é o resultado da campanha de marketing atual, com apenas 11% de sucesso (yes 4640)."
   ]
  },
  {
   "cell_type": "markdown",
   "metadata": {},
   "source": [
    "### Verificação de subscrições obtidas depois da campanha"
   ]
  },
  {
   "cell_type": "code",
   "execution_count": 7,
   "metadata": {},
   "outputs": [
    {
     "name": "stdout",
     "output_type": "stream",
     "text": [
      "No_sub= 36548  Sub= 4640\n",
      "Porcentagem de subscrição:  11.265417111780131\n",
      "Porcentagem de sem subscrição:  88.73458288821988\n"
     ]
    },
    {
     "data": {
      "text/plain": [
       "<matplotlib.axes._subplots.AxesSubplot at 0x1bd1ca3b708>"
      ]
     },
     "execution_count": 7,
     "metadata": {},
     "output_type": "execute_result"
    },
    {
     "data": {
      "image/png": "[encoded data removed]",
      "text/plain": [
       "<Figure size 432x288 with 1 Axes>"
      ]
     },
     "metadata": {},
     "output_type": "display_data"
    }
   ],
   "source": [
    "No_sub = len(data[data['y']=='no'])\n",
    "Sub = len(data[data['y']=='yes'])\n",
    "print('No_sub=',No_sub,' Sub=',Sub)\n",
    "percent_No_sub = (No_sub/len(data['y']))*100\n",
    "percent_sub=(Sub/len(data['y']))*100\n",
    "print('Porcentagem de subscrição: ',percent_sub)\n",
    "print('Porcentagem de sem subscrição: ',percent_No_sub)\n",
    "\n",
    "data['y'].value_counts().plot.bar()"
   ]
  },
  {
   "cell_type": "markdown",
   "metadata": {},
   "source": [
    "Nota: yes e no pode ser transformado em valores binários 1 e 0, respectivamente. Apenas 11.26% se subscreveram ao depósito a termo."
   ]
  },
  {
   "cell_type": "code",
   "execution_count": 5,
   "metadata": {},
   "outputs": [
    {
     "data": {
      "text/plain": [
       "array([[<matplotlib.axes._subplots.AxesSubplot object at 0x000001BD1930E2C8>,\n",
       "        <matplotlib.axes._subplots.AxesSubplot object at 0x000001BD1933D688>,\n",
       "        <matplotlib.axes._subplots.AxesSubplot object at 0x000001BD19371D88>],\n",
       "       [<matplotlib.axes._subplots.AxesSubplot object at 0x000001BD193ADA88>,\n",
       "        <matplotlib.axes._subplots.AxesSubplot object at 0x000001BD193E6908>,\n",
       "        <matplotlib.axes._subplots.AxesSubplot object at 0x000001BD19421788>],\n",
       "       [<matplotlib.axes._subplots.AxesSubplot object at 0x000001BD19459648>,\n",
       "        <matplotlib.axes._subplots.AxesSubplot object at 0x000001BD19493388>,\n",
       "        <matplotlib.axes._subplots.AxesSubplot object at 0x000001BD19493588>],\n",
       "       [<matplotlib.axes._subplots.AxesSubplot object at 0x000001BD1953D508>,\n",
       "        <matplotlib.axes._subplots.AxesSubplot object at 0x000001BD195AAF08>,\n",
       "        <matplotlib.axes._subplots.AxesSubplot object at 0x000001BD1937D0C8>]],\n",
       "      dtype=object)"
      ]
     },
     "execution_count": 5,
     "metadata": {},
     "output_type": "execute_result"
    },
    {
     "data": {
      "image/png": "[encoded data removed]",
      "text/plain": [
       "<Figure size 1080x720 with 12 Axes>"
      ]
     },
     "metadata": {},
     "output_type": "display_data"
    }
   ],
   "source": [
    "data.hist(bins=50,figsize=(15,10))"
   ]
  },
  {
   "cell_type": "markdown",
   "metadata": {},
   "source": [
    "Nota: pdays necessita de um ajuste. Não é razoável que pdays contenha valores em dias depois do último contato e 999 significar que não houve um prévio contato."
   ]
  },
  {
   "cell_type": "markdown",
   "metadata": {},
   "source": [
    "## 2. Preparação de Dados"
   ]
  },
  {
   "cell_type": "markdown",
   "metadata": {},
   "source": [
    "### 2.1 Preparação da variável dependente y"
   ]
  },
  {
   "cell_type": "code",
   "execution_count": 8,
   "metadata": {},
   "outputs": [],
   "source": [
    "data['y']=np.where(data['y'] =='yes', 1, data['y'])\n",
    "data['y']=np.where(data['y'] =='no',  0, data['y'])"
   ]
  },
  {
   "cell_type": "markdown",
   "metadata": {},
   "source": [
    "### 2.2 Tratamento da variável pdays e contact"
   ]
  },
  {
   "cell_type": "code",
   "execution_count": 9,
   "metadata": {},
   "outputs": [],
   "source": [
    "data['pdays_no_contact']=(data['pdays']==999)*1\n",
    "contact=({'cellular':0, 'telephone':1})\n",
    "data['contact']=data['contact'].map(contact)"
   ]
  },
  {
   "cell_type": "markdown",
   "metadata": {},
   "source": [
    "### 2.3 Criação de variáveis dummy para variáveis categóricas"
   ]
  },
  {
   "cell_type": "code",
   "execution_count": 6,
   "metadata": {},
   "outputs": [
    {
     "data": {
      "text/html": [
       "<div>\n",
       "<style scoped>\n",
       "    .dataframe tbody tr th:only-of-type {\n",
       "        vertical-align: middle;\n",
       "    }\n",
       "\n",
       "    .dataframe tbody tr th {\n",
       "        vertical-align: top;\n",
       "    }\n",
       "\n",
       "    .dataframe thead th {\n",
       "        text-align: right;\n",
       "    }\n",
       "</style>\n",
       "<table border=\"1\" class=\"dataframe\">\n",
       "  <thead>\n",
       "    <tr style=\"text-align: right;\">\n",
       "      <th></th>\n",
       "      <th>age</th>\n",
       "      <th>job</th>\n",
       "      <th>marital</th>\n",
       "      <th>education</th>\n",
       "      <th>default</th>\n",
       "      <th>housing</th>\n",
       "      <th>loan</th>\n",
       "      <th>contact</th>\n",
       "      <th>month</th>\n",
       "      <th>day_of_week</th>\n",
       "      <th>...</th>\n",
       "      <th>pdays</th>\n",
       "      <th>previous</th>\n",
       "      <th>poutcome</th>\n",
       "      <th>emp.var.rate</th>\n",
       "      <th>cons.price.idx</th>\n",
       "      <th>cons.conf.idx</th>\n",
       "      <th>euribor3m</th>\n",
       "      <th>nr.employed</th>\n",
       "      <th>y</th>\n",
       "      <th>pdays_no_contact</th>\n",
       "    </tr>\n",
       "  </thead>\n",
       "  <tbody>\n",
       "    <tr>\n",
       "      <th>0</th>\n",
       "      <td>56</td>\n",
       "      <td>housemaid</td>\n",
       "      <td>married</td>\n",
       "      <td>basic.4y</td>\n",
       "      <td>no</td>\n",
       "      <td>no</td>\n",
       "      <td>no</td>\n",
       "      <td>1</td>\n",
       "      <td>may</td>\n",
       "      <td>mon</td>\n",
       "      <td>...</td>\n",
       "      <td>999</td>\n",
       "      <td>0</td>\n",
       "      <td>nonexistent</td>\n",
       "      <td>1.1</td>\n",
       "      <td>93.994</td>\n",
       "      <td>-36.4</td>\n",
       "      <td>4.857</td>\n",
       "      <td>5191.0</td>\n",
       "      <td>0</td>\n",
       "      <td>1</td>\n",
       "    </tr>\n",
       "    <tr>\n",
       "      <th>1</th>\n",
       "      <td>57</td>\n",
       "      <td>services</td>\n",
       "      <td>married</td>\n",
       "      <td>high.school</td>\n",
       "      <td>unknown</td>\n",
       "      <td>no</td>\n",
       "      <td>no</td>\n",
       "      <td>1</td>\n",
       "      <td>may</td>\n",
       "      <td>mon</td>\n",
       "      <td>...</td>\n",
       "      <td>999</td>\n",
       "      <td>0</td>\n",
       "      <td>nonexistent</td>\n",
       "      <td>1.1</td>\n",
       "      <td>93.994</td>\n",
       "      <td>-36.4</td>\n",
       "      <td>4.857</td>\n",
       "      <td>5191.0</td>\n",
       "      <td>0</td>\n",
       "      <td>1</td>\n",
       "    </tr>\n",
       "    <tr>\n",
       "      <th>2</th>\n",
       "      <td>37</td>\n",
       "      <td>services</td>\n",
       "      <td>married</td>\n",
       "      <td>high.school</td>\n",
       "      <td>no</td>\n",
       "      <td>yes</td>\n",
       "      <td>no</td>\n",
       "      <td>1</td>\n",
       "      <td>may</td>\n",
       "      <td>mon</td>\n",
       "      <td>...</td>\n",
       "      <td>999</td>\n",
       "      <td>0</td>\n",
       "      <td>nonexistent</td>\n",
       "      <td>1.1</td>\n",
       "      <td>93.994</td>\n",
       "      <td>-36.4</td>\n",
       "      <td>4.857</td>\n",
       "      <td>5191.0</td>\n",
       "      <td>0</td>\n",
       "      <td>1</td>\n",
       "    </tr>\n",
       "    <tr>\n",
       "      <th>3</th>\n",
       "      <td>40</td>\n",
       "      <td>admin.</td>\n",
       "      <td>married</td>\n",
       "      <td>basic.6y</td>\n",
       "      <td>no</td>\n",
       "      <td>no</td>\n",
       "      <td>no</td>\n",
       "      <td>1</td>\n",
       "      <td>may</td>\n",
       "      <td>mon</td>\n",
       "      <td>...</td>\n",
       "      <td>999</td>\n",
       "      <td>0</td>\n",
       "      <td>nonexistent</td>\n",
       "      <td>1.1</td>\n",
       "      <td>93.994</td>\n",
       "      <td>-36.4</td>\n",
       "      <td>4.857</td>\n",
       "      <td>5191.0</td>\n",
       "      <td>0</td>\n",
       "      <td>1</td>\n",
       "    </tr>\n",
       "    <tr>\n",
       "      <th>4</th>\n",
       "      <td>56</td>\n",
       "      <td>services</td>\n",
       "      <td>married</td>\n",
       "      <td>high.school</td>\n",
       "      <td>no</td>\n",
       "      <td>no</td>\n",
       "      <td>yes</td>\n",
       "      <td>1</td>\n",
       "      <td>may</td>\n",
       "      <td>mon</td>\n",
       "      <td>...</td>\n",
       "      <td>999</td>\n",
       "      <td>0</td>\n",
       "      <td>nonexistent</td>\n",
       "      <td>1.1</td>\n",
       "      <td>93.994</td>\n",
       "      <td>-36.4</td>\n",
       "      <td>4.857</td>\n",
       "      <td>5191.0</td>\n",
       "      <td>0</td>\n",
       "      <td>1</td>\n",
       "    </tr>\n",
       "  </tbody>\n",
       "</table>\n",
       "<p>5 rows × 22 columns</p>\n",
       "</div>"
      ],
      "text/plain": [
       "   age        job  marital    education  default housing loan  contact month  \\\n",
       "0   56  housemaid  married     basic.4y       no      no   no        1   may   \n",
       "1   57   services  married  high.school  unknown      no   no        1   may   \n",
       "2   37   services  married  high.school       no     yes   no        1   may   \n",
       "3   40     admin.  married     basic.6y       no      no   no        1   may   \n",
       "4   56   services  married  high.school       no      no  yes        1   may   \n",
       "\n",
       "  day_of_week  ...  pdays  previous     poutcome  emp.var.rate cons.price.idx  \\\n",
       "0         mon  ...    999         0  nonexistent           1.1         93.994   \n",
       "1         mon  ...    999         0  nonexistent           1.1         93.994   \n",
       "2         mon  ...    999         0  nonexistent           1.1         93.994   \n",
       "3         mon  ...    999         0  nonexistent           1.1         93.994   \n",
       "4         mon  ...    999         0  nonexistent           1.1         93.994   \n",
       "\n",
       "   cons.conf.idx  euribor3m  nr.employed  y  pdays_no_contact  \n",
       "0          -36.4      4.857       5191.0  0                 1  \n",
       "1          -36.4      4.857       5191.0  0                 1  \n",
       "2          -36.4      4.857       5191.0  0                 1  \n",
       "3          -36.4      4.857       5191.0  0                 1  \n",
       "4          -36.4      4.857       5191.0  0                 1  \n",
       "\n",
       "[5 rows x 22 columns]"
      ]
     },
     "execution_count": 6,
     "metadata": {},
     "output_type": "execute_result"
    }
   ],
   "source": [
    "data.head()"
   ]
  },
  {
   "cell_type": "markdown",
   "metadata": {},
   "source": [
    "Nota: foi criado uma coluna adicional pdays_no_contact e a coluna contact ficou binária, cellular=0, telephone=1. A variável dependente y ficou binária também 0 (no) e 1 (yes), i.e. não e sim para a subscrição à campanha de venda de depósito a prazo."
   ]
  },
  {
   "cell_type": "code",
   "execution_count": 10,
   "metadata": {},
   "outputs": [
    {
     "data": {
      "text/plain": [
       "(41188, 55)"
      ]
     },
     "execution_count": 10,
     "metadata": {},
     "output_type": "execute_result"
    }
   ],
   "source": [
    "df=pd.get_dummies(data,columns=['job','marital','education','default','housing','loan',\n",
    "                                  'month','day_of_week','poutcome'], drop_first=True)\n",
    "\n",
    "df.shape"
   ]
  },
  {
   "cell_type": "code",
   "execution_count": 8,
   "metadata": {},
   "outputs": [
    {
     "name": "stdout",
     "output_type": "stream",
     "text": [
      "<class 'pandas.core.frame.DataFrame'>\n",
      "Int64Index: 41188 entries, 0 to 41187\n",
      "Data columns (total 55 columns):\n",
      " #   Column                         Non-Null Count  Dtype  \n",
      "---  ------                         --------------  -----  \n",
      " 0   age                            41188 non-null  int64  \n",
      " 1   contact                        41188 non-null  int64  \n",
      " 2   duration                       41188 non-null  int64  \n",
      " 3   campaign                       41188 non-null  int64  \n",
      " 4   pdays                          41188 non-null  int64  \n",
      " 5   previous                       41188 non-null  int64  \n",
      " 6   emp.var.rate                   41188 non-null  float64\n",
      " 7   cons.price.idx                 41188 non-null  float64\n",
      " 8   cons.conf.idx                  41188 non-null  float64\n",
      " 9   euribor3m                      41188 non-null  float64\n",
      " 10  nr.employed                    41188 non-null  float64\n",
      " 11  y                              41188 non-null  object \n",
      " 12  pdays_no_contact               41188 non-null  int32  \n",
      " 13  job_blue-collar                41188 non-null  uint8  \n",
      " 14  job_entrepreneur               41188 non-null  uint8  \n",
      " 15  job_housemaid                  41188 non-null  uint8  \n",
      " 16  job_management                 41188 non-null  uint8  \n",
      " 17  job_retired                    41188 non-null  uint8  \n",
      " 18  job_self-employed              41188 non-null  uint8  \n",
      " 19  job_services                   41188 non-null  uint8  \n",
      " 20  job_student                    41188 non-null  uint8  \n",
      " 21  job_technician                 41188 non-null  uint8  \n",
      " 22  job_unemployed                 41188 non-null  uint8  \n",
      " 23  job_unknown                    41188 non-null  uint8  \n",
      " 24  marital_married                41188 non-null  uint8  \n",
      " 25  marital_single                 41188 non-null  uint8  \n",
      " 26  marital_unknown                41188 non-null  uint8  \n",
      " 27  education_basic.6y             41188 non-null  uint8  \n",
      " 28  education_basic.9y             41188 non-null  uint8  \n",
      " 29  education_high.school          41188 non-null  uint8  \n",
      " 30  education_illiterate           41188 non-null  uint8  \n",
      " 31  education_professional.course  41188 non-null  uint8  \n",
      " 32  education_university.degree    41188 non-null  uint8  \n",
      " 33  education_unknown              41188 non-null  uint8  \n",
      " 34  default_unknown                41188 non-null  uint8  \n",
      " 35  default_yes                    41188 non-null  uint8  \n",
      " 36  housing_unknown                41188 non-null  uint8  \n",
      " 37  housing_yes                    41188 non-null  uint8  \n",
      " 38  loan_unknown                   41188 non-null  uint8  \n",
      " 39  loan_yes                       41188 non-null  uint8  \n",
      " 40  month_aug                      41188 non-null  uint8  \n",
      " 41  month_dec                      41188 non-null  uint8  \n",
      " 42  month_jul                      41188 non-null  uint8  \n",
      " 43  month_jun                      41188 non-null  uint8  \n",
      " 44  month_mar                      41188 non-null  uint8  \n",
      " 45  month_may                      41188 non-null  uint8  \n",
      " 46  month_nov                      41188 non-null  uint8  \n",
      " 47  month_oct                      41188 non-null  uint8  \n",
      " 48  month_sep                      41188 non-null  uint8  \n",
      " 49  day_of_week_mon                41188 non-null  uint8  \n",
      " 50  day_of_week_thu                41188 non-null  uint8  \n",
      " 51  day_of_week_tue                41188 non-null  uint8  \n",
      " 52  day_of_week_wed                41188 non-null  uint8  \n",
      " 53  poutcome_nonexistent           41188 non-null  uint8  \n",
      " 54  poutcome_success               41188 non-null  uint8  \n",
      "dtypes: float64(5), int32(1), int64(6), object(1), uint8(42)\n",
      "memory usage: 5.9+ MB\n"
     ]
    }
   ],
   "source": [
    "df.info()"
   ]
  },
  {
   "cell_type": "code",
   "execution_count": 11,
   "metadata": {},
   "outputs": [
    {
     "data": {
      "text/html": [
       "<div>\n",
       "<style scoped>\n",
       "    .dataframe tbody tr th:only-of-type {\n",
       "        vertical-align: middle;\n",
       "    }\n",
       "\n",
       "    .dataframe tbody tr th {\n",
       "        vertical-align: top;\n",
       "    }\n",
       "\n",
       "    .dataframe thead th {\n",
       "        text-align: right;\n",
       "    }\n",
       "</style>\n",
       "<table border=\"1\" class=\"dataframe\">\n",
       "  <thead>\n",
       "    <tr style=\"text-align: right;\">\n",
       "      <th></th>\n",
       "      <th>age</th>\n",
       "      <th>contact</th>\n",
       "      <th>duration</th>\n",
       "      <th>campaign</th>\n",
       "      <th>pdays</th>\n",
       "      <th>previous</th>\n",
       "      <th>emp.var.rate</th>\n",
       "      <th>cons.price.idx</th>\n",
       "      <th>cons.conf.idx</th>\n",
       "      <th>euribor3m</th>\n",
       "      <th>...</th>\n",
       "      <th>month_may</th>\n",
       "      <th>month_nov</th>\n",
       "      <th>month_oct</th>\n",
       "      <th>month_sep</th>\n",
       "      <th>day_of_week_mon</th>\n",
       "      <th>day_of_week_thu</th>\n",
       "      <th>day_of_week_tue</th>\n",
       "      <th>day_of_week_wed</th>\n",
       "      <th>poutcome_nonexistent</th>\n",
       "      <th>poutcome_success</th>\n",
       "    </tr>\n",
       "  </thead>\n",
       "  <tbody>\n",
       "    <tr>\n",
       "      <th>0</th>\n",
       "      <td>56</td>\n",
       "      <td>1</td>\n",
       "      <td>261</td>\n",
       "      <td>1</td>\n",
       "      <td>999</td>\n",
       "      <td>0</td>\n",
       "      <td>1.1</td>\n",
       "      <td>93.994</td>\n",
       "      <td>-36.4</td>\n",
       "      <td>4.857</td>\n",
       "      <td>...</td>\n",
       "      <td>1</td>\n",
       "      <td>0</td>\n",
       "      <td>0</td>\n",
       "      <td>0</td>\n",
       "      <td>1</td>\n",
       "      <td>0</td>\n",
       "      <td>0</td>\n",
       "      <td>0</td>\n",
       "      <td>1</td>\n",
       "      <td>0</td>\n",
       "    </tr>\n",
       "    <tr>\n",
       "      <th>1</th>\n",
       "      <td>57</td>\n",
       "      <td>1</td>\n",
       "      <td>149</td>\n",
       "      <td>1</td>\n",
       "      <td>999</td>\n",
       "      <td>0</td>\n",
       "      <td>1.1</td>\n",
       "      <td>93.994</td>\n",
       "      <td>-36.4</td>\n",
       "      <td>4.857</td>\n",
       "      <td>...</td>\n",
       "      <td>1</td>\n",
       "      <td>0</td>\n",
       "      <td>0</td>\n",
       "      <td>0</td>\n",
       "      <td>1</td>\n",
       "      <td>0</td>\n",
       "      <td>0</td>\n",
       "      <td>0</td>\n",
       "      <td>1</td>\n",
       "      <td>0</td>\n",
       "    </tr>\n",
       "    <tr>\n",
       "      <th>2</th>\n",
       "      <td>37</td>\n",
       "      <td>1</td>\n",
       "      <td>226</td>\n",
       "      <td>1</td>\n",
       "      <td>999</td>\n",
       "      <td>0</td>\n",
       "      <td>1.1</td>\n",
       "      <td>93.994</td>\n",
       "      <td>-36.4</td>\n",
       "      <td>4.857</td>\n",
       "      <td>...</td>\n",
       "      <td>1</td>\n",
       "      <td>0</td>\n",
       "      <td>0</td>\n",
       "      <td>0</td>\n",
       "      <td>1</td>\n",
       "      <td>0</td>\n",
       "      <td>0</td>\n",
       "      <td>0</td>\n",
       "      <td>1</td>\n",
       "      <td>0</td>\n",
       "    </tr>\n",
       "    <tr>\n",
       "      <th>3</th>\n",
       "      <td>40</td>\n",
       "      <td>1</td>\n",
       "      <td>151</td>\n",
       "      <td>1</td>\n",
       "      <td>999</td>\n",
       "      <td>0</td>\n",
       "      <td>1.1</td>\n",
       "      <td>93.994</td>\n",
       "      <td>-36.4</td>\n",
       "      <td>4.857</td>\n",
       "      <td>...</td>\n",
       "      <td>1</td>\n",
       "      <td>0</td>\n",
       "      <td>0</td>\n",
       "      <td>0</td>\n",
       "      <td>1</td>\n",
       "      <td>0</td>\n",
       "      <td>0</td>\n",
       "      <td>0</td>\n",
       "      <td>1</td>\n",
       "      <td>0</td>\n",
       "    </tr>\n",
       "    <tr>\n",
       "      <th>4</th>\n",
       "      <td>56</td>\n",
       "      <td>1</td>\n",
       "      <td>307</td>\n",
       "      <td>1</td>\n",
       "      <td>999</td>\n",
       "      <td>0</td>\n",
       "      <td>1.1</td>\n",
       "      <td>93.994</td>\n",
       "      <td>-36.4</td>\n",
       "      <td>4.857</td>\n",
       "      <td>...</td>\n",
       "      <td>1</td>\n",
       "      <td>0</td>\n",
       "      <td>0</td>\n",
       "      <td>0</td>\n",
       "      <td>1</td>\n",
       "      <td>0</td>\n",
       "      <td>0</td>\n",
       "      <td>0</td>\n",
       "      <td>1</td>\n",
       "      <td>0</td>\n",
       "    </tr>\n",
       "  </tbody>\n",
       "</table>\n",
       "<p>5 rows × 55 columns</p>\n",
       "</div>"
      ],
      "text/plain": [
       "   age  contact  duration  campaign  pdays  previous  emp.var.rate  \\\n",
       "0   56        1       261         1    999         0           1.1   \n",
       "1   57        1       149         1    999         0           1.1   \n",
       "2   37        1       226         1    999         0           1.1   \n",
       "3   40        1       151         1    999         0           1.1   \n",
       "4   56        1       307         1    999         0           1.1   \n",
       "\n",
       "   cons.price.idx  cons.conf.idx  euribor3m  ...  month_may month_nov  \\\n",
       "0          93.994          -36.4      4.857  ...          1         0   \n",
       "1          93.994          -36.4      4.857  ...          1         0   \n",
       "2          93.994          -36.4      4.857  ...          1         0   \n",
       "3          93.994          -36.4      4.857  ...          1         0   \n",
       "4          93.994          -36.4      4.857  ...          1         0   \n",
       "\n",
       "   month_oct  month_sep  day_of_week_mon  day_of_week_thu  day_of_week_tue  \\\n",
       "0          0          0                1                0                0   \n",
       "1          0          0                1                0                0   \n",
       "2          0          0                1                0                0   \n",
       "3          0          0                1                0                0   \n",
       "4          0          0                1                0                0   \n",
       "\n",
       "   day_of_week_wed  poutcome_nonexistent  poutcome_success  \n",
       "0                0                     1                 0  \n",
       "1                0                     1                 0  \n",
       "2                0                     1                 0  \n",
       "3                0                     1                 0  \n",
       "4                0                     1                 0  \n",
       "\n",
       "[5 rows x 55 columns]"
      ]
     },
     "execution_count": 11,
     "metadata": {},
     "output_type": "execute_result"
    }
   ],
   "source": [
    "df.head()"
   ]
  },
  {
   "cell_type": "markdown",
   "metadata": {},
   "source": [
    "Nota: variáveis categóricas foram transformadas em binárias"
   ]
  },
  {
   "cell_type": "markdown",
   "metadata": {},
   "source": [
    "### 2.4 Balanceamento de amostras com o algoritmo SMOTE (Synthetic Minority Oversampling Technique).\n",
    "\n",
    "O SMOTE opera na criação de amostras sintéticas da classe menor (no-subscription) em vez de criar cópias.\n",
    "\n",
    "O mesmo escolhe de forma aleatória o k-nearest-neighbors e com a qual se cria uma cópia similar, mas com novas observações.\n",
    "\n",
    "Se implementa o SMOTE da seguinte forma:\n",
    "\n",
    "conda install -c conda-forge imbalanced-learn\n",
    "\n",
    "conda update --all"
   ]
  },
  {
   "cell_type": "code",
   "execution_count": 14,
   "metadata": {},
   "outputs": [],
   "source": [
    "X = df.loc[:, df.columns != 'y']\n",
    "y = df.loc[:, df.columns == 'y']\n",
    "from imblearn.over_sampling import SMOTE\n",
    "os = SMOTE(random_state=0)\n",
    "X_train, X_test, y_train, y_test = train_test_split(X, y, test_size=0.1, random_state=0)\n",
    "columns = X_train.columns"
   ]
  },
  {
   "cell_type": "code",
   "execution_count": 15,
   "metadata": {},
   "outputs": [
    {
     "name": "stdout",
     "output_type": "stream",
     "text": [
      "length of oversampled data for training is  65766\n",
      "Number of no subscription in oversampled data for training 32883\n",
      "Number of subscription for training 32883\n",
      "Proportion of no subscription data in oversampled data for trainining is  0.5\n",
      "Proportion of subscription data in oversampled data for training is  0.5\n",
      " \n",
      "length of oversampled data for test is  7330\n",
      "Number of no subscription in oversampled data for test 3665\n",
      "Number of subscription for test 3665\n",
      "Proportion of no subscription data in oversampled data for test is  0.5\n",
      "Proportion of subscription data in oversampled data for test is  0.5\n",
      " \n"
     ]
    }
   ],
   "source": [
    "os_data_X,os_data_y=os.fit_sample(X_train, y_train.astype(int))\n",
    "os_data_X = pd.DataFrame(data=os_data_X,columns=columns )\n",
    "os_data_y= pd.DataFrame(data=os_data_y,columns=['y'])\n",
    "# we can Check the numbers of our data\n",
    "print(\"length of oversampled data for training is \",len(os_data_X))\n",
    "print(\"Number of no subscription in oversampled data for training\",len(os_data_y[os_data_y['y']==0]))\n",
    "print(\"Number of subscription for training\",len(os_data_y[os_data_y['y']==1]))\n",
    "print(\"Proportion of no subscription data in oversampled data for trainining is \",\n",
    "      len(os_data_y[os_data_y['y']==0])/len(os_data_X))\n",
    "print(\"Proportion of subscription data in oversampled data for training is \",\n",
    "      len(os_data_y[os_data_y['y']==1])/len(os_data_X))\n",
    "print(\" \")\n",
    "os_test_X,os_test_y=os.fit_sample(X_test, y_test.astype(int))\n",
    "os_test_X = pd.DataFrame(data=os_test_X,columns=columns )\n",
    "os_test_y= pd.DataFrame(data=os_test_y,columns=['y'])\n",
    "# we can Check the numbers of our data\n",
    "print(\"length of oversampled data for test is \",len(os_test_X))\n",
    "print(\"Number of no subscription in oversampled data for test\",len(os_test_y[os_test_y['y']==0]))\n",
    "print(\"Number of subscription for test\",len(os_test_y[os_test_y['y']==1]))\n",
    "print(\"Proportion of no subscription data in oversampled data for test is \",\n",
    "      len(os_test_y[os_test_y['y']==0])/len(os_test_X))\n",
    "print(\"Proportion of subscription data in oversampled data for test is \",\n",
    "      len(os_test_y[os_test_y['y']==1])/len(os_test_X))\n",
    "print(\" \")"
   ]
  },
  {
   "cell_type": "markdown",
   "metadata": {},
   "source": [
    "Nota: A proporção de amostras com subscrição ao deposito à prazo é equivalente à da amostra com sem subscrição. 90% da amostra é deixada para treinamento e 10% para teste."
   ]
  },
  {
   "cell_type": "markdown",
   "metadata": {},
   "source": [
    "### 2.5 Normalização dos dados"
   ]
  },
  {
   "cell_type": "code",
   "execution_count": 16,
   "metadata": {},
   "outputs": [],
   "source": [
    "from sklearn.preprocessing import StandardScaler\n",
    "sc=StandardScaler()\n",
    "X_training=sc.fit_transform(os_data_X)\n",
    "X_testing=sc.transform(os_test_X)"
   ]
  },
  {
   "cell_type": "markdown",
   "metadata": {},
   "source": [
    "## 3. Treinando os dados\n",
    "\n",
    "### 3.1 Obtenção do Modelo - Cross validation test (CRV)"
   ]
  },
  {
   "cell_type": "code",
   "execution_count": 44,
   "metadata": {},
   "outputs": [
    {
     "name": "stdout",
     "output_type": "stream",
     "text": [
      "CRV test - Accuracy:  0.936426116838488\n"
     ]
    }
   ],
   "source": [
    "from sklearn.linear_model import LogisticRegression\n",
    "clf = LogisticRegression()\n",
    "clf.fit(X_training,os_data_y)\n",
    "print('CRV test - Accuracy: ',clf.score(X_training,os_data_y))"
   ]
  },
  {
   "cell_type": "markdown",
   "metadata": {},
   "source": [
    "### 3.2 Obtenção da Matriz de Confusão"
   ]
  },
  {
   "cell_type": "code",
   "execution_count": 37,
   "metadata": {},
   "outputs": [],
   "source": [
    "def plot_confusion_matrix(cm, classes,\n",
    "                          normalize=False,\n",
    "                          title='Confusion matrix',\n",
    "                          cmap=plt.cm.Blues):\n",
    "   \n",
    "    if normalize:\n",
    "        cm = cm.astype('float') / cm.sum(axis=1)[:, np.newaxis]\n",
    "        print(\"Normalized confusion matrix\")\n",
    "    else:\n",
    "        print('Confusion matrix, without normalization')\n",
    "    #plt.figure(figsize=(10,10))\n",
    "    plt.imshow(cm, interpolation='nearest', cmap=cmap)\n",
    "    plt.title(title)\n",
    "    plt.colorbar()\n",
    "    tick_marks = np.arange(len(classes))\n",
    "    plt.xticks(tick_marks, classes, rotation=45)\n",
    "    plt.yticks(tick_marks, classes)\n",
    "\n",
    "    fmt = '.2f' if normalize else 'd'\n",
    "    thresh = cm.max() / 2.\n",
    "\n",
    "    for i in range(0, cm.shape[0]):\n",
    "        for j in range(0, cm.shape[1]):\n",
    "            if(cm[i, j]>2500):\n",
    "                plt.text(j, i, format(cm[i, j], fmt),\n",
    "                         horizontalalignment=\"center\", color=\"white\")\n",
    "                         #color=\"black\" if cm[i, j] > thresh else \"black\")\n",
    "            else:\n",
    "                plt.text(j, i, format(cm[i, j], fmt),\n",
    "                         horizontalalignment=\"center\", color=\"black\")\n",
    "                         #color=\"black\" if cm[i, j] > thresh else \"black\")\n",
    "\n",
    "    plt.tight_layout()\n",
    "    plt.ylabel('Actual Data')\n",
    "    plt.xlabel('Predicted Data')"
   ]
  },
  {
   "cell_type": "code",
   "execution_count": 27,
   "metadata": {},
   "outputs": [
    {
     "data": {
      "text/plain": [
       "array([[31008,  1875],\n",
       "       [ 2306, 30577]], dtype=int64)"
      ]
     },
     "execution_count": 27,
     "metadata": {},
     "output_type": "execute_result"
    }
   ],
   "source": [
    "y_pred = clf.predict(X_training)\n",
    "from sklearn.metrics import confusion_matrix\n",
    "cm = confusion_matrix(os_data_y,y_pred)\n",
    "cm"
   ]
  },
  {
   "cell_type": "code",
   "execution_count": 38,
   "metadata": {},
   "outputs": [
    {
     "name": "stdout",
     "output_type": "stream",
     "text": [
      "Confusion matrix, without normalization\n"
     ]
    },
    {
     "data": {
      "image/png": "[encoded data removed]",
      "text/plain": [
       "<Figure size 432x288 with 2 Axes>"
      ]
     },
     "metadata": {},
     "output_type": "display_data"
    }
   ],
   "source": [
    "classes = ['no', 'yes']\n",
    "plot_confusion_matrix(cm,classes=classes, normalize=False,title='Confusion Matrix')"
   ]
  },
  {
   "cell_type": "markdown",
   "metadata": {},
   "source": [
    "Nota: As respostas corretas TP (verdadeiro positivo, yes-yes) e TN (verdadeiro negativo, no-no), azul escuro, compõem a maior parte das respostas. As respostas erradas FP (falso positivo, no-yes) e FN (falso negativo, yes-no) compõem a menor parte das respostas.\n",
    "\n",
    "## 3.3 CRV: Classification"
   ]
  },
  {
   "cell_type": "code",
   "execution_count": 39,
   "metadata": {},
   "outputs": [
    {
     "name": "stdout",
     "output_type": "stream",
     "text": [
      "              precision    recall  f1-score   support\n",
      "\n",
      "           0       0.93      0.94      0.94     32883\n",
      "           1       0.94      0.93      0.94     32883\n",
      "\n",
      "    accuracy                           0.94     65766\n",
      "   macro avg       0.94      0.94      0.94     65766\n",
      "weighted avg       0.94      0.94      0.94     65766\n",
      "\n"
     ]
    }
   ],
   "source": [
    "from sklearn.metrics import classification_report\n",
    "print(classification_report(os_data_y.astype(int), y_pred.astype(int)))"
   ]
  },
  {
   "cell_type": "markdown",
   "metadata": {},
   "source": [
    "Nota: Valores acima de 0.90 mostra no precision, recall e f1-score mostra um alto grau de ajuste.\n",
    "    \n",
    "## 3.4 CRV: ROC "
   ]
  },
  {
   "cell_type": "code",
   "execution_count": 40,
   "metadata": {},
   "outputs": [
    {
     "data": {
      "image/png": "[encoded data removed]",
      "text/plain": [
       "<Figure size 432x288 with 1 Axes>"
      ]
     },
     "metadata": {},
     "output_type": "display_data"
    }
   ],
   "source": [
    "from sklearn.metrics import roc_auc_score\n",
    "from sklearn.metrics import roc_curve\n",
    "logit_roc_auc = roc_auc_score(os_data_y.astype(int), clf.predict(X_training.astype(int)))\n",
    "fpr, tpr, thresholds = roc_curve(os_data_y.astype(int), clf.predict_proba(X_training.astype(int))[:,1])\n",
    "plt.figure()\n",
    "plt.plot(fpr, tpr, label='Logistic Regression (area = %0.2f)' % logit_roc_auc)\n",
    "plt.plot([0, 1], [0, 1],'r--')\n",
    "plt.xlim([0.0, 1.0])\n",
    "plt.ylim([0.0, 1.05])\n",
    "plt.xlabel('False Positive Rate')\n",
    "plt.ylabel('True Positive Rate')\n",
    "plt.title('Receiver operating characteristic')\n",
    "plt.legend(loc=\"lower right\")\n",
    "plt.savefig('Log_ROC')\n",
    "plt.show()"
   ]
  },
  {
   "cell_type": "markdown",
   "metadata": {},
   "source": [
    "## 3.5 CRV: AUC"
   ]
  },
  {
   "cell_type": "code",
   "execution_count": 42,
   "metadata": {},
   "outputs": [
    {
     "name": "stdout",
     "output_type": "stream",
     "text": [
      "No Skill: ROC AUC=0.500\n",
      "Logistic: ROC AUC=0.894\n"
     ]
    }
   ],
   "source": [
    "lr_probs=clf.predict_proba(X_training.astype(int))\n",
    "ns_probs = [0 for _ in range(len(os_data_y))]\n",
    "lr_probs=lr_probs[:, 1]\n",
    "# calculate scores\n",
    "ns_auc = roc_auc_score(os_data_y.astype(int), ns_probs)\n",
    "lr_auc = roc_auc_score(os_data_y.astype(int), lr_probs)\n",
    "# summarize scores\n",
    "print('No Skill: ROC AUC=%.3f' % (ns_auc))\n",
    "print('Logistic: ROC AUC=%.3f' % (lr_auc))"
   ]
  },
  {
   "cell_type": "markdown",
   "metadata": {},
   "source": [
    "# 4. Testando o Modelo\n",
    "\n",
    "## 4.1 Aquisição e verificação dos dados para teste\n",
    "\n",
    "Já realizado no capítulo 1."
   ]
  },
  {
   "cell_type": "markdown",
   "metadata": {},
   "source": [
    "## 4.2 Preparação dos dados\n",
    "\n",
    "Já realizado no capítulo 2."
   ]
  },
  {
   "cell_type": "markdown",
   "metadata": {},
   "source": [
    "## 4.3 Criação de variáveis dummy\n",
    "\n",
    "Já realizado no capítulo 2.3"
   ]
  },
  {
   "cell_type": "markdown",
   "metadata": {},
   "source": [
    "## 4.4 Separação da variável dependente (y) e variáveis independentes (X)\n",
    "Já realizado no capítulo 2.4"
   ]
  },
  {
   "cell_type": "markdown",
   "metadata": {},
   "source": [
    "## 4.5 Normalização dos dados\n",
    "Já realizado no capítulo 2.5"
   ]
  },
  {
   "cell_type": "markdown",
   "metadata": {},
   "source": [
    "## 4.6 Aplicação do modelo \n",
    "Já realizado parcialmente no capítulo 3.1"
   ]
  },
  {
   "cell_type": "code",
   "execution_count": 46,
   "metadata": {},
   "outputs": [
    {
     "name": "stdout",
     "output_type": "stream",
     "text": [
      "Test Accuracy:  0.9481582537517054\n"
     ]
    }
   ],
   "source": [
    "clf.fit(X_testing,os_test_y)\n",
    "print(\"Test Accuracy: \", clf.score(X_testing, os_test_y))"
   ]
  },
  {
   "cell_type": "markdown",
   "metadata": {},
   "source": [
    "## 4.7 Aplicação da Matriz de Confusão"
   ]
  },
  {
   "cell_type": "code",
   "execution_count": 48,
   "metadata": {},
   "outputs": [
    {
     "data": {
      "text/plain": [
       "array([[3507,  158],\n",
       "       [ 222, 3443]], dtype=int64)"
      ]
     },
     "execution_count": 48,
     "metadata": {},
     "output_type": "execute_result"
    }
   ],
   "source": [
    "y2_pred = clf.predict(X_testing)\n",
    "from sklearn.metrics import confusion_matrix\n",
    "cm2 = confusion_matrix(os_test_y.astype(int),y2_pred.astype(int))\n",
    "cm2"
   ]
  },
  {
   "cell_type": "code",
   "execution_count": 49,
   "metadata": {},
   "outputs": [
    {
     "name": "stdout",
     "output_type": "stream",
     "text": [
      "Confusion matrix, without normalization\n"
     ]
    },
    {
     "data": {
      "image/png": "[encoded data removed]",
      "text/plain": [
       "<Figure size 432x288 with 2 Axes>"
      ]
     },
     "metadata": {},
     "output_type": "display_data"
    }
   ],
   "source": [
    "classes = ['no', 'yes']\n",
    "plot_confusion_matrix(cm2, classes=classes, normalize=False,title='Confusion Matrix')"
   ]
  },
  {
   "cell_type": "markdown",
   "metadata": {},
   "source": [
    "Nota: Valores na matriz de confusão mostra-se bastante equilibrada."
   ]
  },
  {
   "cell_type": "markdown",
   "metadata": {},
   "source": [
    "## 4.8 Classificação"
   ]
  },
  {
   "cell_type": "code",
   "execution_count": 50,
   "metadata": {},
   "outputs": [
    {
     "name": "stdout",
     "output_type": "stream",
     "text": [
      "              precision    recall  f1-score   support\n",
      "\n",
      "           0       0.94      0.96      0.95      3665\n",
      "           1       0.96      0.94      0.95      3665\n",
      "\n",
      "    accuracy                           0.95      7330\n",
      "   macro avg       0.95      0.95      0.95      7330\n",
      "weighted avg       0.95      0.95      0.95      7330\n",
      "\n"
     ]
    }
   ],
   "source": [
    "from sklearn.metrics import classification_report\n",
    "print(classification_report(os_test_y.astype(int), y2_pred.astype(int)))"
   ]
  },
  {
   "cell_type": "markdown",
   "metadata": {},
   "source": [
    "Nota: Praticamente todos os índices foram maiores que 90%. Isso mostra que o modelo de predição está bem ajustado."
   ]
  },
  {
   "cell_type": "markdown",
   "metadata": {},
   "source": [
    "## 4.9 Curva ROC "
   ]
  },
  {
   "cell_type": "code",
   "execution_count": 51,
   "metadata": {},
   "outputs": [
    {
     "data": {
      "image/png": "[encoded data removed]",
      "text/plain": [
       "<Figure size 432x288 with 1 Axes>"
      ]
     },
     "metadata": {},
     "output_type": "display_data"
    }
   ],
   "source": [
    "from sklearn.metrics import roc_auc_score\n",
    "from sklearn.metrics import roc_curve\n",
    "logit_roc_auc2 = roc_auc_score(os_test_y.astype(int), clf.predict(X_testing.astype(int)))\n",
    "fpr2, tpr2, thresholds2 = roc_curve(os_test_y.astype(int), clf.predict_proba(X_testing.astype(int))[:,1])\n",
    "plt.figure()\n",
    "plt.plot(fpr, tpr, label='Logistic Regression (area = %0.2f)' % logit_roc_auc2)\n",
    "plt.plot([0, 1], [0, 1],'r--')\n",
    "plt.xlim([0.0, 1.0])\n",
    "plt.ylim([0.0, 1.05])\n",
    "plt.xlabel('False Positive Rate')\n",
    "plt.ylabel('True Positive Rate')\n",
    "plt.title('Receiver operating characteristic')\n",
    "plt.legend(loc=\"lower right\")\n",
    "plt.savefig('Log_ROC')\n",
    "plt.show()"
   ]
  },
  {
   "cell_type": "markdown",
   "metadata": {},
   "source": [
    "## 4.10 Cálculo do AUC"
   ]
  },
  {
   "cell_type": "code",
   "execution_count": 52,
   "metadata": {},
   "outputs": [
    {
     "name": "stdout",
     "output_type": "stream",
     "text": [
      "No Skill: ROC AUC=0.500\n",
      "Logistic: ROC AUC=0.950\n"
     ]
    }
   ],
   "source": [
    "lr_probs1=clf.predict_proba(X_testing.astype(int))\n",
    "ns_probs1 = [0 for _ in range(len(os_test_y))]\n",
    "lr_probs1=lr_probs1[:, 1]\n",
    "# calculate scores\n",
    "ns_auc1 = roc_auc_score(os_test_y.astype(int), ns_probs1)\n",
    "lr_auc1 = roc_auc_score(os_test_y.astype(int), lr_probs1)\n",
    "# summarize scores\n",
    "print('No Skill: ROC AUC=%.3f' % (ns_auc1))\n",
    "print('Logistic: ROC AUC=%.3f' % (lr_auc1))"
   ]
  },
  {
   "cell_type": "markdown",
   "metadata": {},
   "source": [
    "Note: AUC maior que .9 mostra que o modelo está bem ajustado."
   ]
  },
  {
   "cell_type": "markdown",
   "metadata": {},
   "source": [
    "## 4.11 Análise de componentes principais"
   ]
  },
  {
   "cell_type": "code",
   "execution_count": 53,
   "metadata": {},
   "outputs": [
    {
     "data": {
      "text/plain": [
       "array([[ 4.45697071e-02, -5.19382107e-01,  2.01002232e+00,\n",
       "        -1.41388349e-01, -2.24427265e-01, -4.38927842e-01,\n",
       "        -1.46446202e+00,  9.99594405e-02,  3.13080213e-01,\n",
       "         2.13831419e+00, -1.90079433e+00, -1.40582130e-01,\n",
       "        -7.21300330e-01, -3.17029535e-01, -3.83388435e-01,\n",
       "        -3.48148132e-01, -2.52876805e-01, -2.17837484e-01,\n",
       "        -1.81396991e-01, -9.50097046e-02, -1.60725286e-01,\n",
       "        -1.03134596e-01, -1.25353555e-01, -4.84635517e-01,\n",
       "        -3.92328614e-01, -2.28925255e-01, -3.63374445e-01,\n",
       "        -5.43291321e-01, -8.71292855e-01,  1.23582477e-01,\n",
       "        -5.77334025e-01, -8.58213389e-01, -3.60904734e-01,\n",
       "        -3.56260762e-01, -2.42170631e-04, -6.35694594e-02,\n",
       "        -2.75462153e-01, -6.35694594e-02, -1.45008373e-01,\n",
       "        -4.04603692e-01, -9.71390290e-02, -3.45511230e-01,\n",
       "        -3.24557134e-01,  5.97314172e-02, -6.94009275e-01,\n",
       "        -5.22718900e-01, -2.96941947e-01, -3.29808732e-01,\n",
       "        -4.99121859e-01, -5.96180132e-01, -4.95755578e-01,\n",
       "        -4.24491393e-01, -1.28645599e-01,  3.78128808e-01]])"
      ]
     },
     "execution_count": 53,
     "metadata": {},
     "output_type": "execute_result"
    }
   ],
   "source": [
    "clf.coef_"
   ]
  },
  {
   "cell_type": "markdown",
   "metadata": {},
   "source": [
    "Nota: Logistic Regression nativamente não traz informações sobre pValue, assim\n",
    "não é possível avaliar a importância das features. No entanto, o pacote estatístico statsmodels\n",
    "pode listar o pValue das variáveis."
   ]
  },
  {
   "cell_type": "code",
   "execution_count": 55,
   "metadata": {},
   "outputs": [
    {
     "name": "stdout",
     "output_type": "stream",
     "text": [
      "Warning: Maximum number of iterations has been exceeded.\n",
      "         Current function value: 0.331799\n",
      "         Iterations: 35\n",
      "                         Results: Logit\n",
      "=================================================================\n",
      "Model:              Logit            Pseudo R-squared: 0.521     \n",
      "Dependent Variable: y                AIC:              43746.1328\n",
      "Date:               2020-07-27 20:42 BIC:              44219.0135\n",
      "No. Observations:   65766            Log-Likelihood:   -21821.   \n",
      "Df Model:           51               LL-Null:          -45586.   \n",
      "Df Residuals:       65714            LLR p-value:      0.0000    \n",
      "Converged:          0.0000           Scale:            1.0000    \n",
      "No. Iterations:     35.0000                                      \n",
      "-----------------------------------------------------------------\n",
      "       Coef.   Std.Err.     z     P>|z|     [0.025       0.975]  \n",
      "-----------------------------------------------------------------\n",
      "x1     0.0524     0.0221   2.3769 0.0175       0.0092      0.0957\n",
      "x2    -0.2484     0.0450  -5.5192 0.0000      -0.3366     -0.1602\n",
      "x3     2.6711     0.0380  70.3286 0.0000       2.5967      2.7456\n",
      "x4    -0.1489     0.0261  -5.6977 0.0000      -0.2001     -0.0977\n",
      "x5    -0.7177        nan      nan    nan          nan         nan\n",
      "x6    -0.7386     0.0281 -26.3017 0.0000      -0.7937     -0.6836\n",
      "x7     0.2740     0.0488   5.6172 0.0000       0.1784      0.3697\n",
      "x8    -0.4901     0.0516  -9.4958 0.0000      -0.5912     -0.3889\n",
      "x9    -0.5013     0.0243 -20.6545 0.0000      -0.5488     -0.4537\n",
      "x10   -0.6084     0.0470 -12.9356 0.0000      -0.7006     -0.5162\n",
      "x11   -0.6250     0.0618 -10.1064 0.0000      -0.7462     -0.5038\n",
      "x12   -0.7393        nan      nan    nan          nan         nan\n",
      "x13   -0.6697     0.0199 -33.5892 0.0000      -0.7088     -0.6307\n",
      "x14   -0.2627     0.0151 -17.3983 0.0000      -0.2922     -0.2331\n",
      "x15   -0.2308     0.0158 -14.6066 0.0000      -0.2617     -0.1998\n",
      "x16   -0.3408     0.0354  -9.6398 0.0000      -0.4101     -0.2715\n",
      "x17   -0.0740     0.0172  -4.2892 0.0000      -0.1078     -0.0402\n",
      "x18   -0.2599     0.0158 -16.4068 0.0000      -0.2910     -0.2289\n",
      "x19   -0.3236     0.0157 -20.6287 0.0000      -0.3543     -0.2928\n",
      "x20   -0.0550     0.0128  -4.2959 0.0000      -0.0801     -0.0299\n",
      "x21   -0.4656        nan      nan    nan          nan         nan\n",
      "x22   -0.1829     0.0147 -12.4302 0.0000      -0.2117     -0.1540\n",
      "x23   -0.1045     0.0153  -6.8101 0.0000      -0.1345     -0.0744\n",
      "x24    0.8714     0.0349  24.9613 0.0000       0.8030      0.9399\n",
      "x25    0.7763     0.0356  21.8116 0.0000       0.7066      0.8461\n",
      "x26   -0.0011     0.0158  -0.0669 0.9467      -0.0320      0.0299\n",
      "x27   -0.2655     0.0190 -13.9410 0.0000      -0.3028     -0.2281\n",
      "x28   -0.4293     0.0266 -16.1125 0.0000      -0.4815     -0.3771\n",
      "x29   -0.6458     0.0172 -37.4929 0.0000      -0.6796     -0.6120\n",
      "x30   -0.0224     0.0132  -1.6955 0.0900      -0.0482      0.0035\n",
      "x31   -0.3949     0.0199 -19.8072 0.0000      -0.4340     -0.3559\n",
      "x32   -0.7574     0.0311 -24.3432 0.0000      -0.8184     -0.6964\n",
      "x33   -0.2207     0.0149 -14.7730 0.0000      -0.2500     -0.1914\n",
      "x34   -0.4028        nan      nan    nan          nan         nan\n",
      "x35   -0.2046 58128.0726  -0.0000 1.0000 -113929.1335 113928.7243\n",
      "x36   -0.0589        nan      nan    nan          nan         nan\n",
      "x37    0.2694     0.0257  10.4831 0.0000       0.2190      0.3198\n",
      "x38   -0.0589        nan      nan    nan          nan         nan\n",
      "x39   -0.2470     0.0160 -15.4297 0.0000      -0.2784     -0.2157\n",
      "x40    0.1496     0.0253   5.9065 0.0000       0.0999      0.1992\n",
      "x41    0.0251     0.0120   2.0883 0.0368       0.0015      0.0486\n",
      "x42    0.3742     0.0242  15.4721 0.0000       0.3268      0.4217\n",
      "x43    0.4538     0.0196  23.2007 0.0000       0.4155      0.4922\n",
      "x44    0.1295     0.0129  10.0680 0.0000       0.1043      0.1547\n",
      "x45   -0.3627     0.0343 -10.5599 0.0000      -0.4300     -0.2954\n",
      "x46   -0.2007     0.0042 -48.0250 0.0000      -0.2089     -0.1925\n",
      "x47    0.1324     0.0117  11.3153 0.0000       0.1094      0.1553\n",
      "x48    0.0722     0.0131   5.4986 0.0000       0.0465      0.0980\n",
      "x49   -0.6069     0.0210 -28.9123 0.0000      -0.6480     -0.5657\n",
      "x50   -0.4590     0.0202 -22.7430 0.0000      -0.4986     -0.4195\n",
      "x51   -0.4984     0.0218 -22.9038 0.0000      -0.5410     -0.4557\n",
      "x52   -0.4344     0.0207 -21.0323 0.0000      -0.4749     -0.3940\n",
      "x53   -1.4769     0.0398 -37.1112 0.0000      -1.5549     -1.3989\n",
      "x54   -0.1637     0.0601  -2.7237 0.0065      -0.2814     -0.0459\n",
      "=================================================================\n",
      "\n"
     ]
    }
   ],
   "source": [
    "import statsmodels.api as sm\n",
    "logit_model=sm.Logit(os_data_y.astype(int),X_training.astype(int))\n",
    "\n",
    "result=logit_model.fit()\n",
    "print(result.summary2())"
   ]
  },
  {
   "cell_type": "markdown",
   "metadata": {},
   "source": [
    "Nota: variáveis cujo pValue < 0.05 (5%) pode rejeitar a hipótese Ho, no qual a variável é não significante para a composição da variável dependente y. Dessa forma, podemos deduzir que as seguintes variáveis são não significantes: age (idade), pdays (dias do último contato), emp.var. rate, cons.price.idx, pdays_no_contact, job_entrepreneur, job_management, job_sel-employed, job_services, job_technician, job_unemployed, job_unknown, Marital_married, marital_single, marital_unknown, education_basic.6y, education_basic.9y, education_high.school, education_illiterate, education_professional.course, education_unknown, default_yes, housing_unknown, housing_yes, loan_unknown, loan_yes, day_of_week_mon, day_of_week_thu, day_of_week_tue."
   ]
  },
  {
   "cell_type": "markdown",
   "metadata": {},
   "source": [
    "# 5. Conclusão"
   ]
  },
  {
   "cell_type": "markdown",
   "metadata": {},
   "source": [
    "A campanha de promoção de vendas de depósito bancário à prazo, por meio de telemarketing, obteve subscrição de apenas 11 % dos potenciais clientes abordados. Possivelmente, devido ao fato que a abordagem para determinadas classes ou condições sociais econômicas sejam impeditivas ou não entenderem o tipo de investimento que lhes são propostos. Depósito bancário à prazo pode ser interessante se os juros pagos no resgate forem também interessantes. O euribor3m é a é taxa interbancária contra a qual um grupo representativo de bancos europeus contrai empréstimos mutuamente cuja duração é de 3 meses, muito similar o CDB do Brasil, o ajuste de juros de empréstimos, conta poupança, hipoteca, etc seguem essa taxa. O nosso modelo indicou o eurobor3m como feature importante, como esperado que fosse. Algumas pessoas veem valor com esse tipo de transação bancária, pois pode emprestar o dinheiro por um tempo para o banco em troca de juros, como é o caso de aposentados (job_retired) e estudantes (job_student), pois tem nível universitário (education_university.degree) e portanto é de se esperar que entendam o mecanismo da aplicação financeira. O clima econômico parece favorecer potenciais clientes para aquisição da aplicação como indica a média trimestral do número total de cidadãos empregados (nr.employed) e a taxa de variação de empregabilidade trimestral (emp.var.rate). A enquete durante a campanha mostra que potenciais clientes escondem se os mesmos tem algum problema com débitos pendentes (default_unknown). Contato por meio de telefone ou celular (contact), ou mais de um contato (campaign), com o cliente, também se já houve um contato prévio bem sucedido (poutcome_success) ou não existente (poutcome_nonexistent), com uma certa duração (duration), parecem influir na aquisição do plano do depósito à prazo. Alguns meses no ano tiveram melhor aceitação da campanha como março, maio, julho, agosto, setembro, novembro e dezembro. O melhor dia da semana para abordar clientes foi quarta-feira."
   ]
  }
 ],
 "metadata": {
  "kernelspec": {
   "display_name": "Python 3",
   "language": "python",
   "name": "python3"
  },
  "language_info": {
   "codemirror_mode": {
    "name": "ipython",
    "version": 3
   },
   "file_extension": ".py",
   "mimetype": "text/x-python",
   "name": "python",
   "nbconvert_exporter": "python",
   "pygments_lexer": "ipython3",
   "version": "3.7.7"
  }
 },
 "nbformat": 4,
 "nbformat_minor": 4
}
